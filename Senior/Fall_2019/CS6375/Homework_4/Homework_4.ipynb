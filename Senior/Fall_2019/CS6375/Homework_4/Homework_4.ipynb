{
 "cells": [
  {
   "cell_type": "code",
   "execution_count": 2,
   "metadata": {},
   "outputs": [],
   "source": [
    "from __future__ import division\n",
    "from __future__ import print_function\n",
    "from scipy.sparse import csr_matrix\n",
    "from scipy.sparse.csgraph import minimum_spanning_tree\n",
    "import pandas as pd\n",
    "import numpy  as np"
   ]
  },
  {
   "cell_type": "code",
   "execution_count": 3,
   "metadata": {},
   "outputs": [],
   "source": [
    "data_dir = \"./small-10-datasets/\"\n",
    "data_titles = ['accidents', 'baudio', 'bnetflix', 'dna', 'jester', 'kdd', 'msnbc',\n",
    "              'nltcs', 'plants', 'r52']\n",
    "test  = dict()\n",
    "train = dict()\n",
    "valid = dict()\n",
    "\n",
    "for title in data_titles:\n",
    "    test[title]  = np.loadtxt(data_dir + title + '.test.data', delimiter=',')\n",
    "    train[title] = np.loadtxt(data_dir + title + '.ts.data', delimiter=',')\n",
    "    valid[title] = np.loadtxt(data_dir + title + '.valid.data', delimiter=',')"
   ]
  },
  {
   "cell_type": "code",
   "execution_count": 4,
   "metadata": {},
   "outputs": [],
   "source": [
    "# Bayesian Network, No edges Algorithm\n",
    "# Takes in a dataset of binary variables and takes a test set of binary variables.\n",
    "def BN_NE(T, test):\n",
    "    cols = np.transpose(T)\n",
    "    n    = len(cols)\n",
    "    p_1 = np.array([(sum(cols[i] == 1) + 1) / (len(cols[i]) + n) for i in range(n)])\n",
    "    return np.array([[p_1[i] if ti == 0 else 1 - p_1[i] for i, ti in enumerate(t)] for t in test])\n",
    "\n",
    "class BN:\n",
    "    #def __init__():\n",
    "        \n",
    "    #def fit():\n",
    "        \n",
    "    # Find Weights\n",
    "    def FW(T):\n",
    "        n = len(T)\n",
    "        A = np.transpose(T)\n",
    "        matrix = [[0 for i in range(n)] for j in range(n)]\n",
    "        \n",
    "    # Chow-Liu Algorithm\n",
    "    #def CL():\n",
    "    \n",
    "\n",
    "# Log Likelihood\n",
    "def LL(p):\n",
    "    return np.sum(np.log(p))"
   ]
  },
  {
   "cell_type": "code",
   "execution_count": 132,
   "metadata": {},
   "outputs": [],
   "source": [
    "ll = [LL(x) for x in BN_NE(train['accidents'],test['accidents'])]"
   ]
  },
  {
   "cell_type": "code",
   "execution_count": 134,
   "metadata": {},
   "outputs": [
    {
     "data": {
      "text/plain": [
       "-202.1508858538403"
      ]
     },
     "execution_count": 134,
     "metadata": {},
     "output_type": "execute_result"
    }
   ],
   "source": [
    "sum(ll) / len(ll)"
   ]
  },
  {
   "cell_type": "code",
   "execution_count": 123,
   "metadata": {},
   "outputs": [],
   "source": [
    "#O(n^3)\n",
    "def CL(T):\n",
    "    d = np.transpose(T)\n",
    "    n = len(d)\n",
    "    p_0 = [(sum(d[i] == 0) + 1) / (len(d[i] + n)) for i in range(n)]\n",
    "    p_1 = [(sum(d[i] == 1) + 1) / (len(d[i] + n)) for i in range(n)]\n",
    "    def getAssociation(i, j):\n",
    "        Ixy = 0\n",
    "        if (i != j):\n",
    "            for y in np.unique(d[j]):\n",
    "                for x in np.unique(d[i]):\n",
    "                    # P(x,y) = P(x | y) * p(y)\n",
    "                    XGY = d[i][d[j] == y]\n",
    "                    X   = d[i] == x\n",
    "                    Y   = d[j] == y\n",
    "                    py = (sum(Y) + 1) / (len(Y) + n)\n",
    "                    px = (sum(X) + 1) / (len(X) + n)\n",
    "                    pxGy = (sum(XGY) + 1) / (len(XGY) + n)\n",
    "                    pxy = pxGy * py\n",
    "                    Ixy += pxy * np.log(pxy / (px * py))\n",
    "        return Ixy\n",
    "    matrix = np.array([[getAssociation(i,j) for i in range(n)] for j in range(n)]).astype(float)\n",
    "    MST = minimum_spanning_tree(matrix * np.array(-1)).toarray()\n",
    "    return np.array([[0 if x == 0 else x * -1 for x in X] for X in MST])\n",
    "\n",
    "def BN(T):\n",
    "    CLT = CL(T)"
   ]
  },
  {
   "cell_type": "code",
   "execution_count": null,
   "metadata": {},
   "outputs": [],
   "source": []
  },
  {
   "cell_type": "code",
   "execution_count": 124,
   "metadata": {},
   "outputs": [],
   "source": [
    "M = CL(train['accidents'][0:10])"
   ]
  }
 ],
 "metadata": {
  "kernelspec": {
   "display_name": "Python 2",
   "language": "python",
   "name": "python2"
  },
  "language_info": {
   "codemirror_mode": {
    "name": "ipython",
    "version": 2
   },
   "file_extension": ".py",
   "mimetype": "text/x-python",
   "name": "python",
   "nbconvert_exporter": "python",
   "pygments_lexer": "ipython2",
   "version": "2.7.16"
  }
 },
 "nbformat": 4,
 "nbformat_minor": 2
}
