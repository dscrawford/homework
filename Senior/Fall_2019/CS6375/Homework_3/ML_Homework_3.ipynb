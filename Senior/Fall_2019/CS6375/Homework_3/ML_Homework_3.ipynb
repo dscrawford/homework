{
 "cells": [
  {
   "cell_type": "code",
   "execution_count": 1,
   "metadata": {},
   "outputs": [],
   "source": [
    "from __future__ import division\n",
    "import pandas as pd\n",
    "import numpy  as np\n",
    "import re\n",
    "import copy"
   ]
  },
  {
   "cell_type": "code",
   "execution_count": 2,
   "metadata": {},
   "outputs": [],
   "source": [
    "movie_titles = open(\"movie_titles.txt\").read()\n",
    "netflix_training = open(\"TrainingRatings.txt\").read()\n",
    "netflix_testing = open(\"TestingRatings.txt\").read()"
   ]
  },
  {
   "cell_type": "code",
   "execution_count": 3,
   "metadata": {},
   "outputs": [],
   "source": [
    "# Tranform text files into DataFrames\n",
    "movie_titles_df     = pd.DataFrame([i.split(',',2) for i in re.sub('[\\r]', '', movie_titles).split('\\n')][:-1])\n",
    "netflix_training_df = pd.DataFrame([i.split(',',2) for i in re.sub('[\\r]', '', netflix_training).split('\\n')[:-1]])\n",
    "netflix_testing_df  = pd.DataFrame([i.split(',',2) for i in re.sub('[\\r]', '', netflix_testing).split('\\n')[:-1]])\n",
    "movie_titles_df.columns = ['MovieID', 'YearOfRelease', 'Title']\n",
    "netflix_testing_df.columns = netflix_training_df.columns = ['MovieID', 'UserID', 'Rating']"
   ]
  },
  {
   "cell_type": "code",
   "execution_count": 4,
   "metadata": {},
   "outputs": [],
   "source": [
    "# Transform all relevant string values to int\n",
    "movie_titles_df['MovieID'] = movie_titles_df['MovieID'].astype(int)\n",
    "\n",
    "netflix_testing_df['MovieID'] = netflix_testing_df['MovieID'].astype(int)\n",
    "netflix_testing_df['UserID'] = netflix_testing_df['UserID'].astype(int)\n",
    "netflix_testing_df['Rating'] = netflix_testing_df['Rating'].astype(np.float64)\n",
    "\n",
    "netflix_training_df['MovieID'] = netflix_training_df['MovieID'].astype(int)\n",
    "netflix_training_df['UserID'] = netflix_training_df['UserID'].astype(int)\n",
    "netflix_training_df['Rating'] = netflix_training_df['Rating'].astype(np.float64)"
   ]
  },
  {
   "cell_type": "code",
   "execution_count": 27,
   "metadata": {},
   "outputs": [],
   "source": [
    "import time\n",
    "\n",
    "def Collaborative_Predict_Votes(train, test):\n",
    "    user_ids  = train['UserID'].values\n",
    "    movie_ids = train['MovieID'].values\n",
    "    ratings   = train['Rating'].values\n",
    "    unique_users = np.unique(user_ids)\n",
    "    ui = {user_id : np.argwhere(user_id == user_ids).flatten() \n",
    "          for user_id in unique_users}\n",
    "    all_users_avg = {user_id : Average_Vote(ratings[np.argwhere(user_id == user_ids)]) \n",
    "                     for user_id in unique_users}\n",
    "    all_users_vote = {user_id :\n",
    "                      { movie_id : ratings[np.argwhere(movie_ids == movie_id)][0][0] \n",
    "                       for movie_id in movie_ids[ui[user_id]]}\n",
    "                      for user_id in unique_users}\n",
    "    test_ids       = test['UserID'].values\n",
    "    test_movie_ids = test['MovieID'].values\n",
    "    #return [Predict_User_Vote(all_users_vote, all_users_avg, movie_ids, user_ids, ui, target_user_id, test_movie_ids[i])\n",
    "            #for i, target_user_id in enumerate(test_ids)]\n",
    "    return all_users_avg\n",
    "        \n",
    "\n",
    "def Predict_User_Vote(all_users_vote, all_users_avg, movie_ids, user_ids, ui, target_user_id, target_movie_id):\n",
    "    print target_user_id\n",
    "    user_avg   = all_users_avg[target_user_id]\n",
    "    user_votes = all_users_vote[target_user_id]\n",
    "    other_users_votes = all_users_vote.copy().pop(target_user_id)\n",
    "    other_users_avg   = all_user_avg.copy().pop(target_user_id)\n",
    "    tui = ui[target_user_id]\n",
    "    rui = ui.copy().pop(target_user_id)\n",
    "    relevant_users = np.unique([user_ids[i] for i in np.argwhere(movie_ids == target_movie_id).flatten()])\n",
    "    correlated_weights = np.array([Correlation_Weight(user_avg, other_users_avg[user_id], user_votes,\n",
    "                                             other_users_vote[user_id], \n",
    "                                             Get_Common_Movies(tui, rui[user_id], movie_ids)) \n",
    "                          for user_id in relevant_users])\n",
    "    voting_avg_diff = np.array([(other_users_vote[user_id][target_movie_id] - other_users_avg[user_id])\n",
    "                               for user_id in relevant_users])\n",
    "    k = 1 / np.sum(np.absolute(correlated_weights))\n",
    "    weight_sum = np.sum(correlated_weights * voting_avg_diff)\n",
    "    return user_avg + k * weight_sum\n",
    "    \n",
    "def Average_Vote(votes):\n",
    "    return np.sum(votes) / len(votes)\n",
    "    \n",
    "def Get_Common_Movies(tui, rui, movie_ids):\n",
    "    return np.intersect1d(movie_ids[tui], movie_ids[rui])\n",
    "\n",
    "def Correlation_Weight(user_avg, other_user_avg, user_votes, other_user_votes, common_movies):\n",
    "    if (len(common_movies) == 0):\n",
    "        return 0\n",
    "    numerator   = np.sum( [ (user_votes[common_movie] - user_avg) \n",
    "                           * (other_user_votes[common_movie] - other_user_avg) \n",
    "                           for common_movie in common_movies])\n",
    "    if (numerator == 0):\n",
    "        return 0\n",
    "    denominator = np.sqrt(np.sum( [(user_votes[common_movie] - user_avg)**2 for common_movie in common_movies]) *\n",
    "                          np.sum( [(other_user_votes[common_movie] - other_user_avg)**2 for common_movie in common_movies])\n",
    "                         )\n",
    "    return numerator / denominator"
   ]
  },
  {
   "cell_type": "code",
   "execution_count": null,
   "metadata": {},
   "outputs": [],
   "source": [
    "a = Collaborative_Predict_Votes(netflix_training_df, netflix_testing_df[0:3])\n",
    "a"
   ]
  },
  {
   "cell_type": "code",
   "execution_count": 34,
   "metadata": {},
   "outputs": [
    {
     "data": {
      "text/plain": [
       "array([1744889, 1395430, 1205593, ...,  571547, 2080843, 2383861])"
      ]
     },
     "execution_count": 34,
     "metadata": {},
     "output_type": "execute_result"
    }
   ],
   "source": [
    "netflix_training_df['UserID'].unique()"
   ]
  }
 ],
 "metadata": {
  "kernelspec": {
   "display_name": "Python 2",
   "language": "python",
   "name": "python2"
  },
  "language_info": {
   "codemirror_mode": {
    "name": "ipython",
    "version": 2
   },
   "file_extension": ".py",
   "mimetype": "text/x-python",
   "name": "python",
   "nbconvert_exporter": "python",
   "pygments_lexer": "ipython2",
   "version": "2.7.16"
  }
 },
 "nbformat": 4,
 "nbformat_minor": 2
}
