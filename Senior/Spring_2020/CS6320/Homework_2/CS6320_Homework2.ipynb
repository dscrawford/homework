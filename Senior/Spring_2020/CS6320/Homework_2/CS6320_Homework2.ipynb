{
 "cells": [
  {
   "cell_type": "code",
   "execution_count": 54,
   "metadata": {
    "collapsed": true,
    "pycharm": {
     "is_executing": false
    }
   },
   "outputs": [
    {
     "traceback": [
      "\u001b[0;31m---------------------------------------------------------------------------\u001b[0m",
      "\u001b[0;31mModuleNotFoundError\u001b[0m                       Traceback (most recent call last)",
      "\u001b[0;32m<ipython-input-54-7b95b5c5a2fa>\u001b[0m in \u001b[0;36m<module>\u001b[0;34m()\u001b[0m\n\u001b[1;32m      5\u001b[0m \u001b[0;32mfrom\u001b[0m \u001b[0msklearn\u001b[0m\u001b[0;34m.\u001b[0m\u001b[0mmetrics\u001b[0m \u001b[0;32mimport\u001b[0m \u001b[0maccuracy_score\u001b[0m\u001b[0;34m,\u001b[0m \u001b[0mf1_score\u001b[0m\u001b[0;34m,\u001b[0m \u001b[0mprecision_score\u001b[0m\u001b[0;34m,\u001b[0m \u001b[0mrecall_score\u001b[0m\u001b[0;34m\u001b[0m\u001b[0;34m\u001b[0m\u001b[0m\n\u001b[1;32m      6\u001b[0m \u001b[0;32mfrom\u001b[0m \u001b[0mos\u001b[0m \u001b[0;32mimport\u001b[0m \u001b[0mlistdir\u001b[0m\u001b[0;34m\u001b[0m\u001b[0;34m\u001b[0m\u001b[0m\n\u001b[0;32m----> 7\u001b[0;31m \u001b[0;32mfrom\u001b[0m \u001b[0mos\u001b[0m\u001b[0;34m.\u001b[0m\u001b[0msys\u001b[0m \u001b[0;32mimport\u001b[0m \u001b[0margv\u001b[0m\u001b[0;34m\u001b[0m\u001b[0;34m\u001b[0m\u001b[0m\n\u001b[0m\u001b[1;32m      8\u001b[0m \u001b[0;32mfrom\u001b[0m \u001b[0mos\u001b[0m\u001b[0;34m.\u001b[0m\u001b[0mpath\u001b[0m \u001b[0;32mimport\u001b[0m \u001b[0mexists\u001b[0m\u001b[0;34m\u001b[0m\u001b[0;34m\u001b[0m\u001b[0m\n\u001b[1;32m      9\u001b[0m \u001b[0;32mdef\u001b[0m \u001b[0mreportPerformance\u001b[0m\u001b[0;34m(\u001b[0m\u001b[0my_pred\u001b[0m\u001b[0;34m,\u001b[0m \u001b[0mtest_labels\u001b[0m\u001b[0;34m,\u001b[0m \u001b[0mmodel_name\u001b[0m\u001b[0;34m)\u001b[0m\u001b[0;34m:\u001b[0m\u001b[0;34m\u001b[0m\u001b[0;34m\u001b[0m\u001b[0m\n",
      "\u001b[0;31mModuleNotFoundError\u001b[0m: No module named 'os.sys'; 'os' is not a package"
     ],
     "ename": "ModuleNotFoundError",
     "evalue": "No module named 'os.sys'; 'os' is not a package",
     "output_type": "error"
    }
   ],
   "source": [
    "from sklearn.feature_extraction.text import CountVectorizer\n",
    "from sklearn.feature_extraction.text import TfidfVectorizer\n",
    "from sklearn.linear_model import LogisticRegression\n",
    "from sklearn.naive_bayes import MultinomialNB\n",
    "from sklearn.metrics import accuracy_score, f1_score, precision_score, recall_score\n",
    "from os import listdir\n",
    "from os.sys import argv\n",
    "from os.path import exists\n",
    "def reportPerformance(y_pred, test_labels, model_name):\n",
    "    print(model_name)\n",
    "    print('Accuracy:  ',accuracy_score(y_pred, test_labels),'\\n',\n",
    "          'Precision: ',precision_score(y_pred, test_labels),'\\n',\n",
    "          'Recall:    ',recall_score(y_pred, test_labels),'\\n',\n",
    "          'F-Score:   ',f1_score(y_pred, test_labels),'\\n', sep='')"
   ]
  },
  {
   "cell_type": "code",
   "execution_count": null,
   "outputs": [],
   "source": [
    "if len(argv) != 7:\n",
    "    print('Error: Insufficient amount of arguments')\n",
    "    exit(1)\n",
    "train_dir = argv[1] + '/'\n",
    "test_dir  = argv[2] + '/'\n",
    "representation = argv[3]\n",
    "classifier = argv[4]\n",
    "stop_words = argv[5]\n",
    "regularization = argv[6]\n",
    "if not exists(train_dir):\n",
    "    print('Error: train directory \\'', train_dir,\n",
    "          '\\' does not exist.', sep='')\n",
    "    exit(1)\n",
    "if not exists(test_dir):\n",
    "    print('Error: test directory \\'', test_dir,\n",
    "          '\\' does not exist.', sep='')\n",
    "    exit(1)\n",
    "if representation not in ['bow', 'tfidf']:\n",
    "    print('Error: representation \\'', representation,\n",
    "          '\\' is not supported', sep='')\n",
    "    exit(1)\n",
    "if classifier not in ['nbayes', 'regression']:\n",
    "    print('Error: classifier \\'', classifier, \n",
    "          '\\' is not supported', sep='')\n",
    "    exit(1)\n",
    "if stop_words not in ['0', '1']:\n",
    "    print('Error: stop words must be 0 or 1')\n",
    "    exit(1)\n",
    "if regularization not in ['no', 'l1', 'l2']:\n",
    "    print('Error: regularization must be no, l1 or l2')\n",
    "    exit(1)\n",
    "stop_words = int(stop_words)"
   ],
   "metadata": {
    "collapsed": false,
    "pycharm": {
     "name": "#%%\n"
    }
   }
  },
  {
   "cell_type": "code",
   "execution_count": 49,
   "outputs": [],
   "source": [
    "train_labels = []\n",
    "train_files = []\n",
    "test_labels = []\n",
    "test_files = []\n",
    "label_dir = ['neg', 'pos']\n",
    "\n",
    "CV = CountVectorizer(input='filename', stop_words='english')\n",
    "TV = TfidfVectorizer(input='filename', stop_words='english')\n",
    "for l in label_dir:\n",
    "    for file in listdir(train_dir + l + '/'):\n",
    "        train_labels.append(0 if l == 'neg' else 1)\n",
    "        train_files.append(train_dir + l + '/' + file)\n",
    "    for file in listdir(test_dir + l + '/'):\n",
    "        test_labels.append(0 if l == 'neg' else 1)\n",
    "        test_files.append(test_dir + l + '/' + file)\n",
    "CVF = CV.fit_transform(train_files)\n",
    "TVF = TV.fit_transform(train_files)\n",
    "CVT = CV.transform(test_files)\n",
    "TVT = TV.transform(test_files)"
   ],
   "metadata": {
    "collapsed": false,
    "pycharm": {
     "name": "#%%\n",
     "is_executing": false
    }
   }
  },
  {
   "cell_type": "code",
   "execution_count": 51,
   "outputs": [],
   "source": [
    "LR1 = LogisticRegression()\n",
    "X1 = LR1.fit(CVF, train_labels)\n",
    "LR2 = LogisticRegression()\n",
    "X2 = LR2.fit(TVF, train_labels)"
   ],
   "metadata": {
    "collapsed": false,
    "pycharm": {
     "name": "#%%\n",
     "is_executing": false
    }
   }
  },
  {
   "cell_type": "code",
   "execution_count": 52,
   "outputs": [],
   "source": [
    "NB1 = MultinomialNB()\n",
    "X3 = NB1.fit(CVF, train_labels)\n",
    "NB2 = MultinomialNB()\n",
    "X4 = NB2.fit(TVF, train_labels)"
   ],
   "metadata": {
    "collapsed": false,
    "pycharm": {
     "name": "#%%\n",
     "is_executing": false
    }
   }
  },
  {
   "cell_type": "code",
   "execution_count": 53,
   "outputs": [
    {
     "name": "stdout",
     "text": [
      "Logistic Regression with CountVectorizer\n",
      "Accuracy:  0.85908\n",
      "Precision: 0.85016\n",
      "Recall:    0.8656023458499633\n",
      "F-Score:   0.8578116801872704\n",
      "\n",
      "Logistic Regression with TfidfVectorizer\n",
      "Accuracy:  0.879\n",
      "Precision: 0.88048\n",
      "Recall:    0.877881470846295\n",
      "F-Score:   0.8791788153532771\n",
      "\n",
      "Naive Bayes with CountVectorizer\n",
      "Accuracy:  0.81968\n",
      "Precision: 0.75976\n",
      "Recall:    0.8632066896927831\n",
      "F-Score:   0.8081865373159731\n",
      "\n",
      "Naive Bayes with TfidfVectorizer\n",
      "Accuracy:  0.82992\n",
      "Precision: 0.78152\n",
      "Recall:    0.8652790079716564\n",
      "F-Score:   0.8212694409415722\n",
      "\n"
     ],
     "output_type": "stream"
    }
   ],
   "source": [
    "reportPerformance(X1.predict(CVT), test_labels, 'Logistic Regression with CountVectorizer')\n",
    "reportPerformance(X2.predict(TVT), test_labels, 'Logistic Regression with TfidfVectorizer')\n",
    "reportPerformance(X3.predict(CVT), test_labels, 'Naive Bayes with CountVectorizer')\n",
    "reportPerformance(X4.predict(TVT), test_labels, 'Naive Bayes with TfidfVectorizer')\n",
    "\n"
   ],
   "metadata": {
    "collapsed": false,
    "pycharm": {
     "name": "#%%\n",
     "is_executing": false
    }
   }
  }
 ],
 "metadata": {
  "kernelspec": {
   "display_name": "Python 3",
   "language": "python",
   "name": "python3"
  },
  "language_info": {
   "codemirror_mode": {
    "name": "ipython",
    "version": 2
   },
   "file_extension": ".py",
   "mimetype": "text/x-python",
   "name": "python",
   "nbconvert_exporter": "python",
   "pygments_lexer": "ipython2",
   "version": "2.7.6"
  },
  "pycharm": {
   "stem_cell": {
    "cell_type": "raw",
    "source": [],
    "metadata": {
     "collapsed": false
    }
   }
  }
 },
 "nbformat": 4,
 "nbformat_minor": 0
}