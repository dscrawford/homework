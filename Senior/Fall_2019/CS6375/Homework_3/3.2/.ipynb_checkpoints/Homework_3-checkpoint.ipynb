{
 "cells": [
  {
   "cell_type": "code",
   "execution_count": 1,
   "metadata": {},
   "outputs": [],
   "source": [
    "import sklearn\n",
    "import numpy as np\n",
    "import gzip\n",
    "import matplotlib.pyplot as plt"
   ]
  },
  {
   "cell_type": "code",
   "execution_count": 2,
   "metadata": {},
   "outputs": [],
   "source": [
    "from sklearn.datasets import fetch_openml\n",
    "# Cross validation will be used so test set is not always defined.\n",
    "X, y = fetch_openml('mnist_784', version=1, return_X_y=True)\n",
    "\n",
    "Xtrain, ytrain = X[:60000], y[:60000]\n",
    "Xtest, ytest = X[:60000], y[:60000]"
   ]
  },
  {
   "cell_type": "code",
   "execution_count": 3,
   "metadata": {},
   "outputs": [
    {
     "data": {
      "image/png": "[encoded data removed]",
      "text/plain": [
       "<Figure size 432x288 with 1 Axes>"
      ]
     },
     "metadata": {
      "needs_background": "light"
     },
     "output_type": "display_data"
    }
   ],
   "source": [
    "imageSize = 28\n",
    "numImages = 70000\n",
    "\n",
    "data = X\n",
    "data = data.reshape(numImages, imageSize, imageSize, 1)\n",
    "\n",
    "image = np.array(data[10]).squeeze()\n",
    "plt.imshow(image)\n",
    "plt.show()"
   ]
  },
  {
   "cell_type": "code",
   "execution_count": null,
   "metadata": {},
   "outputs": [],
   "source": [
    "from sklearn.svm import SVC\n",
    "from sklearn.model_selection import GridSearchCV\n",
    "parameters = {'kernel': ('linear', 'rbf', 'poly', 'sigmoid'), 'C': [1, 5, 10]}\n",
    "svc = SVC(gamma = 'scale', cache_size = 1024, max_iter = 500, shrinking = True)\n",
    "clf = GridSearchCV(estimator = svc, param_grid = parameters, n_jobs = 8)\n",
    "clf.fit(X, y)"
   ]
  },
  {
   "cell_type": "code",
   "execution_count": null,
   "metadata": {},
   "outputs": [],
   "source": [
    "for i,param in enumerate(clf.cv_results_['params']):\n",
    "    print str(param) + str(': ') + str(1 - clf.cv_results_['mean_test_score'][i])"
   ]
  },
  {
   "cell_type": "code",
   "execution_count": 4,
   "metadata": {},
   "outputs": [
    {
     "name": "stderr",
     "output_type": "stream",
     "text": [
      "/home/daniel/.conda/envs/csgrads1/lib/python2.7/site-packages/sklearn/model_selection/_split.py:2052: FutureWarning: You should specify a value for 'cv' instead of relying on the default value. The default value will change from 3 to 5 in version 0.22.\n",
      "  warnings.warn(CV_WARNING, FutureWarning)\n",
      "/home/daniel/.conda/envs/csgrads1/lib/python2.7/site-packages/sklearn/neural_network/multilayer_perceptron.py:562: ConvergenceWarning: Stochastic Optimizer: Maximum iterations (200) reached and the optimization hasn't converged yet.\n",
      "  % self.max_iter, ConvergenceWarning)\n"
     ]
    },
    {
     "data": {
      "text/plain": [
       "GridSearchCV(cv='warn', error_score='raise-deprecating',\n",
       "       estimator=MLPClassifier(activation='relu', alpha=0.0001, batch_size='auto', beta_1=0.9,\n",
       "       beta_2=0.999, early_stopping=False, epsilon=1e-08,\n",
       "       hidden_layer_sizes=(100,), learning_rate='constant',\n",
       "       learning_rate_init=0.001, max_iter=200, momentum=0.9,\n",
       "       n_iter_no_change=10, nesterovs_momentum=True, power_t=0.5,\n",
       "       random_state=None, shuffle=True, solver='adam', tol=0.0001,\n",
       "       validation_fraction=0.1, verbose=False, warm_start=False),\n",
       "       fit_params=None, iid='warn', n_jobs=8,\n",
       "       param_grid={'alpha': [1, 10], 'activation': ['identity', 'logistic'], 'solver': ['lbfgs', 'sgd', 'adam'], 'hidden_layer_sizes': [50, 100, 150]},\n",
       "       pre_dispatch='2*n_jobs', refit=True, return_train_score='warn',\n",
       "       scoring=None, verbose=0)"
      ]
     },
     "execution_count": 4,
     "metadata": {},
     "output_type": "execute_result"
    }
   ],
   "source": [
    "from sklearn.neural_network import MLPClassifier\n",
    "from sklearn.model_selection import GridSearchCV\n",
    "parameters = {'activation': ['identity', 'logistic'], \n",
    "              'hidden_layer_sizes': [50, 100, 150],\n",
    "              'solver': ['lbfgs', 'sgd', 'adam'],\n",
    "              'alpha': [1, 10]}\n",
    "mlp  = MLPClassifier()\n",
    "clf2 = GridSearchCV(estimator = mlp, param_grid = parameters, n_jobs=8)\n",
    "clf2.fit(X, y)"
   ]
  },
  {
   "cell_type": "code",
   "execution_count": 12,
   "metadata": {},
   "outputs": [
    {
     "name": "stdout",
     "output_type": "stream",
     "text": [
      "{'alpha': 1, 'activation': 'identity', 'solver': 'lbfgs', 'hidden_layer_sizes': 50}: 0.11004285714285711\n",
      "{'alpha': 1, 'activation': 'identity', 'solver': 'sgd', 'hidden_layer_sizes': 50}: 0.9013857142857142\n",
      "{'alpha': 1, 'activation': 'identity', 'solver': 'adam', 'hidden_layer_sizes': 50}: 0.09618571428571432\n",
      "{'alpha': 1, 'activation': 'identity', 'solver': 'lbfgs', 'hidden_layer_sizes': 100}: 0.11761428571428567\n",
      "{'alpha': 1, 'activation': 'identity', 'solver': 'sgd', 'hidden_layer_sizes': 100}: 0.9013857142857142\n",
      "{'alpha': 1, 'activation': 'identity', 'solver': 'adam', 'hidden_layer_sizes': 100}: 0.10815714285714284\n",
      "{'alpha': 1, 'activation': 'identity', 'solver': 'lbfgs', 'hidden_layer_sizes': 150}: 0.11704285714285712\n",
      "{'alpha': 1, 'activation': 'identity', 'solver': 'sgd', 'hidden_layer_sizes': 150}: 0.9013857142857142\n",
      "{'alpha': 1, 'activation': 'identity', 'solver': 'adam', 'hidden_layer_sizes': 150}: 0.10054285714285716\n",
      "{'alpha': 10, 'activation': 'identity', 'solver': 'lbfgs', 'hidden_layer_sizes': 50}: 0.10925714285714283\n",
      "{'alpha': 10, 'activation': 'identity', 'solver': 'sgd', 'hidden_layer_sizes': 50}: 0.9013857142857142\n",
      "{'alpha': 10, 'activation': 'identity', 'solver': 'adam', 'hidden_layer_sizes': 50}: 0.08889999999999998\n",
      "{'alpha': 10, 'activation': 'identity', 'solver': 'lbfgs', 'hidden_layer_sizes': 100}: 0.11668571428571428\n",
      "{'alpha': 10, 'activation': 'identity', 'solver': 'sgd', 'hidden_layer_sizes': 100}: 0.9013857142857142\n",
      "{'alpha': 10, 'activation': 'identity', 'solver': 'adam', 'hidden_layer_sizes': 100}: 0.10070000000000001\n",
      "{'alpha': 10, 'activation': 'identity', 'solver': 'lbfgs', 'hidden_layer_sizes': 150}: 0.11705714285714286\n",
      "{'alpha': 10, 'activation': 'identity', 'solver': 'sgd', 'hidden_layer_sizes': 150}: 0.9013857142857142\n",
      "{'alpha': 10, 'activation': 'identity', 'solver': 'adam', 'hidden_layer_sizes': 150}: 0.09809999999999997\n",
      "{'alpha': 1, 'activation': 'logistic', 'solver': 'lbfgs', 'hidden_layer_sizes': 50}: 0.07497142857142858\n",
      "{'alpha': 1, 'activation': 'logistic', 'solver': 'sgd', 'hidden_layer_sizes': 50}: 0.05610000000000004\n",
      "{'alpha': 1, 'activation': 'logistic', 'solver': 'adam', 'hidden_layer_sizes': 50}: 0.06768571428571424\n",
      "{'alpha': 1, 'activation': 'logistic', 'solver': 'lbfgs', 'hidden_layer_sizes': 100}: 0.05501428571428568\n",
      "{'alpha': 1, 'activation': 'logistic', 'solver': 'sgd', 'hidden_layer_sizes': 100}: 0.04690000000000005\n",
      "{'alpha': 1, 'activation': 'logistic', 'solver': 'adam', 'hidden_layer_sizes': 100}: 0.06161428571428573\n",
      "{'alpha': 1, 'activation': 'logistic', 'solver': 'lbfgs', 'hidden_layer_sizes': 150}: 0.04590000000000005\n",
      "{'alpha': 1, 'activation': 'logistic', 'solver': 'sgd', 'hidden_layer_sizes': 150}: 0.04297142857142855\n",
      "{'alpha': 1, 'activation': 'logistic', 'solver': 'adam', 'hidden_layer_sizes': 150}: 0.057842857142857196\n",
      "{'alpha': 10, 'activation': 'logistic', 'solver': 'lbfgs', 'hidden_layer_sizes': 50}: 0.07347142857142852\n",
      "{'alpha': 10, 'activation': 'logistic', 'solver': 'sgd', 'hidden_layer_sizes': 50}: 0.07908571428571431\n",
      "{'alpha': 10, 'activation': 'logistic', 'solver': 'adam', 'hidden_layer_sizes': 50}: 0.09427142857142856\n",
      "{'alpha': 10, 'activation': 'logistic', 'solver': 'lbfgs', 'hidden_layer_sizes': 100}: 0.05324285714285715\n",
      "{'alpha': 10, 'activation': 'logistic', 'solver': 'sgd', 'hidden_layer_sizes': 100}: 0.0636714285714286\n",
      "{'alpha': 10, 'activation': 'logistic', 'solver': 'adam', 'hidden_layer_sizes': 100}: 0.08954285714285715\n",
      "{'alpha': 10, 'activation': 'logistic', 'solver': 'lbfgs', 'hidden_layer_sizes': 150}: 0.043742857142857194\n",
      "{'alpha': 10, 'activation': 'logistic', 'solver': 'sgd', 'hidden_layer_sizes': 150}: 0.05611428571428567\n",
      "{'alpha': 10, 'activation': 'logistic', 'solver': 'adam', 'hidden_layer_sizes': 150}: 0.08438571428571429\n"
     ]
    }
   ],
   "source": [
    "for i,param in enumerate(clf2.cv_results_['params']):\n",
    "    print str(param) + str(': ') + str(1 - clf2.cv_results_['mean_test_score'][i])"
   ]
  },
  {
   "cell_type": "code",
   "execution_count": null,
   "metadata": {
    "scrolled": true
   },
   "outputs": [
    {
     "name": "stdout",
     "output_type": "stream",
     "text": [
      "      Iter       Train Loss   Remaining Time \n",
      "         1      114861.2351           13.40m\n",
      "         2      101162.6134           13.12m\n",
      "         3       91021.4627           13.16m\n",
      "         4       83195.2972           13.07m\n",
      "         5       76081.9456           13.15m\n",
      "         6       70264.7887           13.26m\n",
      "         7       65163.6136           13.22m\n",
      "         8       60796.0857           13.16m\n",
      "         9       56783.8175           13.23m\n",
      "        10       53191.0278           13.23m\n",
      "        20       33195.0727           12.33m\n",
      "        30       24202.7833           10.96m\n",
      "        40       19218.1727            9.45m\n",
      "        50       16123.5921            7.90m\n",
      "        60       13886.8445            6.35m\n",
      "        70       12314.8101            4.72m\n",
      "        80       11060.7544            3.12m\n",
      "        90       10046.7644            1.55m\n",
      "       100        9269.0165            0.00s\n",
      "      Iter       Train Loss   Remaining Time \n",
      "         1      121266.2389            6.82m\n",
      "         2      110704.9390            6.62m\n",
      "         3      102218.6175            6.70m\n",
      "         4       95319.1703            6.69m\n",
      "         5       89391.6663            6.70m\n",
      "         6       83639.0168            6.76m\n",
      "         7       78752.8241            6.85m\n",
      "         8       74546.6871            6.87m\n",
      "         9       70789.2223            6.91m\n",
      "        10       67550.8424            6.83m\n",
      "        20       46881.3437            6.36m\n",
      "        30       36470.7678            5.59m\n",
      "        40       30346.9379            4.81m\n",
      "        50       26339.0959            4.02m\n",
      "        60       23523.4565            3.20m\n",
      "        70       21257.0765            2.39m\n",
      "        80       19443.5926            1.58m\n",
      "        90       18011.5243           47.33s\n",
      "       100       16873.9986            0.00s\n",
      "      Iter       Train Loss   Remaining Time \n",
      "         1      130211.0913            2.38m\n",
      "         2      124351.8715            2.36m\n",
      "         3      119620.5772            2.34m\n",
      "         4      115239.2615            2.31m\n",
      "         5      111367.5291            2.29m\n",
      "         6      107807.3440            2.27m\n",
      "         7      104386.1789            2.27m\n",
      "         8      101301.6881            2.26m\n",
      "         9       98341.6858            2.24m\n",
      "        10       95867.3578            2.22m\n",
      "        20       75251.4279            2.00m\n",
      "        30       63066.6472            1.76m\n",
      "        40       54667.6401            1.51m\n",
      "        50       48865.2687            1.27m\n",
      "        60       44400.4513            1.01m\n",
      "        70       41159.1572           45.56s\n",
      "        80       38461.2121           30.34s\n",
      "        90       36266.1562           15.13s\n",
      "       100       34561.5605            0.00s\n",
      "      Iter       Train Loss   Remaining Time \n"
     ]
    }
   ],
   "source": [
    "from sklearn.ensemble import GradientBoostingClassifier\n",
    "from sklearn.model_selection import GridSearchCV\n",
    "gbc = GradientBoostingClassifier(loss='deviance',criterion='mse', verbose=1, max_depth=3, max_features = 'sqrt')\n",
    "gbc.fit(Xtrain, ytrain)\n",
    "\n",
    "gbc2 = GradientBoostingClassifier(loss='deviance',criterion='mse', verbose=1, max_depth=2, , max_features = 'sqrt')\n",
    "gbc2.fit(Xtrain, ytrain)\n",
    "\n",
    "gbc3 = GradientBoostingClassifier(loss='deviance',criterion='mse', verbose=1, max_depth=1, , max_features = 'sqrt')\n",
    "gbc3.fit(Xtrain, ytrain)"
   ]
  },
  {
   "cell_type": "code",
   "execution_count": null,
   "metadata": {},
   "outputs": [],
   "source": [
    "gbc4 = GradientBoostingClassifier(loss='deviance',criterion='mae', verbose=1, max_depth=3,\n",
    "                                  max_features = 'sqrt')\n",
    "gbc4.fit(Xtrain, ytrain)\n",
    "\n",
    "gbc5 = GradientBoostingClassifier(loss='deviance',criterion='mae', verbose=1, max_depth=2,\n",
    "                                  max_features = 'sqrt')\n",
    "gbc5.fit(Xtrain, ytrain)\n",
    "\n",
    "gbc6 = GradientBoostingClassifier(loss='deviance',criterion='mae', verbose=1, max_depth=1,\n",
    "                                  max_features = 'sqrt')\n",
    "gbc6.fit(Xtrain, ytrain)"
   ]
  },
  {
   "cell_type": "code",
   "execution_count": null,
   "metadata": {},
   "outputs": [],
   "source": [
    "gbc7 = GradientBoostingClassifier(loss='deviance',criterion='friedman_mse', verbose=1, max_depth=3,\n",
    "                                  max_features = 'sqrt')\n",
    "gbc7.fit(Xtrain, ytrain)\n",
    "\n",
    "gbc8 = GradientBoostingClassifier(loss='deviance',criterion='friedman_mse', verbose=1, max_depth=2,\n",
    "                                  max_features = 'sqrt')\n",
    "gbc8.fit(Xtrain, ytrain)\n",
    "\n",
    "gbc9 = GradientBoostingClassifier(loss='deviance',criterion='friedman_mse', verbose=1, max_depth=1,\n",
    "                                  max_features = 'sqrt')\n",
    "gbc9.fit(Xtrain, ytrain)\n",
    "\n",
    "gbc10 = GradientBoostingClassifier(loss='deviance',criterion='friedman_mse', verbose=1, max_depth=1,\n",
    "                                  learning_rate = 0.01, max_features = 'sqrt')\n",
    "gbc10.fit(Xtrain, ytrain)"
   ]
  },
  {
   "cell_type": "code",
   "execution_count": null,
   "metadata": {},
   "outputs": [],
   "source": [
    "print 'mse with max depth 3 error rate: ' + str(gbc.score(Xtest,ytest))\n",
    "print 'mse with max depth 2 error rate: ' + str(gbc2.score(Xtest,ytest))\n",
    "print 'mse with max depth 1 error rate: ' + str(gbc3.score(Xtest,ytest))\n",
    "print 'mae with max depth 3 error rate: ' + str(gbc4.score(Xtest,ytest))\n",
    "print 'mae with max depth 2 error rate: ' + str(gbc5.score(Xtest,ytest))\n",
    "print 'mae with max depth 1 error rate: ' + str(gbc6.score(Xtest,ytest))\n",
    "print 'friedman_mse with max depth 3 error rate: ' + str(gb7.score(Xtest,ytest))\n",
    "print 'friedman_mse with max depth 2 error rate: ' + str(gbc8.score(Xtest,ytest))\n",
    "print 'friedman_mse with max depth 1 error rate: ' + str(gbc9.score(Xtest,ytest))\n",
    "print 'friedman_mse with max depth 3 and learning rate 0.01 error rate: ' + str(gbc10.score(Xtest,ytest))"
   ]
  }
 ],
 "metadata": {
  "kernelspec": {
   "display_name": "Python 2",
   "language": "python",
   "name": "python2"
  },
  "language_info": {
   "codemirror_mode": {
    "name": "ipython",
    "version": 2
   },
   "file_extension": ".py",
   "mimetype": "text/x-python",
   "name": "python",
   "nbconvert_exporter": "python",
   "pygments_lexer": "ipython2",
   "version": "2.7.16"
  }
 },
 "nbformat": 4,
 "nbformat_minor": 2
}
