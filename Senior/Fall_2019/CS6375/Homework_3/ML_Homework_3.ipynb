{
 "cells": [
  {
   "cell_type": "code",
   "execution_count": 1,
   "metadata": {},
   "outputs": [],
   "source": [
    "from __future__ import division\n",
    "import pandas as pd\n",
    "import numpy  as np\n",
    "import re\n",
    "import copy\n",
    "import sys\n",
    "import datetime\n",
    "import time\n",
    "\n",
    "def update_progress(progress, seconds):\n",
    "    time = str(datetime.timedelta(seconds=seconds))\n",
    "    barLength = 10 # Modify this to change the length of the progress bar\n",
    "    status = \"\"\n",
    "    if isinstance(progress, int):\n",
    "        progress = float(progress)\n",
    "    if not isinstance(progress, float):\n",
    "        progress = 0\n",
    "        status = \"error: progress var must be float\\r\\n\"\n",
    "    if progress < 0:\n",
    "        progress = 0\n",
    "        status = \"\\nHalt...\\r\\n\"\n",
    "    if progress >= 1:\n",
    "        progress = 1\n",
    "        status = \"\\nDone...\\r\\n\"\n",
    "    block = int(round(barLength*progress))\n",
    "    text = \"\\rPercent: [{0}] {1}%, Time Taken: {2}\".format( \"#\"*block + \"-\"*(barLength-block), progress*100, time)\n",
    "    sys.stdout.write(text)\n",
    "    sys.stdout.flush()"
   ]
  },
  {
   "cell_type": "code",
   "execution_count": 2,
   "metadata": {},
   "outputs": [],
   "source": [
    "netflix_training = open(\"TrainingRatings.txt\").read()\n",
    "netflix_testing = open(\"TestingRatings.txt\").read()"
   ]
  },
  {
   "cell_type": "code",
   "execution_count": 4,
   "metadata": {},
   "outputs": [
    {
     "name": "stdout",
     "output_type": "stream",
     "text": [
      "Reading Datasets...\n"
     ]
    }
   ],
   "source": [
    "print \"Reading Datasets...\"\n",
    "# Tranform text files into DataFrames\n",
    "netflix_training_df = pd.DataFrame([i.split(',',2) for i in re.sub('[\\r]', '', netflix_training).split('\\n')[:-1]])\n",
    "netflix_testing_df  = pd.DataFrame([i.split(',',2) for i in re.sub('[\\r]', '', netflix_testing).split('\\n')[:-1]])\n",
    "netflix_testing_df.columns = netflix_training_df.columns = ['MovieID', 'UserID', 'Rating']"
   ]
  },
  {
   "cell_type": "code",
   "execution_count": 5,
   "metadata": {},
   "outputs": [],
   "source": [
    "# Transform all relevant string values to int\n",
    "netflix_testing_df['MovieID'] = netflix_testing_df['MovieID'].astype(int)\n",
    "netflix_testing_df['UserID'] = netflix_testing_df['UserID'].astype(int)\n",
    "netflix_testing_df['Rating'] = netflix_testing_df['Rating'].astype(np.float64)\n",
    "\n",
    "netflix_training_df['MovieID'] = netflix_training_df['MovieID'].astype(int)\n",
    "netflix_training_df['UserID'] = netflix_training_df['UserID'].astype(int)\n",
    "netflix_training_df['Rating'] = netflix_training_df['Rating'].astype(np.float64)"
   ]
  },
  {
   "cell_type": "code",
   "execution_count": 6,
   "metadata": {},
   "outputs": [],
   "source": [
    "class Collaborative_Model:\n",
    "    user_ids  = None\n",
    "    movie_ids = None\n",
    "    ratings   = None\n",
    "    #ui        = None\n",
    "    all_users_avg  = None\n",
    "    all_users_vote = None\n",
    "    all_users_movies = None\n",
    "    \n",
    "    def __init__(self, train):\n",
    "        self.Prepare_Data(train)\n",
    "    \n",
    "    def Prepare_Data(self, train):\n",
    "        self.user_ids  = train['UserID'].values\n",
    "        self.movie_ids = np.array(train['MovieID'].values)\n",
    "        self.ratings   = train['Rating'].values\n",
    "        unique_users = np.unique(self.user_ids)\n",
    "        self.all_users_avg = dict(train.groupby('UserID')['Rating'].mean())\n",
    "        self.all_users_vote = dict(train.groupby('UserID')['MovieID', 'Rating'].apply(lambda x: dict(x.values.tolist())))\n",
    "        self.all_users_movies = dict(train.groupby('UserID')['MovieID'].apply(lambda x: set(x.values)))\n",
    "        \n",
    "    def Predict_Data(self, test):\n",
    "        t0 = time.time()\n",
    "        length = len(test)\n",
    "        return [self.Predict_Instance(time.time() - t0, (i + 1) / length, t)\n",
    "                for i, t in enumerate(test.values)]\n",
    "    \n",
    "    def Predict_Instance(self, seconds, progress, instance):\n",
    "        update_progress(round(progress, 5), seconds)\n",
    "        return self.Predict_User_Vote(instance[1], instance[0])\n",
    "\n",
    "    #Algorithm:\n",
    "    #First find the users average and what movie ratings they've made\n",
    "    #Now find relevant users that have voted on the target movie, \n",
    "    # then filter out the ones that are actually related to the user\n",
    "    #Use these users to find the coefficient relationship between the users and the target user\n",
    "    #Calculate the vote on movie minus average vote\n",
    "    #Set k to 1 / absolute sum of coefficients. k is 0 when there are no useful ratings in the data set\n",
    "    #Retrun user avg + k * sum(coefficients * vote difference)\n",
    "    def Predict_User_Vote(self, tuid, tmi):\n",
    "        user_avg   = self.all_users_avg[tuid]\n",
    "        user_votes = self.all_users_vote[tuid]\n",
    "        users_votes = self.all_users_vote\n",
    "        users_avg   = self.all_users_avg\n",
    "        users = np.unique(np.array([self.user_ids[i] for i in np.argwhere(self.movie_ids == tmi).flatten()]))\n",
    "        common_users = [x for x in [[user_id, self.Get_Common_Movies(tuid, user_id)] for user_id in users]\n",
    "                        if x[1] != set()]\n",
    "        coefficients = np.array([self.Pearson_Coefficient(user_avg, users_avg[user[0]],\n",
    "                                                          user_votes,users_votes[user[0]],\n",
    "                                                          user[1])\n",
    "                                 for user in common_users])\n",
    "        voting_diff = np.array([users_votes[user[0]][tmi] - users_avg[user_id] for user in common_users])\n",
    "        absolute_sum = np.sum(np.absolute(coefficients))\n",
    "        if (absolute_sum != 0):\n",
    "            k = 1 / absolute_sum\n",
    "        else:\n",
    "            return user_avg\n",
    "        weight_sum = np.sum(coefficients * voting_diff)\n",
    "        return user_avg + k * weight_sum\n",
    "\n",
    "    def Get_Common_Movies(self, tu, ou):\n",
    "        return self.all_users_movies[tu] & self.all_users_movies[ou]\n",
    "\n",
    "    def Pearson_Coefficient(self, user_avg, other_user_avg, user_votes, other_user_votes, common_movies):\n",
    "        A = np.array([user_votes[common_movie] for common_movie in common_movies]) - user_avg\n",
    "        B = np.array([other_user_votes[common_movie] for common_movie in common_movies]) - other_user_avg\n",
    "        numerator   = np.sum(A * B)\n",
    "        denominator = np.sqrt(np.sum(A**2) * np.sum(B**2))\n",
    "        if (denominator == 0):\n",
    "            return 0\n",
    "        return numerator / denominator"
   ]
  },
  {
   "cell_type": "code",
   "execution_count": 7,
   "metadata": {},
   "outputs": [],
   "source": [
    "def Mean_Absolute_Error(predictions, target):\n",
    "    return np.sum(np.absolute(predictions - target)) / len(predictions)\n",
    "\n",
    "def Root_Mean_Square_Error(predictions, target):\n",
    "    return np.sqrt( np.sum((predictions - target) ** 2) / len(predictions) )"
   ]
  },
  {
   "cell_type": "code",
   "execution_count": 8,
   "metadata": {},
   "outputs": [
    {
     "name": "stdout",
     "output_type": "stream",
     "text": [
      "Preparing data into optimal data structures...\n"
     ]
    }
   ],
   "source": [
    "print \"Preparing data into optimal data structures...\"\n",
    "predictor = Collaborative_Model(netflix_training_df)"
   ]
  },
  {
   "cell_type": "code",
   "execution_count": 9,
   "metadata": {},
   "outputs": [
    {
     "name": "stdout",
     "output_type": "stream",
     "text": [
      "Percent: [----------] 0.033%, Time Taken: 0:00:03.690810"
     ]
    },
    {
     "ename": "KeyboardInterrupt",
     "evalue": "",
     "output_type": "error",
     "traceback": [
      "\u001b[0;31m---------------------------------------------------------------------------\u001b[0m",
      "\u001b[0;31mKeyboardInterrupt\u001b[0m                         Traceback (most recent call last)",
      "\u001b[0;32m<ipython-input-9-55c789af12e6>\u001b[0m in \u001b[0;36m<module>\u001b[0;34m()\u001b[0m\n\u001b[0;32m----> 1\u001b[0;31m \u001b[0mpredictions\u001b[0m \u001b[0;34m=\u001b[0m \u001b[0mpredictor\u001b[0m\u001b[0;34m.\u001b[0m\u001b[0mPredict_Data\u001b[0m\u001b[0;34m(\u001b[0m\u001b[0mnetflix_testing_df\u001b[0m\u001b[0;34m)\u001b[0m\u001b[0;34m\u001b[0m\u001b[0m\n\u001b[0m",
      "\u001b[0;32m<ipython-input-6-29e9eda00bf6>\u001b[0m in \u001b[0;36mPredict_Data\u001b[0;34m(self, test)\u001b[0m\n\u001b[1;32m     24\u001b[0m         \u001b[0mlength\u001b[0m \u001b[0;34m=\u001b[0m \u001b[0mlen\u001b[0m\u001b[0;34m(\u001b[0m\u001b[0mtest\u001b[0m\u001b[0;34m)\u001b[0m\u001b[0;34m\u001b[0m\u001b[0m\n\u001b[1;32m     25\u001b[0m         return [self.Predict_Instance(time.time() - t0, (i + 1) / length, t)\n\u001b[0;32m---> 26\u001b[0;31m                 for i, t in enumerate(test.values)]\n\u001b[0m\u001b[1;32m     27\u001b[0m \u001b[0;34m\u001b[0m\u001b[0m\n\u001b[1;32m     28\u001b[0m     \u001b[0;32mdef\u001b[0m \u001b[0mPredict_Instance\u001b[0m\u001b[0;34m(\u001b[0m\u001b[0mself\u001b[0m\u001b[0;34m,\u001b[0m \u001b[0mseconds\u001b[0m\u001b[0;34m,\u001b[0m \u001b[0mprogress\u001b[0m\u001b[0;34m,\u001b[0m \u001b[0minstance\u001b[0m\u001b[0;34m)\u001b[0m\u001b[0;34m:\u001b[0m\u001b[0;34m\u001b[0m\u001b[0m\n",
      "\u001b[0;32m<ipython-input-6-29e9eda00bf6>\u001b[0m in \u001b[0;36mPredict_Instance\u001b[0;34m(self, seconds, progress, instance)\u001b[0m\n\u001b[1;32m     28\u001b[0m     \u001b[0;32mdef\u001b[0m \u001b[0mPredict_Instance\u001b[0m\u001b[0;34m(\u001b[0m\u001b[0mself\u001b[0m\u001b[0;34m,\u001b[0m \u001b[0mseconds\u001b[0m\u001b[0;34m,\u001b[0m \u001b[0mprogress\u001b[0m\u001b[0;34m,\u001b[0m \u001b[0minstance\u001b[0m\u001b[0;34m)\u001b[0m\u001b[0;34m:\u001b[0m\u001b[0;34m\u001b[0m\u001b[0m\n\u001b[1;32m     29\u001b[0m         \u001b[0mupdate_progress\u001b[0m\u001b[0;34m(\u001b[0m\u001b[0mround\u001b[0m\u001b[0;34m(\u001b[0m\u001b[0mprogress\u001b[0m\u001b[0;34m,\u001b[0m \u001b[0;36m5\u001b[0m\u001b[0;34m)\u001b[0m\u001b[0;34m,\u001b[0m \u001b[0mseconds\u001b[0m\u001b[0;34m)\u001b[0m\u001b[0;34m\u001b[0m\u001b[0m\n\u001b[0;32m---> 30\u001b[0;31m         \u001b[0;32mreturn\u001b[0m \u001b[0mself\u001b[0m\u001b[0;34m.\u001b[0m\u001b[0mPredict_User_Vote\u001b[0m\u001b[0;34m(\u001b[0m\u001b[0minstance\u001b[0m\u001b[0;34m[\u001b[0m\u001b[0;36m1\u001b[0m\u001b[0;34m]\u001b[0m\u001b[0;34m,\u001b[0m \u001b[0minstance\u001b[0m\u001b[0;34m[\u001b[0m\u001b[0;36m0\u001b[0m\u001b[0;34m]\u001b[0m\u001b[0;34m)\u001b[0m\u001b[0;34m\u001b[0m\u001b[0m\n\u001b[0m\u001b[1;32m     31\u001b[0m \u001b[0;34m\u001b[0m\u001b[0m\n\u001b[1;32m     32\u001b[0m     \u001b[0;31m#Algorithm:\u001b[0m\u001b[0;34m\u001b[0m\u001b[0;34m\u001b[0m\u001b[0m\n",
      "\u001b[0;32m<ipython-input-6-29e9eda00bf6>\u001b[0m in \u001b[0;36mPredict_User_Vote\u001b[0;34m(self, tuid, tmi)\u001b[0m\n\u001b[1;32m     44\u001b[0m         \u001b[0musers_avg\u001b[0m   \u001b[0;34m=\u001b[0m \u001b[0mself\u001b[0m\u001b[0;34m.\u001b[0m\u001b[0mall_users_avg\u001b[0m\u001b[0;34m\u001b[0m\u001b[0m\n\u001b[1;32m     45\u001b[0m         \u001b[0musers\u001b[0m \u001b[0;34m=\u001b[0m \u001b[0mnp\u001b[0m\u001b[0;34m.\u001b[0m\u001b[0munique\u001b[0m\u001b[0;34m(\u001b[0m\u001b[0mnp\u001b[0m\u001b[0;34m.\u001b[0m\u001b[0marray\u001b[0m\u001b[0;34m(\u001b[0m\u001b[0;34m[\u001b[0m\u001b[0mself\u001b[0m\u001b[0;34m.\u001b[0m\u001b[0muser_ids\u001b[0m\u001b[0;34m[\u001b[0m\u001b[0mi\u001b[0m\u001b[0;34m]\u001b[0m \u001b[0;32mfor\u001b[0m \u001b[0mi\u001b[0m \u001b[0;32min\u001b[0m \u001b[0mnp\u001b[0m\u001b[0;34m.\u001b[0m\u001b[0margwhere\u001b[0m\u001b[0;34m(\u001b[0m\u001b[0mself\u001b[0m\u001b[0;34m.\u001b[0m\u001b[0mmovie_ids\u001b[0m \u001b[0;34m==\u001b[0m \u001b[0mtmi\u001b[0m\u001b[0;34m)\u001b[0m\u001b[0;34m.\u001b[0m\u001b[0mflatten\u001b[0m\u001b[0;34m(\u001b[0m\u001b[0;34m)\u001b[0m\u001b[0;34m]\u001b[0m\u001b[0;34m)\u001b[0m\u001b[0;34m)\u001b[0m\u001b[0;34m\u001b[0m\u001b[0m\n\u001b[0;32m---> 46\u001b[0;31m         common_users = [x for x in [[user_id, self.Get_Common_Movies(tuid, user_id)] for user_id in users]\n\u001b[0m\u001b[1;32m     47\u001b[0m                         if x[1] != set()]\n\u001b[1;32m     48\u001b[0m         coefficients = np.array([self.Pearson_Coefficient(user_avg, users_avg[user[0]],\n",
      "\u001b[0;32m<ipython-input-6-29e9eda00bf6>\u001b[0m in \u001b[0;36mGet_Common_Movies\u001b[0;34m(self, tu, ou)\u001b[0m\n\u001b[1;32m     60\u001b[0m \u001b[0;34m\u001b[0m\u001b[0m\n\u001b[1;32m     61\u001b[0m     \u001b[0;32mdef\u001b[0m \u001b[0mGet_Common_Movies\u001b[0m\u001b[0;34m(\u001b[0m\u001b[0mself\u001b[0m\u001b[0;34m,\u001b[0m \u001b[0mtu\u001b[0m\u001b[0;34m,\u001b[0m \u001b[0mou\u001b[0m\u001b[0;34m)\u001b[0m\u001b[0;34m:\u001b[0m\u001b[0;34m\u001b[0m\u001b[0m\n\u001b[0;32m---> 62\u001b[0;31m         \u001b[0;32mreturn\u001b[0m \u001b[0mself\u001b[0m\u001b[0;34m.\u001b[0m\u001b[0mall_users_movies\u001b[0m\u001b[0;34m[\u001b[0m\u001b[0mtu\u001b[0m\u001b[0;34m]\u001b[0m \u001b[0;34m&\u001b[0m \u001b[0mself\u001b[0m\u001b[0;34m.\u001b[0m\u001b[0mall_users_movies\u001b[0m\u001b[0;34m[\u001b[0m\u001b[0mou\u001b[0m\u001b[0;34m]\u001b[0m\u001b[0;34m\u001b[0m\u001b[0m\n\u001b[0m\u001b[1;32m     63\u001b[0m \u001b[0;34m\u001b[0m\u001b[0m\n\u001b[1;32m     64\u001b[0m     \u001b[0;32mdef\u001b[0m \u001b[0mPearson_Coefficient\u001b[0m\u001b[0;34m(\u001b[0m\u001b[0mself\u001b[0m\u001b[0;34m,\u001b[0m \u001b[0muser_avg\u001b[0m\u001b[0;34m,\u001b[0m \u001b[0mother_user_avg\u001b[0m\u001b[0;34m,\u001b[0m \u001b[0muser_votes\u001b[0m\u001b[0;34m,\u001b[0m \u001b[0mother_user_votes\u001b[0m\u001b[0;34m,\u001b[0m \u001b[0mcommon_movies\u001b[0m\u001b[0;34m)\u001b[0m\u001b[0;34m:\u001b[0m\u001b[0;34m\u001b[0m\u001b[0m\n",
      "\u001b[0;31mKeyboardInterrupt\u001b[0m: "
     ]
    }
   ],
   "source": [
    "predictions = predictor.Predict_Data(netflix_testing_df)"
   ]
  },
  {
   "cell_type": "code",
   "execution_count": null,
   "metadata": {},
   "outputs": [],
   "source": [
    "print Root_Mean_Square_Error(predictions, netflix_testing_df['Rating'])"
   ]
  },
  {
   "cell_type": "code",
   "execution_count": null,
   "metadata": {},
   "outputs": [],
   "source": [
    "print Mean_Absolute_Error(predictions, netflix_testing_df['Rating'])"
   ]
  }
 ],
 "metadata": {
  "kernelspec": {
   "display_name": "Python 2",
   "language": "python",
   "name": "python2"
  },
  "language_info": {
   "codemirror_mode": {
    "name": "ipython",
    "version": 2
   },
   "file_extension": ".py",
   "mimetype": "text/x-python",
   "name": "python",
   "nbconvert_exporter": "python",
   "pygments_lexer": "ipython2",
   "version": "2.7.16"
  }
 },
 "nbformat": 4,
 "nbformat_minor": 2
}
