{
 "cells": [
  {
   "cell_type": "code",
   "execution_count": 2,
   "metadata": {},
   "outputs": [],
   "source": [
    "from __future__ import division\n",
    "from __future__ import print_function\n",
    "from scipy.sparse import csr_matrix\n",
    "from scipy.sparse.csgraph import minimum_spanning_tree\n",
    "import pandas as pd\n",
    "import numpy  as np"
   ]
  },
  {
   "cell_type": "code",
   "execution_count": 3,
   "metadata": {},
   "outputs": [],
   "source": [
    "data_dir = \"./small-10-datasets/\"\n",
    "data_titles = ['accidents', 'baudio', 'bnetflix', 'dna', 'jester', 'kdd', 'msnbc',\n",
    "              'nltcs', 'plants', 'r52']\n",
    "test  = dict()\n",
    "train = dict()\n",
    "valid = dict()\n",
    "\n",
    "for title in data_titles:\n",
    "    test[title]  = np.loadtxt(data_dir + title + '.test.data', delimiter=',')\n",
    "    train[title] = np.loadtxt(data_dir + title + '.ts.data', delimiter=',')\n",
    "    valid[title] = np.loadtxt(data_dir + title + '.valid.data', delimiter=',')"
   ]
  },
  {
   "cell_type": "code",
   "execution_count": 351,
   "metadata": {},
   "outputs": [],
   "source": [
    "# Bayesian Network, No edges Algorithm\n",
    "# Takes in a dataset of binary variables and takes a test set of binary variables.\n",
    "def BN_NE(T, test):\n",
    "    cols = np.transpose(T)\n",
    "    n    = len(cols)\n",
    "    p_1 = np.array([(sum(cols[i] == 1) + 1) / (len(cols[i]) + 2) for i in range(n)])\n",
    "    return np.array([[p_1[+i] if ti == 0 else 1 - p_1[i] for i, ti in enumerate(t)] for t in test])\n",
    "    \n",
    "# Log Likelihood\n",
    "def LL(p):\n",
    "    return np.sum(np.log(p))\n",
    "\n",
    "def AVG_LL(P):\n",
    "    return sum([LL(p) for p in P]) / len(P)"
   ]
  },
  {
   "cell_type": "code",
   "execution_count": 352,
   "metadata": {},
   "outputs": [
    {
     "data": {
      "text/plain": [
       "-210.09122926066948"
      ]
     },
     "execution_count": 352,
     "metadata": {},
     "output_type": "execute_result"
    }
   ],
   "source": [
    "AVG_LL(BN_NE(train['accidents'], test['accidents']))"
   ]
  },
  {
   "cell_type": "code",
   "execution_count": 349,
   "metadata": {},
   "outputs": [],
   "source": [
    "# Assume node 0 is root\n",
    "def Create_Network(MST):\n",
    "    n = len(MST)\n",
    "    network = [[] for i in range(n)]\n",
    "    for i in range(1,n):\n",
    "        addedNode = False\n",
    "        for j in range(1,n):\n",
    "            if (MST[j][i] != 0):\n",
    "                network[i].append(j)\n",
    "                addedNode = True\n",
    "        if (not addedNode):\n",
    "            network[i].append(0)\n",
    "    return network;\n",
    "\n",
    "# O(n^2 * size of data) when computing PxGy.\n",
    "def CL(T):\n",
    "    d = np.transpose(T)\n",
    "    n = len(d)\n",
    "    P = [0 for i in range(2)]\n",
    "    P[1] = np.array([(sum(X == 1) + 1) / (len(X) + n) for X in d])\n",
    "    P[0] = np.array([1 - p for p in p_1])\n",
    "    PxGy = [[0 for i in range(2)] for j in range(2)]\n",
    "    PxGy[1][1] = np.array([[(sum(X[Y == 1] == 1) + 1) / (sum(Y == 1) + 2) for X in d] for Y in d])\n",
    "    PxGy[0][1] = np.array([[1 - p for p in X] for X in PxGy[1][1]])\n",
    "    PxGy[1][0] = np.array([[(sum(X[Y == 0] == 1) + 1) / (sum(Y == 0) + 2) for X in d] for Y in d])\n",
    "    PxGy[0][0] = np.array([[1 - p for p in X] for X in PxGy[1][0]])\n",
    "    Ixy = [[PxGy[x][y] * P[y] * np.log2(PxGy[x][y] / P[x]) for x in range(2)] for y in range(2)]\n",
    "    M = Ixy[0][0] + Ixy[0][1] + Ixy[1][0] + Ixy[1][1]\n",
    "    MST = minimum_spanning_tree(M * np.array(-1)).toarray()\n",
    "    MST = np.array([[0 if x == 0 else x * -1 for x in X] for X in MST])\n",
    "    return Create_Network(MST)\n",
    "    \n",
    "def BN_CL(T, t):\n",
    "    CLT = CL(T)\n",
    "    d = np.transpose(T)\n",
    "    n = len(d)\n",
    "    def Compute_Probability(i, parents, test):\n",
    "        return np.product([(sum(d[i][d[p] == test] == test) + 1) \n",
    "                           / (sum(d[p] == test) + 2) for p in parents])\n",
    "    return [[Compute_Probability(i, CLT[i], test[i]) for i in range(n)] for test in t]"
   ]
  },
  {
   "cell_type": "code",
   "execution_count": null,
   "metadata": {},
   "outputs": [],
   "source": []
  },
  {
   "cell_type": "code",
   "execution_count": null,
   "metadata": {},
   "outputs": [],
   "source": [
    "AVG_LL(BN_CL(train['accidents'], test['accidents']))"
   ]
  },
  {
   "cell_type": "code",
   "execution_count": null,
   "metadata": {},
   "outputs": [],
   "source": []
  }
 ],
 "metadata": {
  "kernelspec": {
   "display_name": "Python 2",
   "language": "python",
   "name": "python2"
  },
  "language_info": {
   "codemirror_mode": {
    "name": "ipython",
    "version": 2
   },
   "file_extension": ".py",
   "mimetype": "text/x-python",
   "name": "python",
   "nbconvert_exporter": "python",
   "pygments_lexer": "ipython2",
   "version": "2.7.16"
  }
 },
 "nbformat": 4,
 "nbformat_minor": 2
}
