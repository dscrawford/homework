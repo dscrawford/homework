{
 "cells": [
  {
   "cell_type": "code",
   "execution_count": 1,
   "metadata": {},
   "outputs": [],
   "source": [
    "from __future__ import division\n",
    "from __future__ import print_function\n",
    "from scipy.sparse import csr_matrix\n",
    "from scipy.sparse.csgraph import minimum_spanning_tree\n",
    "import numpy as N, networkx as nx\n",
    "from collections import defaultdict\n",
    "import pandas as pd\n",
    "import numpy  as np"
   ]
  },
  {
   "cell_type": "code",
   "execution_count": null,
   "metadata": {},
   "outputs": [],
   "source": [
    "# BELOW CODE WAS IMPLEMENTED BY John Reid in pybool package\n",
    "# https://github.com/JohnReid/pybool/blob/master/python/pybool/chow_liu_trees.py\n",
    "# The code has been pasted here because csgrads1 was having issues installing pybool\n",
    "# Add one laplace smoothing has also been included.\n",
    "\n",
    "def marginal_distribution(X, u):\n",
    "    \"\"\"\n",
    "    Return the marginal distribution for the u'th features of the data points, X.\n",
    "    \"\"\"\n",
    "    values = defaultdict(float)\n",
    "    s = 1. / len(X)\n",
    "    for x in X:\n",
    "        values[x[u]] += s\n",
    "    return values\n",
    "\n",
    "\n",
    "\n",
    "def marginal_pair_distribution(X, u, v):\n",
    "    \"\"\"\n",
    "    Return the marginal distribution for the u'th and v'th features of the data points, X.\n",
    "    \"\"\"\n",
    "    if u > v:\n",
    "        u, v = v, u\n",
    "    values = defaultdict(float)\n",
    "    s = 1. / len(X)\n",
    "    for x in X:\n",
    "        values[(x[u], x[v])] += s\n",
    "    return values\n",
    "\n",
    "\n",
    "\n",
    "def calculate_mutual_information(X, u, v):\n",
    "    \"\"\"\n",
    "    X are the data points.\n",
    "    u and v are the indices of the features to calculate the mutual information for.\n",
    "    \"\"\"\n",
    "    if u > v:\n",
    "        u, v = v, u\n",
    "    marginal_u = marginal_distribution(X, u)\n",
    "    marginal_v = marginal_distribution(X, v)\n",
    "    marginal_uv = marginal_pair_distribution(X, u, v)\n",
    "    I = 0.\n",
    "    for x_u, p_x_u in marginal_u.iteritems():\n",
    "        for x_v, p_x_v in marginal_v.iteritems():\n",
    "            if (x_u, x_v) in marginal_uv:\n",
    "                p_x_uv = marginal_uv[(x_u, x_v)]\n",
    "                I += p_x_uv * (N.log(p_x_uv) - N.log(p_x_u) - N.log(p_x_v))\n",
    "    return I\n",
    "\n",
    "\n",
    "def build_chow_liu_tree(X, n):\n",
    "    \"\"\"\n",
    "    Build a Chow-Liu tree from the data, X. n is the number of features. The weight on each edge is\n",
    "    the negative of the mutual information between those features. The tree is returned as a networkx\n",
    "    object.\n",
    "    \"\"\"\n",
    "    G = nx.Graph()\n",
    "    for v in xrange(n):\n",
    "        G.add_node(v)\n",
    "        for u in xrange(v):\n",
    "            G.add_edge(u, v, weight=-calculate_mutual_information(X, u, v))\n",
    "    T = nx.minimum_spanning_tree(G)\n",
    "    return T"
   ]
  },
  {
   "cell_type": "code",
   "execution_count": 71,
   "metadata": {},
   "outputs": [],
   "source": [
    "data_dir = \"./small-10-datasets/\"\n",
    "data_titles = ['accidents', 'baudio', 'bnetflix', 'dna', 'jester', 'kdd', 'msnbc',\n",
    "              'nltcs', 'plants', 'r52']\n",
    "test  = dict()\n",
    "train = dict()\n",
    "valid = dict()\n",
    "\n",
    "for title in data_titles:\n",
    "    test[title]  = np.loadtxt(data_dir + title + '.test.data', delimiter=',')\n",
    "    train[title] = np.loadtxt(data_dir + title + '.ts.data', delimiter=',')\n",
    "    valid[title] = np.loadtxt(data_dir + title + '.valid.data', delimiter=',')"
   ]
  },
  {
   "cell_type": "code",
   "execution_count": 73,
   "metadata": {},
   "outputs": [],
   "source": [
    "# Bayesian Network, No edges Algorithm\n",
    "# Takes in a dataset of binary variables and takes a test set of binary variables.\n",
    "def BN_NE(T, test):\n",
    "    cols = np.transpose(T)\n",
    "    n    = len(cols)\n",
    "    p_1 = np.array([(sum(cols[i] == 1) + 1) / (len(cols[i]) + 2) for i in range(n)])\n",
    "    return np.array([[p_1[+i] if ti == 0 else 1 - p_1[i] for i, ti in enumerate(t)] for t in test])\n",
    "    \n",
    "# Log Likelihood\n",
    "def LL(p):\n",
    "    return np.sum(np.log(p))\n",
    "\n",
    "def AVG_LL(P):\n",
    "    return sum([LL(p) for p in P]) / len(P)\n",
    "\n",
    "# Assume node 0 is root\n",
    "def Create_Network(MST):\n",
    "    n = len(MST)\n",
    "    network = [[] for i in range(n)]\n",
    "    for i in range(1,n):\n",
    "        addedNode = False\n",
    "        for j in range(1,n):\n",
    "            if (MST[j][i] != 0):\n",
    "                network[i].append(j)\n",
    "                addedNode = True\n",
    "        if (not addedNode):\n",
    "            network[i].append(0)\n",
    "    return network;\n",
    "\n",
    "def BN_CL(T, t):\n",
    "    d = np.transpose(T)\n",
    "    n = len(d)\n",
    "    CLT = Create_Network(np.array(nx.adjacency_matrix(build_chow_liu_tree(T, n)).todense()))\n",
    "    def Compute_Probability(i, parents, test):\n",
    "        return np.product([(sum(d[i][d[p] == test] == test) + 1) / (sum(d[p] == test) + 2) for p in parents])\n",
    "    return [[Compute_Probability(i, CLT[i], test[i]) for i in range(n)] for test in t]"
   ]
  },
  {
   "cell_type": "code",
   "execution_count": null,
   "metadata": {},
   "outputs": [],
   "source": []
  },
  {
   "cell_type": "code",
   "execution_count": 76,
   "metadata": {},
   "outputs": [
    {
     "data": {
      "text/plain": [
       "-210.09122926066948"
      ]
     },
     "execution_count": 76,
     "metadata": {},
     "output_type": "execute_result"
    }
   ],
   "source": [
    "AVG_LL(BN_NE(train['accidents'], test['accidents']))"
   ]
  },
  {
   "cell_type": "code",
   "execution_count": null,
   "metadata": {},
   "outputs": [],
   "source": [
    "AVG_LL(BN_CL(train['accidents'], test['accidents']))"
   ]
  },
  {
   "cell_type": "code",
   "execution_count": null,
   "metadata": {},
   "outputs": [],
   "source": []
  }
 ],
 "metadata": {
  "kernelspec": {
   "display_name": "Python 2",
   "language": "python",
   "name": "python2"
  },
  "language_info": {
   "codemirror_mode": {
    "name": "ipython",
    "version": 2
   },
   "file_extension": ".py",
   "mimetype": "text/x-python",
   "name": "python",
   "nbconvert_exporter": "python",
   "pygments_lexer": "ipython2",
   "version": "2.7.16"
  }
 },
 "nbformat": 4,
 "nbformat_minor": 2
}
