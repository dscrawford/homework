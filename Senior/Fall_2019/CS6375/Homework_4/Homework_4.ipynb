{
 "cells": [
  {
   "cell_type": "code",
   "execution_count": 227,
   "metadata": {},
   "outputs": [],
   "source": [
    "from __future__ import division\n",
    "from __future__ import print_function\n",
    "from scipy.sparse import csr_matrix\n",
    "from scipy.sparse.csgraph import minimum_spanning_tree\n",
    "import pandas as pd\n",
    "import numpy  as np"
   ]
  },
  {
   "cell_type": "code",
   "execution_count": 20,
   "metadata": {},
   "outputs": [],
   "source": [
    "data_dir = \"./small-10-datasets/\"\n",
    "data_titles = ['accidents', 'baudio', 'bnetflix', 'dna', 'jester', 'kdd', 'msnbc',\n",
    "              'nltcs', 'plants', 'r52']\n",
    "test  = dict()\n",
    "train = dict()\n",
    "valid = dict()\n",
    "\n",
    "for title in data_titles:\n",
    "    test[title]  = np.loadtxt(data_dir + title + '.test.data', delimiter=',')\n",
    "    train[title] = np.loadtxt(data_dir + title + '.ts.data', delimiter=',')\n",
    "    valid[title] = np.loadtxt(data_dir + title + '.valid.data', delimiter=',')"
   ]
  },
  {
   "cell_type": "code",
   "execution_count": 102,
   "metadata": {},
   "outputs": [
    {
     "ename": "IndentationError",
     "evalue": "expected an indented block (<ipython-input-102-20a2a2df656e>, line 12)",
     "output_type": "error",
     "traceback": [
      "\u001b[0;36m  File \u001b[0;32m\"<ipython-input-102-20a2a2df656e>\"\u001b[0;36m, line \u001b[0;32m12\u001b[0m\n\u001b[0;31m    def CL():\u001b[0m\n\u001b[0m             ^\u001b[0m\n\u001b[0;31mIndentationError\u001b[0m\u001b[0;31m:\u001b[0m expected an indented block\n"
     ]
    }
   ],
   "source": [
    "# Bayesian Network, No edges Algorithm\n",
    "# Takes in a dataset of binary variables and takes a test set of binary variables.\n",
    "def BN_NE(T, t):\n",
    "    cols = np.transpose(T)\n",
    "    n    = len(cols)\n",
    "    return np.array([(sum(cols[i] == t[i]) / len(cols[i])) for i in range(0, n)])\n",
    "\n",
    "class BN:\n",
    "    def __init__():\n",
    "        \n",
    "    def fit():\n",
    "        \n",
    "    # Find Weights\n",
    "    def FW(T):\n",
    "        n = len(T)\n",
    "        A = np.transpose(T)\n",
    "        matrix = [[0 for i in range(n)] for j in range(n)]\n",
    "        \n",
    "    # Chow-Liu Algorithm\n",
    "    def CL():\n",
    "    \n",
    "\n",
    "# Log Likelihood\n",
    "def LL(p):\n",
    "    return np.sum(np.log(p))"
   ]
  },
  {
   "cell_type": "code",
   "execution_count": 106,
   "metadata": {},
   "outputs": [
    {
     "data": {
      "text/plain": [
       "array([ True,  True,  True,  True,  True,  True,  True,  True, False,\n",
       "       False,  True,  True, False,  True, False,  True,  True, False,\n",
       "        True, False,  True, False,  True, False, False,  True, False,\n",
       "        True, False, False, False, False,  True,  True,  True,  True,\n",
       "       False,  True,  True,  True, False,  True,  True, False,  True,\n",
       "       False,  True, False,  True,  True, False,  True,  True,  True,\n",
       "       False,  True,  True,  True, False,  True,  True,  True,  True,\n",
       "        True,  True,  True,  True,  True,  True,  True, False,  True,\n",
       "        True,  True,  True,  True,  True,  True,  True,  True,  True,\n",
       "        True, False,  True,  True,  True,  True,  True,  True, False,\n",
       "        True,  True,  True,  True,  True,  True,  True,  True,  True,\n",
       "        True,  True,  True,  True,  True,  True,  True,  True,  True,\n",
       "        True,  True,  True])"
      ]
     },
     "execution_count": 106,
     "metadata": {},
     "output_type": "execute_result"
    }
   ],
   "source": [
    "test['accidents'][0]  == test['accidents'][1]"
   ]
  },
  {
   "cell_type": "code",
   "execution_count": 108,
   "metadata": {},
   "outputs": [],
   "source": [
    "T = np.transpose(test['accidents'])"
   ]
  },
  {
   "cell_type": "code",
   "execution_count": 218,
   "metadata": {},
   "outputs": [],
   "source": [
    "t = test['accidents']\n",
    "d = np.transpose(train['accidents'])\n",
    "\n",
    "#O(n^3)\n",
    "def getWeights(T):\n",
    "    d = np.transpose(T)\n",
    "    n = len(d)\n",
    "    matrix = [[0 for i in range(n)] for j in range(n)]\n",
    "    for j in range(n):\n",
    "        for i in range(n):\n",
    "            if (i == j):\n",
    "                matrix[j][i] = 0\n",
    "            else:\n",
    "                Ixy = 0\n",
    "                for y in np.unique(d[i]):\n",
    "                    for x in np.unique(d[j]):\n",
    "                        # P(x,y) = P(x | y) * p(y)\n",
    "                        X = d[i] == x\n",
    "                        Y = d[j] == y\n",
    "                        py = (sum(Y) + 1) / (len(Y) + n)\n",
    "                        px = (sum(X) + 1) / (len(X) + n)\n",
    "                        pxGy = (sum(X == Y) + 1) / (len(X) + 1)\n",
    "                        pxy = pxGy * py\n",
    "                        Ixy += pxy * np.log(pxy / (px * py))\n",
    "                matrix[j][i] = Ixy\n",
    "    return matrix"
   ]
  },
  {
   "cell_type": "code",
   "execution_count": 221,
   "metadata": {},
   "outputs": [],
   "source": [
    "M = getWeights(train['accidents'][0:10])"
   ]
  },
  {
   "cell_type": "code",
   "execution_count": 266,
   "metadata": {},
   "outputs": [
    {
     "data": {
      "text/plain": [
       "array([[0., 0., 0., ..., 0., 0., 0.],\n",
       "       [0., 0., 0., ..., 0., 0., 0.],\n",
       "       [0., 0., 0., ..., 0., 0., 0.],\n",
       "       ...,\n",
       "       [0., 0., 0., ..., 0., 0., 0.],\n",
       "       [0., 0., 0., ..., 0., 0., 0.],\n",
       "       [0., 0., 0., ..., 0., 0., 0.]])"
      ]
     },
     "execution_count": 266,
     "metadata": {},
     "output_type": "execute_result"
    }
   ],
   "source": [
    "minimum_spanning_tree(csr_matrix([[(i * -1) - 1  for i in m] for m in M]))."
   ]
  },
  {
   "cell_type": "code",
   "execution_count": 264,
   "metadata": {},
   "outputs": [
    {
     "data": {
      "text/plain": [
       "array([[ 0.        , -0.24932055, -0.24932055, ..., -0.07923715,\n",
       "        -0.04446455, -0.04446455],\n",
       "       [-0.24932055,  0.        , -0.24932055, ..., -0.07923715,\n",
       "        -0.04446455, -0.04446455],\n",
       "       [-0.24932055, -0.24932055,  0.        , ..., -0.07923715,\n",
       "        -0.04446455, -0.04446455],\n",
       "       ...,\n",
       "       [-0.08187574, -0.08187574, -0.08187574, ...,  0.        ,\n",
       "        -0.25084015, -0.25084015],\n",
       "       [-0.04446455, -0.04446455, -0.04446455, ..., -0.22811581,\n",
       "         0.        , -0.24932055],\n",
       "       [-0.04446455, -0.04446455, -0.04446455, ..., -0.22811581,\n",
       "        -0.24932055,  0.        ]])"
      ]
     },
     "execution_count": 264,
     "metadata": {},
     "output_type": "execute_result"
    }
   ],
   "source": [
    "csr_matrix([[i * -1 for i in m] for m in M]).toarray()"
   ]
  },
  {
   "cell_type": "code",
   "execution_count": 254,
   "metadata": {},
   "outputs": [
    {
     "data": {
      "text/plain": [
       "-0.24932054526026956"
      ]
     },
     "execution_count": 254,
     "metadata": {},
     "output_type": "execute_result"
    }
   ],
   "source": []
  }
 ],
 "metadata": {
  "kernelspec": {
   "display_name": "Python 2",
   "language": "python",
   "name": "python2"
  },
  "language_info": {
   "codemirror_mode": {
    "name": "ipython",
    "version": 2
   },
   "file_extension": ".py",
   "mimetype": "text/x-python",
   "name": "python",
   "nbconvert_exporter": "python",
   "pygments_lexer": "ipython2",
   "version": "2.7.16"
  }
 },
 "nbformat": 4,
 "nbformat_minor": 2
}
