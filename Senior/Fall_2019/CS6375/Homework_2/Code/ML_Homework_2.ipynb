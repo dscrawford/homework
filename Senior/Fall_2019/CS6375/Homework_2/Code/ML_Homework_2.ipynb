{
 "cells": [
  {
   "cell_type": "code",
   "execution_count": 1,
   "metadata": {},
   "outputs": [],
   "source": [
    "from __future__ import division\n",
    "import pandas as pd\n",
    "import numpy  as np\n",
    "import os\n",
    "import re\n",
    "from collections import Counter\n",
    "import time, sys\n",
    "import math\n",
    "\n",
    "# Code made by Brain Khuu: https://stackoverflow.com/questions/3160699/python-progress-bar\n",
    "# update_progress() : Displays or updates a console progress bar\n",
    "## Accepts a float between 0 and 1. Any int will be converted to a float.\n",
    "## A value under 0 represents a 'halt'.\n",
    "## A value at 1 or bigger represents 100%\n",
    "def update_progress(progress):\n",
    "    \n",
    "    barLength = 10 # Modify this to change the length of the progress bar\n",
    "    status = \"\"\n",
    "    if isinstance(progress, int):\n",
    "        progress = float(progress)\n",
    "    if not isinstance(progress, float):\n",
    "        progress = 0\n",
    "        status = \"error: progress var must be float\\r\\n\"\n",
    "    if progress < 0:\n",
    "        progress = 0\n",
    "        status = \"\\nHalt...\\r\\n\"\n",
    "    if progress >= 1:\n",
    "        progress = 1\n",
    "        status = \"\\nDone...\\r\\n\"\n",
    "    block = int(round(barLength*progress))\n",
    "    text = \"\\rPercent: [{0}] {1}% {2}\".format( \"#\"*block + \"-\"*(barLength-block), progress*100, status)\n",
    "    sys.stdout.write(text)\n",
    "    sys.stdout.flush()"
   ]
  },
  {
   "cell_type": "code",
   "execution_count": 2,
   "metadata": {},
   "outputs": [],
   "source": [
    "directory = \"/home/daniel/Documents/homework/Senior/Fall_2019/CS6375/Homework_2/Code/\""
   ]
  },
  {
   "cell_type": "code",
   "execution_count": 4,
   "metadata": {},
   "outputs": [],
   "source": [
    "# Condense multiple whitespaces into one, grab only alphabetic words, convert to lowercase\n",
    "# and return array of words.\n",
    "def getAllWordsFromString(words):\n",
    "    return re.sub('\\s+', ' ',re.sub('[^a-zA-Z]+', ' ', words)).strip().lower().split(\" \")\n",
    "\n",
    "# getCountOfWords\n",
    "# Create a dictionary with the count of each word in a string.\n",
    "def getCountOfWords(words, allUniqueWords):\n",
    "    dictionary = {}\n",
    "    for word in allUniqueWords:\n",
    "        dictionary = mergeTwoDicts(dictionary, {word: words.count(word)})\n",
    "    return dictionary\n",
    "\n",
    "#getBernoulliWords\n",
    "# Create a dictionary that shows the existence of words as 1 or 0.\n",
    "def getBernoulliWords(words, allUniqueWords):\n",
    "    dictionary = {}\n",
    "    uniqueFileWords = set(getAllWordsFromString(words))\n",
    "    for word in allUniqueWords:\n",
    "        dictionary = mergeTwoDicts(dictionary, {word: int(word in uniqueFileWords)})\n",
    "    return dictionary\n",
    "        \n",
    "def getCountOfWordsWithProgressBar(words, allUniqueWords, progress):\n",
    "    progress = round(progress,3)\n",
    "    update_progress(progress)\n",
    "    return getCountOfWords(words, allUniqueWords)\n",
    "\n",
    "def getBernoulliWithProgressBar(words, allUniqueWords, progress):\n",
    "    progress = round(progress,3)\n",
    "    update_progress(progress)\n",
    "    return getBernoulliWords(words, allUniqueWords)\n",
    "\n",
    "#getProduct of Probabilities\n",
    "# returns the log probability sum of all of the elements based on bayes\n",
    "# works with both bernoulli and bag of words model\n",
    "def getProductOfProbabities(text, T):\n",
    "    featureSums = T.sum().loc[[w for w in getAllWordsFromString(text) if w in T.columns]]\n",
    "    totalWords  = T.sum().sum()\n",
    "    return np.log( (featureSums + 1) / (totalWords + len(T.columns))).sum()\n",
    "\n",
    "def mergeTwoDicts(x, y):\n",
    "    z = x.copy()\n",
    "    z.update(y)\n",
    "    return z"
   ]
  },
  {
   "cell_type": "code",
   "execution_count": 96,
   "metadata": {},
   "outputs": [],
   "source": [
    "def naiveBayesOnModel(text, T):\n",
    "    p_0 = np.log(len(T[T['isSpam'] == 0]) / len(T)) + getProductOfProbabities(text, (T[T['isSpam'] == 0]).drop('isSpam', axis=1))\n",
    "    p_1 = np.log(len(T[T['isSpam'] == 1]) / len(T)) + getProductOfProbabities(text, (T[T['isSpam'] == 1]).drop('isSpam', axis=1))\n",
    "    return 0 if p_0 > p_1 else 1\n",
    "\n",
    "def MCAPLogisticRegression()\n",
    "\n",
    "def getDirectoryContents(dataDirectory):\n",
    "    contents = np.array([])\n",
    "    for fileName in os.listdir(dataDirectory):\n",
    "        contents = np.append(contents, [open(dataDirectory + fileName).read()])\n",
    "    return contents\n",
    "\n",
    "def getBagOfWordsDataFrame(data, allUniqueWords):\n",
    "    print \"Creating DataFrame with Bag Of Words as the feature...\"\n",
    "    attributes = set(allUniqueWords)\n",
    "    df = pd.DataFrame([mergeTwoDicts({\"isSpam\": d[0]}, \n",
    "                                     getCountOfWordsWithProgressBar(d[1], \n",
    "                                                                    attributes, \n",
    "                                                                    i / (len(data) - 1)))\n",
    "                       for i,d in enumerate(data)])\n",
    "    return df\n",
    "\n",
    "def getBernoulliDataFrame(data, allUniqueWords):\n",
    "    print \"Creating DataFrame with Bernoulli model as the feature...\"\n",
    "    attributes = set(allUniqueWords)\n",
    "    df = pd.DataFrame([mergeTwoDicts({\"isSpam\": d[0]}, \n",
    "                                     getBernoulliWithProgressBar(d[1], \n",
    "                                                                 attributes, \n",
    "                                                                 i / (len(data) - 1)))\n",
    "                       for i,d in enumerate(data)])\n",
    "    return df\n",
    "\n",
    "\n",
    "\n",
    "def getAccuracyOnNaiveBayes(Test, Train):\n",
    "    return sum(Test.apply(lambda x: naiveBayesOnModel(x['text'], Train) == x['isSpam'], axis=1)) / len(Test)"
   ]
  },
  {
   "cell_type": "code",
   "execution_count": 68,
   "metadata": {},
   "outputs": [],
   "source": [
    "trainHamData  = [[0,f] for f in getDirectoryContents(directory + \"train/ham/\")]\n",
    "trainSpamData = [[1,f] for f in getDirectoryContents(directory + \"train/spam/\")]\n",
    "allTrainData  = trainHamData + trainSpamData\n",
    "testHamData   = [[0,f] for f in getDirectoryContents(directory + \"test/ham/\")]\n",
    "testSpamData  = [[1,f] for f in getDirectoryContents(directory + \"test/spam/\")]\n",
    "allTestData   = pd.DataFrame(testHamData + testSpamData).rename(columns={0: 'isSpam', 1: 'text'})"
   ]
  },
  {
   "cell_type": "code",
   "execution_count": 33,
   "metadata": {},
   "outputs": [],
   "source": [
    "#Transform all files into a single string.\n",
    "allTrainWords = ''.join([f[1] for f in allTrainData])\n",
    "#Retrieve all unique WORDS - Remove all words with numbers/punctuation and replace with space.\n",
    "allUniqueWords = np.unique(getAllWordsFromString(allTrainWords))"
   ]
  },
  {
   "cell_type": "code",
   "execution_count": 56,
   "metadata": {},
   "outputs": [
    {
     "name": "stdout",
     "output_type": "stream",
     "text": [
      "Creating DataFrame with Bernoulli model as the feature...\n",
      "Percent: [##########] 100%  \n",
      "Done...\n"
     ]
    }
   ],
   "source": [
    "#Get a dataframe with bernoulli as the feature\n",
    "trainB = getBernoulliDataFrame(allTrainData, allUniqueWords)\n",
    "#Get a dataframe with bag of words as a feature for training\n",
    "trainBOW = getBagOfWordsDataFrame(allTrainData, allUniqueWords)"
   ]
  },
  {
   "cell_type": "code",
   "execution_count": 100,
   "metadata": {},
   "outputs": [
    {
     "data": {
      "text/plain": [
       "0.9309623430962343"
      ]
     },
     "execution_count": 100,
     "metadata": {},
     "output_type": "execute_result"
    }
   ],
   "source": [
    "#MultinomialBayes\n",
    "getAccuracyOnNaiveBayes(allTestData, trainBOW)"
   ]
  },
  {
   "cell_type": "code",
   "execution_count": 94,
   "metadata": {},
   "outputs": [
    {
     "data": {
      "text/plain": [
       "0.9121338912133892"
      ]
     },
     "execution_count": 94,
     "metadata": {},
     "output_type": "execute_result"
    }
   ],
   "source": [
    "#Discrete bayes?\n",
    "getAccuracyOnNaiveBayes(allTestData, trainB)"
   ]
  }
 ],
 "metadata": {
  "kernelspec": {
   "display_name": "Python 2",
   "language": "python",
   "name": "python2"
  },
  "language_info": {
   "codemirror_mode": {
    "name": "ipython",
    "version": 2
   },
   "file_extension": ".py",
   "mimetype": "text/x-python",
   "name": "python",
   "nbconvert_exporter": "python",
   "pygments_lexer": "ipython2",
   "version": "2.7.16"
  }
 },
 "nbformat": 4,
 "nbformat_minor": 2
}
