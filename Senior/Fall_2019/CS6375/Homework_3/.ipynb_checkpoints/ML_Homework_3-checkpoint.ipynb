{
 "cells": [
  {
   "cell_type": "code",
   "execution_count": 220,
   "metadata": {},
   "outputs": [],
   "source": [
    "from __future__ import division\n",
    "import pandas as pd\n",
    "import numpy  as np\n",
    "import re\n",
    "import copy\n",
    "import sys\n",
    "import datetime\n",
    "import time\n",
    "\n",
    "def update_progress(progress, seconds):\n",
    "    time = str(datetime.timedelta(seconds=seconds))\n",
    "    barLength = 10 # Modify this to change the length of the progress bar\n",
    "    status = \"\"\n",
    "    if isinstance(progress, int):\n",
    "        progress = float(progress)\n",
    "    if not isinstance(progress, float):\n",
    "        progress = 0\n",
    "        status = \"error: progress var must be float\\r\\n\"\n",
    "    if progress < 0:\n",
    "        progress = 0\n",
    "        status = \"\\nHalt...\\r\\n\"\n",
    "    if progress >= 1:\n",
    "        progress = 1\n",
    "        status = \"\\nDone...\\r\\n\"\n",
    "    block = int(round(barLength*progress))\n",
    "    text = \"\\rPercent: [{0}] {1}%, Time Taken: {2}\".format( \"#\"*block + \"-\"*(barLength-block), progress*100, time)\n",
    "    sys.stdout.write(text)\n",
    "    sys.stdout.flush()"
   ]
  },
  {
   "cell_type": "code",
   "execution_count": 213,
   "metadata": {},
   "outputs": [],
   "source": [
    "movie_titles = open(\"movie_titles.txt\").read()\n",
    "netflix_training = open(\"TrainingRatings.txt\").read()\n",
    "netflix_testing = open(\"TestingRatings.txt\").read()"
   ]
  },
  {
   "cell_type": "code",
   "execution_count": 214,
   "metadata": {},
   "outputs": [],
   "source": [
    "# Tranform text files into DataFrames\n",
    "movie_titles_df     = pd.DataFrame([i.split(',',2) for i in re.sub('[\\r]', '', movie_titles).split('\\n')][:-1])\n",
    "netflix_training_df = pd.DataFrame([i.split(',',2) for i in re.sub('[\\r]', '', netflix_training).split('\\n')[:-1]])\n",
    "netflix_testing_df  = pd.DataFrame([i.split(',',2) for i in re.sub('[\\r]', '', netflix_testing).split('\\n')[:-1]])\n",
    "movie_titles_df.columns = ['MovieID', 'YearOfRelease', 'Title']\n",
    "netflix_testing_df.columns = netflix_training_df.columns = ['MovieID', 'UserID', 'Rating']"
   ]
  },
  {
   "cell_type": "code",
   "execution_count": 215,
   "metadata": {},
   "outputs": [],
   "source": [
    "# Transform all relevant string values to int\n",
    "movie_titles_df['MovieID'] = movie_titles_df['MovieID'].astype(int)\n",
    "\n",
    "netflix_testing_df['MovieID'] = netflix_testing_df['MovieID'].astype(int)\n",
    "netflix_testing_df['UserID'] = netflix_testing_df['UserID'].astype(int)\n",
    "netflix_testing_df['Rating'] = netflix_testing_df['Rating'].astype(np.float64)\n",
    "\n",
    "netflix_training_df['MovieID'] = netflix_training_df['MovieID'].astype(int)\n",
    "netflix_training_df['UserID'] = netflix_training_df['UserID'].astype(int)\n",
    "netflix_training_df['Rating'] = netflix_training_df['Rating'].astype(np.float64)"
   ]
  },
  {
   "cell_type": "code",
   "execution_count": 407,
   "metadata": {},
   "outputs": [],
   "source": [
    "class Collaborative_Model:\n",
    "    user_ids  = None\n",
    "    movie_ids = None\n",
    "    ratings   = None\n",
    "    #ui        = None\n",
    "    all_users_avg  = None\n",
    "    all_users_vote = None\n",
    "    all_users_movies = None\n",
    "    \n",
    "    def __init__(self, train):\n",
    "        self.Prepare_Data(train)\n",
    "    \n",
    "    def Prepare_Data(self, train):\n",
    "        self.user_ids  = train['UserID'].values\n",
    "        self.movie_ids = np.array(train['MovieID'].values)\n",
    "        self.ratings   = train['Rating'].values\n",
    "        unique_users = np.unique(self.user_ids)\n",
    "        self.all_users_avg = dict(train.groupby('UserID')['Rating'].mean())\n",
    "        self.all_users_vote = dict(train.groupby('UserID')['MovieID', 'Rating'].apply(lambda x: dict(x.values.tolist())))\n",
    "        self.all_users_movies = dict(train.groupby('UserID')['MovieID'].apply(lambda x: set(x.values)))\n",
    "        \n",
    "    def Predict_Data(self, test):\n",
    "        t0 = time.time()\n",
    "        length = len(test)\n",
    "        return [self.Predict_Instance(time.time() - t0, (i + 1) / length, t)\n",
    "                for i, t in enumerate(test.values)]\n",
    "    \n",
    "    def Predict_Instance(self, seconds, progress, instance):\n",
    "        update_progress(round(progress, 5), seconds)\n",
    "        return self.Predict_User_Vote(instance[1], instance[0])\n",
    "\n",
    "    #Algorithm:\n",
    "    #First find the users average and what movie ratings they've made\n",
    "    #Now find relevant users that have voted on the target movie, \n",
    "    # then filter out the ones that are actually related to the user\n",
    "    #Use these users to find the coefficient relationship between the users and the target user\n",
    "    #Calculate the vote on movie minus average vote\n",
    "    #Set k to 1 / absolute sum of coefficients. k is 0 when there are no useful ratings in the data set\n",
    "    #Retrun user avg + k * sum(coefficients * vote difference)\n",
    "    def Predict_User_Vote(self, tuid, tmi):\n",
    "        user_avg   = self.all_users_avg[tuid]\n",
    "        user_votes = self.all_users_vote[tuid]\n",
    "        users_votes = self.all_users_vote\n",
    "        users_avg   = self.all_users_avg\n",
    "        users = np.unique(np.array([self.user_ids[i] for i in np.argwhere(self.movie_ids == tmi).flatten()]))\n",
    "        common_users = [x for x in [[user_id, self.Get_Common_Movies(tuid, user_id)] for user_id in users]\n",
    "                        if x[1] != set()]\n",
    "        coefficients = np.array([self.Pearson_Coefficient(user_avg, users_avg[user[0]],\n",
    "                                                          user_votes,users_votes[user[0]],\n",
    "                                                          user[1])\n",
    "                                 for user in common_users])\n",
    "        voting_diff = np.array([users_votes[user[0]][tmi] - users_avg[user_id] for user in common_users])\n",
    "        absolute_sum = np.sum(np.absolute(coefficients))\n",
    "        if (absolute_sum != 0):\n",
    "            k = 1 / absolute_sum\n",
    "        else:\n",
    "            return user_avg\n",
    "        weight_sum = np.sum(coefficients * voting_diff)\n",
    "        return user_avg + k * weight_sum\n",
    "\n",
    "    def Get_Common_Movies(self, tu, ou):\n",
    "        return self.all_users_movies[tu] & self.all_users_movies[ou]\n",
    "\n",
    "    def Pearson_Coefficient(self, user_avg, other_user_avg, user_votes, other_user_votes, common_movies):\n",
    "        A = np.array([user_votes[common_movie] for common_movie in common_movies]) - user_avg\n",
    "        B = np.array([other_user_votes[common_movie] for common_movie in common_movies]) - other_user_avg\n",
    "        numerator   = np.sum(A * B)\n",
    "        denominator = np.sqrt(np.sum(A**2) * np.sum(B**2))\n",
    "        if (denominator == 0):\n",
    "            return 0\n",
    "        return numerator / denominator"
   ]
  },
  {
   "cell_type": "code",
   "execution_count": 408,
   "metadata": {},
   "outputs": [],
   "source": [
    "def Mean_Absolute_Error(predictions, target):\n",
    "    return np.sum(np.absolute(predictions - target)) / len(predictions)\n",
    "\n",
    "def Root_Mean_Square_Error(predictions, target):\n",
    "    return np.sqrt( np.sum((predictions - target) ** 2) / len(predictions) )"
   ]
  },
  {
   "cell_type": "code",
   "execution_count": 409,
   "metadata": {},
   "outputs": [
    {
     "name": "stdout",
     "output_type": "stream",
     "text": [
      "Preparing data into optimal data structures...\n"
     ]
    }
   ],
   "source": [
    "print \"Preparing data into optimal data structures...\"\n",
    "predictor = Collaborative_Model(netflix_training_df)"
   ]
  },
  {
   "cell_type": "code",
   "execution_count": 410,
   "metadata": {},
   "outputs": [
    {
     "name": "stdout",
     "output_type": "stream",
     "text": [
      "Percent: [##########] 100%, Time Taken: 11:02:00.464974822"
     ]
    }
   ],
   "source": [
    "predictions = predictor.Predict_Data(netflix_testing_df)"
   ]
  },
  {
   "cell_type": "code",
   "execution_count": 412,
   "metadata": {},
   "outputs": [
    {
     "data": {
      "text/plain": [
       "0.9494071453054062"
      ]
     },
     "execution_count": 412,
     "metadata": {},
     "output_type": "execute_result"
    }
   ],
   "source": [
    "Root_Mean_Square_Error(predictions, netflix_testing_df['Rating'])"
   ]
  },
  {
   "cell_type": "code",
   "execution_count": 413,
   "metadata": {},
   "outputs": [
    {
     "data": {
      "text/plain": [
       "0.749216926976851"
      ]
     },
     "execution_count": 413,
     "metadata": {},
     "output_type": "execute_result"
    }
   ],
   "source": [
    "Mean_Absolute_Error(predictions, netflix_testing_df['Rating'])"
   ]
  }
 ],
 "metadata": {
  "kernelspec": {
   "display_name": "Python 2",
   "language": "python",
   "name": "python2"
  },
  "language_info": {
   "codemirror_mode": {
    "name": "ipython",
    "version": 2
   },
   "file_extension": ".py",
   "mimetype": "text/x-python",
   "name": "python",
   "nbconvert_exporter": "python",
   "pygments_lexer": "ipython2",
   "version": "2.7.16"
  }
 },
 "nbformat": 4,
 "nbformat_minor": 2
}
