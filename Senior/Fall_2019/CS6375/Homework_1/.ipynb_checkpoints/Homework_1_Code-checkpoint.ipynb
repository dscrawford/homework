{
 "cells": [
  {
   "cell_type": "code",
   "execution_count": 1,
   "metadata": {},
   "outputs": [],
   "source": [
    "import pandas as pd\n",
    "import numpy as np\n",
    "import math\n",
    "from itertools import chain"
   ]
  },
  {
   "cell_type": "code",
   "execution_count": 2,
   "metadata": {},
   "outputs": [],
   "source": [
    "train = pd.read_csv(\"./all_data/train_c300_d100.csv\")\n",
    "valid = pd.read_csv(\"./all_data/valid_c300_d100.csv\")\n",
    "test  = pd.read_csv(\"./all_data/test_c300_d100.csv\")"
   ]
  },
  {
   "cell_type": "code",
   "execution_count": 3,
   "metadata": {},
   "outputs": [],
   "source": [
    "train.columns = valid.columns = test.columns = list(range(0, 501))"
   ]
  },
  {
   "cell_type": "code",
   "execution_count": 4,
   "metadata": {},
   "outputs": [],
   "source": [
    "#lg(P)\n",
    "#  return log_2(P) if P != 0, else return 0\n",
    "def lg(P):\n",
    "    return math.log(P, 2)\n",
    "\n",
    "#\n",
    "def Var_Impurity(K, K0, K1):\n",
    "    return (K0 * K1) / K**2\n",
    "\n",
    "def Entropy(K, K0, K1):\n",
    "    if (K0 == 0 or K1 == 0):\n",
    "        return 0\n",
    "    P_0 = K0 / K\n",
    "    P_1 = 1 - P_0\n",
    "    return -P_0 * lg(P_0) - P_1 * lg(P_1)\n",
    "\n",
    "#H = Current impurity, X_col = column being tested, S = data set, tA = target attribute, impF = impurity function\n",
    "#Inf_Gain(H, X_col, S, tA, impF)\n",
    "#  sum <- 0\n",
    "#  unique <- unique values in X_col of S\n",
    "#  for x in unique vals\n",
    "#    Sn <- Values in S where X_col = x\n",
    "#    occurences <- number of occurences of each unique value in tA\n",
    "#    sum <- sum + entropy(occurences)\n",
    "#  return H - sum\n",
    "def Inf_Gain(H, X_col, S, tA, impF):\n",
    "    sum = 0\n",
    "    K = len(S)\n",
    "    uniqVals = S[X_col].unique()\n",
    "    for x in uniqVals:\n",
    "        Sn  = S[S[X_col] == x]\n",
    "        occurences = Sn[tA].value_counts()\n",
    "        K0 = occurences[0] if (0 in occurences.index) else 0\n",
    "        K1 = occurences[1] if (1 in occurences.index) else 0\n",
    "        Kv = K0 + K1\n",
    "        sum = sum + (Kv / K) * impF(Kv, K0, K1)\n",
    "    return H - sum;\n",
    "\n",
    "def Get_Best_Attribute(S, tA, cols, impF):\n",
    "    H = impF(len(S), len(S[S[tA] == 0]), len(S[S[tA] == 1]))\n",
    "    maxGain = (0, 0)\n",
    "    for col in cols:\n",
    "        newGain = Inf_Gain(H, col, S, tA, impF)\n",
    "        maxGain = (col, newGain) if (newGain > maxGain[1])  else maxGain\n",
    "    return maxGain[0]\n",
    "\n",
    "#S = data, tA = target attribute, cols = columns to test on, \n",
    "#impF = impurity function\n",
    "#Grow_Tree(S,tA, cols, impF)\n",
    "#  s_uniq <- All unique classes in target attribute\n",
    "#  if s_uniq has only one value return a leaf with that value\n",
    "#  else\n",
    "#    x_j <- Attribute name with highest gain\n",
    "#    return node(x_j, \n",
    "#                Grow_Tree(S with x_j values == 0, tA, cols, impF),\n",
    "#                Grow_Tree(S with x_j values == 1, tA, cols, impF))\n",
    "def Grow_Tree(S, tA, cols, impF):\n",
    "    s_uniq = S[tA].unique();\n",
    "    if (len(s_uniq) == 1 and s_uniq[0] == 0):\n",
    "        return (0)\n",
    "    elif (len(s_uniq) == 1 and s_uniq[0] == 1):\n",
    "        return (1)\n",
    "    else:\n",
    "        x_j = Get_Best_Attribute(S,tA,cols[cols != tA],impF)\n",
    "        print(x_j)\n",
    "        return (x_j,\n",
    "                Grow_Tree(S[S[x_j] == 0], tA, cols, impF), \n",
    "                Grow_Tree(S[S[x_j] == 1], tA, cols, impF))"
   ]
  },
  {
   "cell_type": "code",
   "execution_count": 5,
   "metadata": {},
   "outputs": [],
   "source": [
    "import copy\n",
    "\n",
    "#Predict_Tree()\n",
    "# While not at leaf:\n",
    "#  If value has no nodes on left or right, break\n",
    "#  Find attribute at current node x_j\n",
    "#  Go left if value at attribute x_j == 0, otherwise go right\n",
    "# pred = leaf.val\n",
    "def pred_tree(tree, data):\n",
    "    trav_tree = copy.copy(tree)\n",
    "    atLeaf = False\n",
    "    while True:\n",
    "        if trav_tree == 0 or trav_tree == 1:\n",
    "            break;\n",
    "        if data[trav_tree[0]] == 0:\n",
    "            trav_tree = trav_tree[1]\n",
    "        else:\n",
    "            trav_tree = trav_tree[2]\n",
    "    return trav_tree\n",
    "        \n",
    "def compare_result(tree, data, tA):\n",
    "    pred = pred_tree(tree, data)\n",
    "    return pred == data[tA]"
   ]
  },
  {
   "cell_type": "code",
   "execution_count": 25,
   "metadata": {},
   "outputs": [],
   "source": [
    "#Need to change nodes from splits to leafs\n",
    "#Evaluate starting from nodes holding leaf nodes if they should be replaced\n",
    "#Continue upwards, with next level of nodes being nodes holding the nodes that are holding leafs\n",
    "\n",
    "#V = data set, tA = target attribute\n",
    "#Reduced_Error_Pruning_Helper(V,tA, tree)\n",
    "#Idea of algorithm is to reach the bottom nodes with leafs below them, then\n",
    "#evaluate the performance benefit of replacing that node with the most common sub leaf.\n",
    "#If this improves the accuracy, replace that tree node with \n",
    "def Reduced_Error_Pruning(V, tA, tree):\n",
    "    treec = copy.copy(tree)\n",
    "    return Reduced_Error_Pruning_Helper(V, tA, treec, ())\n",
    "\n",
    "def Reduced_Error_Pruning_Helper(V, tA, tree, position):\n",
    "    currTree = Traverse_Tree(tree, position)\n",
    "    treeC    = copy.copy(tree)\n",
    "    \n",
    "    if (currTree == 1 or currTree == 0):\n",
    "        return treeC\n",
    "    #Change the sub components back to treeC\n",
    "    #Issue is right now, the left side is done first and affects right side results\n",
    "    if (type(currTree[1]) == tuple):\n",
    "        treeC = Reduced_Error_Pruning_Helper(V, tA, tree, position + (0,))\n",
    "    if (type(currTree[2]) == tuple):\n",
    "        treeC = Reduced_Error_Pruning_Helper(V, tA, tree, position + (1,))\n",
    "    \n",
    "    currentAcc = Get_Tree_Accuracy(V, tA, treeC)\n",
    "    mcl        = Most_Common_Leaf(treeC)\n",
    "    newTree    = Set_Tree(treeC, mcl, copy.copy(position))\n",
    "    newAcc     = Get_Tree_Accuracy(V, tA, newTree)\n",
    "    print(newAcc, currentAcc)\n",
    "    \n",
    "    return newTree if newAcc >= currentAcc else treeC\n",
    "\n",
    "def Traverse_Tree(tree, position):\n",
    "    nTree = copy.copy(tree)\n",
    "    for i in position:\n",
    "        if (i == 0):\n",
    "            nTree = nTree[1]\n",
    "        else:\n",
    "            nTree = nTree[2]\n",
    "    return nTree;\n",
    "\n",
    "def Set_Tree(tree, newSubTree, position):\n",
    "    if (len(position) == 0):\n",
    "        return newSubTree\n",
    "    nextPos = position[0]\n",
    "    position = position[1:]\n",
    "    if (nextPos == 0):\n",
    "        return (tree[0], Set_Tree(tree[1],newSubTree,position), tree[2])\n",
    "    if (nextPos == 1):\n",
    "        return (tree[0], tree[1], Set_Tree(tree[2],newSubTree,position))\n",
    "\n",
    "def Most_Common_Leaf(tree):\n",
    "    leafs = Get_All_Leafs(tree)\n",
    "    return max(leafs, key=leafs.count)\n",
    "\n",
    "def Get_All_Leafs(tree):\n",
    "    if (type(tree) == tuple):\n",
    "        return Get_All_Leafs(tree[1]) + Get_All_Leafs(tree[2])\n",
    "    else:\n",
    "        if (tree == 0):\n",
    "            return [0]\n",
    "        else:\n",
    "            return [1]\n",
    "    \n",
    "def Get_Tree_Accuracy(D, tA, tree):\n",
    "    results = D.apply(lambda instance: compare_result(tree, instance, tA), axis=1)\n",
    "    return len(results[results == True])/len(results)"
   ]
  },
  {
   "cell_type": "code",
   "execution_count": 7,
   "metadata": {},
   "outputs": [
    {
     "name": "stdout",
     "output_type": "stream",
     "text": [
      "309\n",
      "62\n",
      "498\n",
      "132\n",
      "256\n",
      "85\n",
      "90\n",
      "2\n",
      "226\n",
      "385\n",
      "258\n",
      "31\n",
      "405\n",
      "8\n",
      "171\n",
      "5\n",
      "207\n",
      "428\n",
      "154\n",
      "31\n",
      "329\n",
      "39\n",
      "2\n",
      "71\n",
      "113\n",
      "384\n",
      "27\n",
      "172\n",
      "214\n",
      "2\n",
      "3\n"
     ]
    }
   ],
   "source": [
    "tree = Grow_Tree(train, 1, train.columns[train.columns != 0], Entropy)"
   ]
  },
  {
   "cell_type": "code",
   "execution_count": 26,
   "metadata": {
    "scrolled": true
   },
   "outputs": [
    {
     "name": "stdout",
     "output_type": "stream",
     "text": [
      "0.4371859296482412 0.46733668341708545\n",
      "0.4623115577889447 0.46733668341708545\n",
      "0.47738693467336685 0.46733668341708545\n",
      "0.47738693467336685 0.47738693467336685\n",
      "0.4472361809045226 0.47738693467336685\n",
      "0.4824120603015075 0.46733668341708545\n",
      "0.4824120603015075 0.4824120603015075\n",
      "0.4623115577889447 0.4824120603015075\n",
      "0.4623115577889447 0.46733668341708545\n",
      "0.4623115577889447 0.46733668341708545\n",
      "0.4723618090452261 0.46733668341708545\n",
      "0.4623115577889447 0.46733668341708545\n",
      "0.4623115577889447 0.46733668341708545\n",
      "0.46733668341708545 0.46733668341708545\n",
      "0.4623115577889447 0.46733668341708545\n",
      "0.5728643216080402 0.46733668341708545\n"
     ]
    }
   ],
   "source": [
    "nTree = Reduced_Error_Pruning(valid, 1, tree)"
   ]
  },
  {
   "cell_type": "code",
   "execution_count": 29,
   "metadata": {},
   "outputs": [
    {
     "data": {
      "text/plain": [
       "0.507537688442211"
      ]
     },
     "execution_count": 29,
     "metadata": {},
     "output_type": "execute_result"
    }
   ],
   "source": [
    "Get_Tree_Accuracy(train, 1, nTree)"
   ]
  },
  {
   "cell_type": "code",
   "execution_count": 12,
   "metadata": {},
   "outputs": [
    {
     "data": {
      "text/plain": [
       "0"
      ]
     },
     "execution_count": 12,
     "metadata": {},
     "output_type": "execute_result"
    }
   ],
   "source": [
    "Most_Common_Leaf(nTree)"
   ]
  },
  {
   "cell_type": "code",
   "execution_count": 19,
   "metadata": {},
   "outputs": [],
   "source": [
    "tree = (tree[0], 0, tree[2])"
   ]
  },
  {
   "cell_type": "code",
   "execution_count": null,
   "metadata": {},
   "outputs": [],
   "source": []
  }
 ],
 "metadata": {
  "kernelspec": {
   "display_name": "Python 3",
   "language": "python",
   "name": "python3"
  },
  "language_info": {
   "codemirror_mode": {
    "name": "ipython",
    "version": 3
   },
   "file_extension": ".py",
   "mimetype": "text/x-python",
   "name": "python",
   "nbconvert_exporter": "python",
   "pygments_lexer": "ipython3",
   "version": "3.7.3"
  }
 },
 "nbformat": 4,
 "nbformat_minor": 2
}
