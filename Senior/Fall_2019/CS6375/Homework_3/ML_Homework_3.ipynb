{
 "cells": [
  {
   "cell_type": "code",
   "execution_count": 227,
   "metadata": {},
   "outputs": [],
   "source": [
    "from __future__ import division\n",
    "import pandas as pd\n",
    "import numpy  as np\n",
    "import re\n",
    "import copy\n",
    "import sys\n",
    "\n",
    "def update_progress(progress):\n",
    "    \n",
    "    barLength = 10 # Modify this to change the length of the progress bar\n",
    "    status = \"\"\n",
    "    if isinstance(progress, int):\n",
    "        progress = float(progress)\n",
    "    if not isinstance(progress, float):\n",
    "        progress = 0\n",
    "        status = \"error: progress var must be float\\r\\n\"\n",
    "    if progress < 0:\n",
    "        progress = 0\n",
    "        status = \"\\nHalt...\\r\\n\"\n",
    "    if progress >= 1:\n",
    "        progress = 1\n",
    "        status = \"\\nDone...\\r\\n\"\n",
    "    block = int(round(barLength*progress))\n",
    "    text = \"\\rPercent: [{0}] {1}% {2}\".format( \"#\"*block + \"-\"*(barLength-block), progress*100, status)\n",
    "    sys.stdout.write(text)\n",
    "    sys.stdout.flush()"
   ]
  },
  {
   "cell_type": "code",
   "execution_count": 221,
   "metadata": {},
   "outputs": [],
   "source": [
    "movie_titles = open(\"movie_titles.txt\").read()\n",
    "netflix_training = open(\"TrainingRatings.txt\").read()\n",
    "netflix_testing = open(\"TestingRatings.txt\").read()"
   ]
  },
  {
   "cell_type": "code",
   "execution_count": 222,
   "metadata": {},
   "outputs": [],
   "source": [
    "# Tranform text files into DataFrames\n",
    "movie_titles_df     = pd.DataFrame([i.split(',',2) for i in re.sub('[\\r]', '', movie_titles).split('\\n')][:-1])\n",
    "netflix_training_df = pd.DataFrame([i.split(',',2) for i in re.sub('[\\r]', '', netflix_training).split('\\n')[:-1]])\n",
    "netflix_testing_df  = pd.DataFrame([i.split(',',2) for i in re.sub('[\\r]', '', netflix_testing).split('\\n')[:-1]])\n",
    "movie_titles_df.columns = ['MovieID', 'YearOfRelease', 'Title']\n",
    "netflix_testing_df.columns = netflix_training_df.columns = ['MovieID', 'UserID', 'Rating']"
   ]
  },
  {
   "cell_type": "code",
   "execution_count": 223,
   "metadata": {},
   "outputs": [],
   "source": [
    "# Transform all relevant string values to int\n",
    "movie_titles_df['MovieID'] = movie_titles_df['MovieID'].astype(int)\n",
    "\n",
    "netflix_testing_df['MovieID'] = netflix_testing_df['MovieID'].astype(int)\n",
    "netflix_testing_df['UserID'] = netflix_testing_df['UserID'].astype(int)\n",
    "netflix_testing_df['Rating'] = netflix_testing_df['Rating'].astype(np.float64)\n",
    "\n",
    "netflix_training_df['MovieID'] = netflix_training_df['MovieID'].astype(int)\n",
    "netflix_training_df['UserID'] = netflix_training_df['UserID'].astype(int)\n",
    "netflix_training_df['Rating'] = netflix_training_df['Rating'].astype(np.float64)"
   ]
  },
  {
   "cell_type": "code",
   "execution_count": 231,
   "metadata": {},
   "outputs": [],
   "source": [
    "import time\n",
    "\n",
    "class Collaborative_Model:\n",
    "    user_ids  = None\n",
    "    movie_ids = None\n",
    "    ratings   = None\n",
    "    ui        = None\n",
    "    all_users_avg  = None\n",
    "    all_users_vote = None\n",
    "    \n",
    "    def __init__(self, train):\n",
    "        self.Prepare_Data(train)\n",
    "    \n",
    "    def Prepare_Data(self, train):\n",
    "        self.user_ids  = train['UserID'].values\n",
    "        self.movie_ids = train['MovieID'].values\n",
    "        self.ratings   = train['Rating'].values\n",
    "        unique_users = np.unique(self.user_ids)\n",
    "        self.ui = {user_id : np.argwhere(user_id == self.user_ids).flatten()\n",
    "                   for user_id in unique_users}\n",
    "        self.all_users_avg = {user_id : Average_Vote(self.ratings[np.argwhere(user_id == self.user_ids)])\n",
    "                              for user_id in unique_users}\n",
    "        #Got issueshere\n",
    "        self.all_users_vote = {user_id :\n",
    "                               {movie_id : self.ratings[self.ui[user_id]][np.argwhere(self.movie_ids[self.ui[user_id]] == movie_id)][0][0] \n",
    "                                for movie_id in self.movie_ids[self.ui[user_id]]}\n",
    "                               for user_id in unique_users}\n",
    "        \n",
    "    def Predict_Data(self, test):\n",
    "        test_ids       = test['UserID'].values\n",
    "        test_movie_ids = test['MovieID'].values\n",
    "        arr = []\n",
    "        for i,target_user_id in enumerate(test_ids):\n",
    "            update_progress(i / (len(test_ids) - 1))\n",
    "            arr.append(self.Predict_User_Vote(target_user_id, test_movie_ids[i]))\n",
    "        return arr\n",
    "\n",
    "    def Predict_User_Vote(self, target_user_id, target_movie_id):\n",
    "        user_avg   = self.all_users_avg[target_user_id]\n",
    "        user_votes = self.all_users_vote[target_user_id]\n",
    "        other_users_votes = self.all_users_vote\n",
    "        other_users_avg   = self.all_users_avg\n",
    "        tui = self.ui[target_user_id]\n",
    "        rui = self.ui\n",
    "        relevant_users = np.unique(np.array([self.user_ids[i] for i in \n",
    "                                             np.argwhere(self.movie_ids == target_movie_id).flatten()]))\n",
    "        correlated_weights = np.array(\n",
    "            [self.Correlation_Weight(user_avg, other_users_avg[user_id], user_votes,other_users_votes[user_id], \n",
    "                                     self.Get_Common_Movies(tui, rui[user_id])) \n",
    "             for user_id in relevant_users]\n",
    "        )\n",
    "        voting_avg_diff = np.array(\n",
    "            [other_users_votes[user_id][target_movie_id] - other_users_avg[user_id]\n",
    "             for user_id in relevant_users]\n",
    "        )\n",
    "        k = 1 / np.sum(np.absolute(correlated_weights))\n",
    "        weight_sum = np.sum(correlated_weights * voting_avg_diff)\n",
    "        return user_avg + k * weight_sum\n",
    "\n",
    "    def Average_Vote(self, votes):\n",
    "        return np.sum(votes) / len(votes)\n",
    "\n",
    "    def Get_Common_Movies(self, tui, rui):\n",
    "        return np.intersect1d(self.movie_ids[tui], self.movie_ids[rui])\n",
    "\n",
    "    def Correlation_Weight(self, user_avg, other_user_avg, user_votes, other_user_votes, common_movies):\n",
    "        if (len(common_movies) == 0):\n",
    "            return 0\n",
    "        numerator   = np.sum( [ (user_votes[common_movie] - user_avg) \n",
    "                               * (other_user_votes[common_movie] - other_user_avg) \n",
    "                               for common_movie in common_movies])\n",
    "        if (numerator == 0):\n",
    "            return 0\n",
    "        denominator = np.sqrt(np.sum( [(user_votes[common_movie] - user_avg)**2 for common_movie in common_movies]) *\n",
    "                              np.sum( [(other_user_votes[common_movie] - other_user_avg)**2 for common_movie in common_movies]\n",
    "                                    ))\n",
    "        return numerator / denominator"
   ]
  },
  {
   "cell_type": "code",
   "execution_count": 232,
   "metadata": {},
   "outputs": [
    {
     "name": "stdout",
     "output_type": "stream",
     "text": [
      "118.888456106\n"
     ]
    }
   ],
   "source": [
    "start_time = time.time()\n",
    "a = Collaborative_Model(netflix_training_df)\n",
    "print (time.time() - start_time)"
   ]
  },
  {
   "cell_type": "code",
   "execution_count": 234,
   "metadata": {},
   "outputs": [
    {
     "name": "stdout",
     "output_type": "stream",
     "text": [
      "Percent: [#---------] 14.1414141414% "
     ]
    },
    {
     "name": "stderr",
     "output_type": "stream",
     "text": [
      "/home/daniel/.conda/envs/csgrads1/lib/python2.7/site-packages/ipykernel_launcher.py:56: RuntimeWarning: divide by zero encountered in long_scalars\n",
      "/home/daniel/.conda/envs/csgrads1/lib/python2.7/site-packages/ipykernel_launcher.py:58: RuntimeWarning: invalid value encountered in double_scalars\n"
     ]
    },
    {
     "name": "stdout",
     "output_type": "stream",
     "text": [
      "Percent: [##########] 100% 98989899% \n",
      "Done...\n"
     ]
    }
   ],
   "source": [
    "a = a.Predict_Data(netflix_testing_df[0:100])"
   ]
  },
  {
   "cell_type": "code",
   "execution_count": 239,
   "metadata": {},
   "outputs": [
    {
     "data": {
      "text/plain": [
       "array([ 3.,  3.,  3.,  3.,  3.,  3.,  3.,  4.,  4.,  3.,  3.,  1.,  3.,\n",
       "       nan,  4.,  3.,  3.,  3.,  3.,  3.,  4.,  3.,  4.,  3.,  4.,  3.,\n",
       "        4.,  3.,  3.,  2.,  3.,  3.,  3.,  3.,  4.,  4.,  4.,  3.,  3.,\n",
       "        3.,  3.,  4.,  3.,  3.,  3.,  4.,  3.,  2.,  3.,  3.,  3.,  3.,\n",
       "        4.,  4.,  4.,  3.,  3.,  4.,  3.,  3.,  3.,  4.,  3.,  3.,  3.,\n",
       "        3.,  3.,  2.,  4.,  3.,  4.,  3.,  2.,  3.,  4.,  3.,  3.,  4.,\n",
       "        3.,  4.,  3.,  3.,  3.,  3.,  3.,  4.,  4.,  4.,  3.,  4.,  3.,\n",
       "        2.,  2.,  3.,  3.,  4.,  4.,  4.,  3.,  4.])"
      ]
     },
     "execution_count": 239,
     "metadata": {},
     "output_type": "execute_result"
    }
   ],
   "source": [
    "np.round(a)"
   ]
  },
  {
   "cell_type": "code",
   "execution_count": 244,
   "metadata": {},
   "outputs": [
    {
     "data": {
      "text/plain": [
       "0.39"
      ]
     },
     "execution_count": 244,
     "metadata": {},
     "output_type": "execute_result"
    }
   ],
   "source": [
    "sum(netflix_testing_df['Rating'][0:100] == np.round(a)) / 100"
   ]
  },
  {
   "cell_type": "code",
   "execution_count": null,
   "metadata": {},
   "outputs": [],
   "source": []
  }
 ],
 "metadata": {
  "kernelspec": {
   "display_name": "Python 2",
   "language": "python",
   "name": "python2"
  },
  "language_info": {
   "codemirror_mode": {
    "name": "ipython",
    "version": 2
   },
   "file_extension": ".py",
   "mimetype": "text/x-python",
   "name": "python",
   "nbconvert_exporter": "python",
   "pygments_lexer": "ipython2",
   "version": "2.7.16"
  }
 },
 "nbformat": 4,
 "nbformat_minor": 2
}
