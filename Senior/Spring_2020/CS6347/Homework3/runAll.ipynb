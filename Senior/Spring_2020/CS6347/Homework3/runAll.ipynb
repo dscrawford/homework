{
 "cells": [
  {
   "cell_type": "code",
   "execution_count": 1,
   "metadata": {
    "collapsed": true,
    "pycharm": {
     "is_executing": false
    }
   },
   "outputs": [],
   "source": [
    "import varElim\n",
    "import random\n",
    "import time"
   ]
  },
  {
   "cell_type": "code",
   "execution_count": 2,
   "outputs": [],
   "source": [
    "def ComputeInstance(N,i,fileName):\n",
    "    network = varElim.GraphicalModel(fileName)\n",
    "    print(fileName, N)\n",
    "    t = time.time()\n",
    "    return network.sampleSumOut(i+1, N) + (time.time() - t,)"
   ],
   "metadata": {
    "collapsed": false,
    "pycharm": {
     "name": "#%%\n",
     "is_executing": false
    }
   }
  },
  {
   "cell_type": "code",
   "execution_count": 3,
   "outputs": [
    {
     "data": {
      "text/plain": "[(100, 0, 'Grids_14'),\n (100, 1, 'Grids_15'),\n (100, 2, 'Grids_16'),\n (100, 3, 'Grids_17'),\n (100, 4, 'Grids_18'),\n (1000, 0, 'Grids_14'),\n (1000, 1, 'Grids_15'),\n (1000, 2, 'Grids_16'),\n (1000, 3, 'Grids_17'),\n (1000, 4, 'Grids_18'),\n (10000, 0, 'Grids_14'),\n (10000, 1, 'Grids_15'),\n (10000, 2, 'Grids_16'),\n (10000, 3, 'Grids_17'),\n (10000, 4, 'Grids_18'),\n (20000, 0, 'Grids_14'),\n (20000, 1, 'Grids_15'),\n (20000, 2, 'Grids_16'),\n (20000, 3, 'Grids_17'),\n (20000, 4, 'Grids_18')]"
     },
     "metadata": {},
     "output_type": "execute_result",
     "execution_count": 3
    }
   ],
   "source": [
    "args = list(enumerate(['Grids_14', 'Grids_15', 'Grids_16', 'Grids_17', 'Grids_18']))\n",
    "args = [(N,) + arg for N in [100,1000,10000,20000] for arg in args]\n",
    "args"
   ],
   "metadata": {
    "collapsed": false,
    "pycharm": {
     "name": "#%%\n",
     "is_executing": false
    }
   }
  },
  {
   "cell_type": "code",
   "execution_count": 4,
   "outputs": [
    {
     "name": "stdout",
     "text": [
      "Grids_14 100\n",
      "Grids_18 100\n",
      "Grids_16 100\n",
      "Grids_15 1000\n",
      "Grids_15 100\n",
      "Grids_14 1000\n",
      "Grids_17 100\n",
      "Grids_17 1000\n",
      "Grids_14 10000\n",
      "Grids_16 10000\n",
      "Grids_16 1000\n",
      "Grids_18 1000\n",
      "Grids_15 10000\n",
      "Grids_18 10000\n",
      "Grids_15 20000\n",
      "Grids_17 10000\n",
      "Grids_14 20000\n",
      "Grids_17 20000\n",
      "Grids_16 20000\n",
      "Grids_18 20000\n",
      "Grids_14 100\n",
      "Grids_16 100\n",
      "Grids_15 1000\n",
      "Grids_18 100\n",
      "Grids_15 100\n",
      "Grids_14 1000\n",
      "Grids_17 100\n",
      "Grids_17 1000\n",
      "Grids_14 10000\n",
      "Grids_16 10000\n",
      "Grids_16 1000\n",
      "Grids_18 1000\n",
      "Grids_15 10000\n",
      "Grids_18 10000\n",
      "Grids_15 20000\n",
      "Grids_17 10000\n",
      "Grids_14 20000\n",
      "Grids_17 20000\n",
      "Grids_16 20000\n",
      "Grids_18 20000\n"
     ],
     "output_type": "stream"
    }
   ],
   "source": [
    "from multiprocessing.pool import Pool\n",
    "pool = Pool(processes=4)"
   ],
   "metadata": {
    "collapsed": false,
    "pycharm": {
     "name": "#%%\n",
     "is_executing": false
    }
   }
  },
  {
   "cell_type": "code",
   "execution_count": 5,
   "outputs": [],
   "source": [
    "random.seed(15)\n",
    "a1 = pool.starmap(ComputeInstance, args)"
   ],
   "metadata": {
    "collapsed": false,
    "pycharm": {
     "name": "#%%\n",
     "is_executing": false
    }
   }
  },
  {
   "cell_type": "code",
   "execution_count": 6,
   "outputs": [],
   "source": [
    "random.seed(20)\n",
    "a2 = pool.starmap(ComputeInstance, args)"
   ],
   "metadata": {
    "collapsed": false,
    "pycharm": {
     "name": "#%%\n",
     "is_executing": false
    }
   }
  },
  {
   "cell_type": "code",
   "execution_count": 7,
   "outputs": [
    {
     "data": {
      "text/plain": "[(370.8459217075317, 359.3967818723007, 19.973814964294434),\n (246.81608579254183, 198.64128648630492, 268.7252371311188),\n (531.3592287638469, 489.5060593665532, 254.5634481906891),\n (1093.0551907110414, 1062.3401311533148, 236.9496030807495),\n (1633.7998802084464, 1604.58997062904, 241.05330061912537),\n (369.5867524398692, 358.1466126046374, 195.40166926383972),\n (247.13778948617656, 198.97199017993916, 2643.0191802978516),\n (531.1651871255281, 489.3210177282351, 2540.216896533966),\n (1094.6741458931738, 1063.9680863354467, 2391.2032272815704),\n (1638.8014557182846, 1609.6005461388788, 2389.487853527069),\n (370.3330482886488, 358.89380845341776, 3972.0872898101807),\n (247.28807267479124, 199.12317336855412, 28725.60806941986),\n (531.2049006239346, 489.36163122664254, 27602.435697078705),\n (1094.6500213371455, 1063.9448617794185, 26185.936876296997),\n (1638.0558337471427, 1608.8558241677397, 26003.15640759468),\n (370.088008636255, 358.64881880102354, 21540.138388872147),\n (247.2645608768864, 199.0997115706491, 70974.79864025116),\n (531.3865482146106, 489.5433288173247, 65612.3833053112),\n (1095.0212723548436, 1064.3161627971265, 63848.175649404526),\n (1638.0231736774927, 1608.8232140980765, 61863.5595638752)]"
     },
     "metadata": {},
     "output_type": "execute_result",
     "execution_count": 7
    }
   ],
   "source": [
    "a1"
   ],
   "metadata": {
    "collapsed": false,
    "pycharm": {
     "name": "#%%\n",
     "is_executing": false
    }
   }
  },
  {
   "cell_type": "code",
   "execution_count": 8,
   "outputs": [
    {
     "data": {
      "text/plain": "[(366.47294244491536, 355.0238026096841, 19.84122061729431),\n (247.2763170924302, 199.10151778619309, 263.7452783584595),\n (528.5587433755817, 486.705573978288, 254.29711890220642),\n (1091.8786166182515, 1061.1635570605245, 236.76036763191223),\n (1636.1073329964975, 1606.8974234170905, 238.59984493255615),\n (370.1819219245512, 358.74178208931914, 195.73683071136475),\n (247.27006566052174, 199.10426635428536, 2637.5144968032837),\n (531.1770604425604, 489.33289104526705, 2521.145304918289),\n (1094.5137956099663, 1063.8077360522416, 2401.802989721298),\n (1636.8697141877196, 1607.6688046083123, 2398.0270104408264),\n (370.03182229664276, 358.5925824614123, 3981.7523322105408),\n (247.24199471329334, 199.07709540705716, 28761.808633565903),\n (531.3101556045051, 489.46688620721204, 27507.497922182083),\n (1095.2318340725085, 1064.5266745147767, 26143.10166835785),\n (1637.8797559921497, 1608.6797464127515, 26141.616045951843),\n (370.39424346566454, 358.9550536304296, 21406.344777584076),\n (247.13627097195666, 198.9714216657189, 70517.52429389954),\n (531.1978525747826, 489.35463317749316, 65275.46206784248),\n (1094.7623032541246, 1064.0571936964018, 63954.38954091072),\n (1637.5232930448776, 1608.3233334654592, 61469.80293750763)]"
     },
     "metadata": {},
     "output_type": "execute_result",
     "execution_count": 8
    }
   ],
   "source": [
    "a2"
   ],
   "metadata": {
    "collapsed": false,
    "pycharm": {
     "name": "#%%\n",
     "is_executing": false
    }
   }
  },
  {
   "cell_type": "code",
   "execution_count": 12,
   "outputs": [
    {
     "data": {
      "text/plain": "[((100, 0, 'Grids_14'), 370.8459217075317),\n ((100, 1, 'Grids_15'), 246.81608579254183),\n ((100, 2, 'Grids_16'), 531.3592287638469),\n ((100, 3, 'Grids_17'), 1093.0551907110414),\n ((100, 4, 'Grids_18'), 1633.7998802084464),\n ((1000, 0, 'Grids_14'), 369.5867524398692),\n ((1000, 1, 'Grids_15'), 247.13778948617656),\n ((1000, 2, 'Grids_16'), 531.1651871255281),\n ((1000, 3, 'Grids_17'), 1094.6741458931738),\n ((1000, 4, 'Grids_18'), 1638.8014557182846),\n ((10000, 0, 'Grids_14'), 370.3330482886488),\n ((10000, 1, 'Grids_15'), 247.28807267479124),\n ((10000, 2, 'Grids_16'), 531.2049006239346),\n ((10000, 3, 'Grids_17'), 1094.6500213371455),\n ((10000, 4, 'Grids_18'), 1638.0558337471427),\n ((20000, 0, 'Grids_14'), 370.088008636255),\n ((20000, 1, 'Grids_15'), 247.2645608768864),\n ((20000, 2, 'Grids_16'), 531.3865482146106),\n ((20000, 3, 'Grids_17'), 1095.0212723548436),\n ((20000, 4, 'Grids_18'), 1638.0231736774927)]"
     },
     "metadata": {},
     "output_type": "execute_result",
     "execution_count": 12
    }
   ],
   "source": [
    "[(args[i], a[0]) for i,a in enumerate(a1)]"
   ],
   "metadata": {
    "collapsed": false,
    "pycharm": {
     "name": "#%%\n",
     "is_executing": false
    }
   }
  },
  {
   "cell_type": "code",
   "execution_count": 15,
   "outputs": [
    {
     "data": {
      "text/plain": "Empty DataFrame\nColumns: [100, 1000, 10000, 20000, a100, a1000, a10000, a20000]\nIndex: []",
      "text/html": "<div>\n<style scoped>\n    .dataframe tbody tr th:only-of-type {\n        vertical-align: middle;\n    }\n\n    .dataframe tbody tr th {\n        vertical-align: top;\n    }\n\n    .dataframe thead th {\n        text-align: right;\n    }\n</style>\n<table border=\"1\" class=\"dataframe\">\n  <thead>\n    <tr style=\"text-align: right;\">\n      <th></th>\n      <th>100</th>\n      <th>1000</th>\n      <th>10000</th>\n      <th>20000</th>\n      <th>a100</th>\n      <th>a1000</th>\n      <th>a10000</th>\n      <th>a20000</th>\n    </tr>\n  </thead>\n  <tbody>\n  </tbody>\n</table>\n</div>"
     },
     "metadata": {},
     "output_type": "execute_result",
     "execution_count": 15
    }
   ],
   "source": [
    "import pandas as pd\n",
    "pd.DataFrame(columns=['100','1000','10000','20000','a100','a1000','a10000','a20000'])"
   ],
   "metadata": {
    "collapsed": false,
    "pycharm": {
     "name": "#%%\n",
     "is_executing": false
    }
   }
  },
  {
   "cell_type": "code",
   "execution_count": 18,
   "outputs": [],
   "source": [
    "import numpy as np\n",
    "np.savetxt('info1', np.array(a1))\n",
    "np.savetxt('info2', np.array(a2))"
   ],
   "metadata": {
    "collapsed": false,
    "pycharm": {
     "name": "#%%\n",
     "is_executing": false
    }
   }
  },
  {
   "cell_type": "code",
   "execution_count": 24,
   "outputs": [],
   "source": [
    "df1 = []\n",
    "for file in ['Grids_14', 'Grids_15', 'Grids_16', 'Grids_17', 'Grids_18']:\n",
    "    df1.append([a[0] for i,a in enumerate(a1) if args[i][2] == file] \n",
    "              + [a[1] for i,a in enumerate(a1) if args[i][2] == file])\n",
    "df1 = pd.DataFrame(df1,columns=['100','1000','10000','20000','a100','a1000','a10000','a20000'])"
   ],
   "metadata": {
    "collapsed": false,
    "pycharm": {
     "name": "#%%\n",
     "is_executing": false
    }
   }
  },
  {
   "cell_type": "code",
   "execution_count": 25,
   "outputs": [],
   "source": [
    "df2 = []\n",
    "for file in ['Grids_14', 'Grids_15', 'Grids_16', 'Grids_17', 'Grids_18']:\n",
    "    df2.append([a[0] for i,a in enumerate(a2) if args[i][2] == file] \n",
    "              + [a[1] for i,a in enumerate(a2) if args[i][2] == file])\n",
    "df2 = pd.DataFrame(df2,columns=['100','1000','10000','20000','a100','a1000','a10000','a20000'])"
   ],
   "metadata": {
    "collapsed": false,
    "pycharm": {
     "name": "#%%\n",
     "is_executing": false
    }
   }
  },
  {
   "cell_type": "code",
   "execution_count": 30,
   "outputs": [],
   "source": [
    "df1.to_csv('info1.csv')\n",
    "df2.to_csv('info2.csv')"
   ],
   "metadata": {
    "collapsed": false,
    "pycharm": {
     "name": "#%%\n",
     "is_executing": false
    }
   }
  },
  {
   "cell_type": "code",
   "execution_count": 48,
   "outputs": [],
   "source": [
    "df1_time = []\n",
    "for file in ['Grids_14', 'Grids_15', 'Grids_16', 'Grids_17', 'Grids_18']:\n",
    "    df1_time.append([a[2] for i,a in enumerate(a1) if args[i][2] == file])\n",
    "df1_time = pd.DataFrame(df1_time,columns=['100','1000','10000','20000'])\n",
    "df2_time = []\n",
    "for file in ['Grids_14', 'Grids_15', 'Grids_16', 'Grids_17', 'Grids_18']:\n",
    "    df2_time.append([a[2] for i,a in enumerate(a2) if args[i][2] == file])\n",
    "df2_time = pd.DataFrame(df2_time,columns=['100','1000','10000','20000'])"
   ],
   "metadata": {
    "collapsed": false,
    "pycharm": {
     "name": "#%%\n",
     "is_executing": false
    }
   }
  },
  {
   "cell_type": "code",
   "execution_count": 49,
   "outputs": [],
   "source": [
    "df1_time.to_csv('info1_time.csv')\n",
    "df2_time.to_csv('info2_time.csv')"
   ],
   "metadata": {
    "collapsed": false,
    "pycharm": {
     "name": "#%%\n",
     "is_executing": false
    }
   }
  },
  {
   "cell_type": "code",
   "execution_count": 43,
   "outputs": [],
   "source": [
    "a = [[367.397648,370.538614,370.268542,370.299589,357.372161,359.328785,358.746391, 359.015685],\n",
    "     [248.005387,247.061346,247.186788,247.238066,199.02287,198.953643,198.997617,199.052243],\n",
    "     [529.671381,531.116840,531.344843,531.405742,492.695006,489.656678,489.648598,489.515954],\n",
    "     [1098.632820,1095.744646,1094.349956,1095.242990,1060.394364,1065.424002,1064.359773,1064.135719],\n",
    "     [1638.196176,1637.135944,1637.466338,1637.793125,1601.593426,1608.788798,1608.445282,1608.740616]]\n",
    "a_time = [[22.546696,223.859153,2198.510360,4372.839394],\n",
    "          [298.690595,2978.495922,29822.127897,48461.892426],\n",
    "          [283.857006,2810.355627,28138.026610,46061.358857],\n",
    "          [261.014451,2606.334887,26139.961153,43622.749666],\n",
    "          [263.031816,2581.835453,25980.086946,43081.963175]]"
   ],
   "metadata": {
    "collapsed": false,
    "pycharm": {
     "name": "#%%\n",
     "is_executing": false
    }
   }
  },
  {
   "cell_type": "code",
   "execution_count": 44,
   "outputs": [],
   "source": [
    "df3 = pd.DataFrame(a, columns=['100','1000','10000','20000','a100','a1000','a10000','a20000'])\n",
    "df3_time = pd.DataFrame(a_time,columns=['100','1000','10000','20000'])"
   ],
   "metadata": {
    "collapsed": false,
    "pycharm": {
     "name": "#%%\n",
     "is_executing": false
    }
   }
  },
  {
   "cell_type": "code",
   "execution_count": 47,
   "outputs": [],
   "source": [
    "df3.to_csv('info3.csv')\n",
    "df3_time.to_csv('info3_time.csv')\n"
   ],
   "metadata": {
    "collapsed": false,
    "pycharm": {
     "name": "#%%\n",
     "is_executing": false
    }
   }
  }
 ],
 "metadata": {
  "kernelspec": {
   "display_name": "Python 3",
   "language": "python",
   "name": "python3"
  },
  "language_info": {
   "codemirror_mode": {
    "name": "ipython",
    "version": 2
   },
   "file_extension": ".py",
   "mimetype": "text/x-python",
   "name": "python",
   "nbconvert_exporter": "python",
   "pygments_lexer": "ipython2",
   "version": "2.7.6"
  },
  "pycharm": {
   "stem_cell": {
    "cell_type": "raw",
    "source": [],
    "metadata": {
     "collapsed": false
    }
   }
  }
 },
 "nbformat": 4,
 "nbformat_minor": 0
}