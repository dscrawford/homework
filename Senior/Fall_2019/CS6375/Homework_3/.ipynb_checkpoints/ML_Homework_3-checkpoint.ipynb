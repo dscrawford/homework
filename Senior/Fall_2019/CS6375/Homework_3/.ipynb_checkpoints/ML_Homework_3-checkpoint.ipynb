{
 "cells": [
  {
   "cell_type": "code",
   "execution_count": 190,
   "metadata": {},
   "outputs": [],
   "source": [
    "from __future__ import division\n",
    "import pandas as pd\n",
    "import numpy  as np\n",
    "import re\n",
    "import copy\n",
    "import sys\n",
    "import datetime\n",
    "\n",
    "def update_progress(progress, seconds):\n",
    "    time = str(datetime.timedelta(seconds))\n",
    "    barLength = 10 # Modify this to change the length of the progress bar\n",
    "    status = \"\"\n",
    "    if isinstance(progress, int):\n",
    "        progress = float(progress)\n",
    "    if not isinstance(progress, float):\n",
    "        progress = 0\n",
    "        status = \"error: progress var must be float\\r\\n\"\n",
    "    if progress < 0:\n",
    "        progress = 0\n",
    "        status = \"\\nHalt...\\r\\n\"\n",
    "    if progress >= 1:\n",
    "        progress = 1\n",
    "        status = \"\\nDone...\\r\\n\"\n",
    "    block = int(round(barLength*progress))\n",
    "    text = \"\\rPercent: [{0}] {1}% {2}, Time Taken: {3}\".format( \"#\"*block + \"-\"*(barLength-block), progress*100, status, time)\n",
    "    sys.stdout.write(text)\n",
    "    sys.stdout.flush()"
   ]
  },
  {
   "cell_type": "code",
   "execution_count": 2,
   "metadata": {},
   "outputs": [],
   "source": [
    "movie_titles = open(\"movie_titles.txt\").read()\n",
    "netflix_training = open(\"TrainingRatings.txt\").read()\n",
    "netflix_testing = open(\"TestingRatings.txt\").read()"
   ]
  },
  {
   "cell_type": "code",
   "execution_count": 4,
   "metadata": {},
   "outputs": [],
   "source": [
    "# Tranform text files into DataFrames\n",
    "movie_titles_df     = pd.DataFrame([i.split(',',2) for i in re.sub('[\\r]', '', movie_titles).split('\\n')][:-1])\n",
    "netflix_training_df = pd.DataFrame([i.split(',',2) for i in re.sub('[\\r]', '', netflix_training).split('\\n')[:-1]])\n",
    "netflix_testing_df  = pd.DataFrame([i.split(',',2) for i in re.sub('[\\r]', '', netflix_testing).split('\\n')[:-1]])\n",
    "movie_titles_df.columns = ['MovieID', 'YearOfRelease', 'Title']\n",
    "netflix_testing_df.columns = netflix_training_df.columns = ['MovieID', 'UserID', 'Rating']"
   ]
  },
  {
   "cell_type": "code",
   "execution_count": 5,
   "metadata": {},
   "outputs": [],
   "source": [
    "# Transform all relevant string values to int\n",
    "movie_titles_df['MovieID'] = movie_titles_df['MovieID'].astype(int)\n",
    "\n",
    "netflix_testing_df['MovieID'] = netflix_testing_df['MovieID'].astype(int)\n",
    "netflix_testing_df['UserID'] = netflix_testing_df['UserID'].astype(int)\n",
    "netflix_testing_df['Rating'] = netflix_testing_df['Rating'].astype(np.float64)\n",
    "\n",
    "netflix_training_df['MovieID'] = netflix_training_df['MovieID'].astype(int)\n",
    "netflix_training_df['UserID'] = netflix_training_df['UserID'].astype(int)\n",
    "netflix_training_df['Rating'] = netflix_training_df['Rating'].astype(np.float64)"
   ]
  },
  {
   "cell_type": "code",
   "execution_count": 39,
   "metadata": {},
   "outputs": [
    {
     "data": {
      "text/plain": [
       "UserID\n",
       "7          {9728.0: 4.0, 12293.0: 5.0, 8.0: 5.0, 10255.0:...\n",
       "79         {9728.0: 3.0, 12293.0: 4.0, 1202.0: 3.0, 6408....\n",
       "199        {9728.0: 3.0, 15712.0: 3.0, 12293.0: 4.0, 6408...\n",
       "481        {13298.0: 5.0, 14209.0: 4.0, 16082.0: 5.0, 108...\n",
       "769        {9728.0: 2.0, 3904.0: 4.0, 12293.0: 5.0, 13326...\n",
       "906        {5760.0: 5.0, 8384.0: 3.0, 12292.0: 4.0, 12293...\n",
       "1310       {9728.0: 2.0, 14144.0: 3.0, 12293.0: 4.0, 1480...\n",
       "1333       {9728.0: 4.0, 13823.0: 2.0, 12292.0: 3.0, 4613...\n",
       "1427       {9728.0: 4.0, 14144.0: 5.0, 10774.0: 4.0, 518....\n",
       "1442       {9728.0: 4.0, 12293.0: 5.0, 10774.0: 4.0, 5656...\n",
       "1457       {9728.0: 2.0, 8384.0: 4.0, 6917.0: 2.0, 6408.0...\n",
       "1500       {9728.0: 4.0, 1046.0: 4.0, 5656.0: 1.0, 28.0: ...\n",
       "1527       {9728.0: 3.0, 14144.0: 5.0, 16770.0: 5.0, 1581...\n",
       "1918       {9728.0: 5.0, 16150.0: 3.0, 17324.0: 2.0, 1608...\n",
       "2000       {9728.0: 5.0, 8107.0: 4.0, 12293.0: 5.0, 7186....\n",
       "2128       {9728.0: 3.0, 8512.0: 4.0, 12293.0: 5.0, 16286...\n",
       "2213       {9728.0: 5.0, 9730.0: 3.0, 9131.0: 4.0, 12293....\n",
       "2225       {9728.0: 4.0, 12293.0: 4.0, 1367.0: 3.0, 10255...\n",
       "2307       {5760.0: 5.0, 9728.0: 5.0, 15816.0: 4.0, 15496...\n",
       "2455       {9728.0: 4.0, 12293.0: 4.0, 3084.0: 3.0, 1046....\n",
       "2469       {9728.0: 5.0, 12293.0: 4.0, 17423.0: 4.0, 1077...\n",
       "2678       {9728.0: 5.0, 16770.0: 4.0, 8107.0: 2.0, 15816...\n",
       "2787       {9728.0: 5.0, 12293.0: 5.0, 3590.0: 3.0, 16046...\n",
       "2905       {9728.0: 5.0, 17423.0: 5.0, 28.0: 5.0, 5149.0:...\n",
       "2976       {12293.0: 4.0, 10255.0: 4.0, 5651.0: 3.0, 1046...\n",
       "3039       {9728.0: 2.0, 12292.0: 2.0, 3590.0: 3.0, 3084....\n",
       "3321       {2053.0: 1.0, 8.0: 1.0, 12298.0: 4.0, 4122.0: ...\n",
       "3363       {9728.0: 5.0, 12292.0: 5.0, 8.0: 2.0, 5129.0: ...\n",
       "3458       {9728.0: 2.0, 17411.0: 4.0, 12293.0: 4.0, 1229...\n",
       "3595       {17411.0: 2.0, 10757.0: 3.0, 13326.0: 4.0, 102...\n",
       "                                 ...                        \n",
       "2646634    {9728.0: 4.0, 17411.0: 5.0, 12293.0: 5.0, 6666...\n",
       "2646703    {5760.0: 5.0, 8512.0: 5.0, 1668.0: 3.0, 12293....\n",
       "2646712    {9728.0: 5.0, 12292.0: 4.0, 1367.0: 2.0, 7186....\n",
       "2646766    {9728.0: 4.0, 12293.0: 5.0, 12298.0: 3.0, 1367...\n",
       "2647162    {9728.0: 5.0, 11292.0: 4.0, 5149.0: 5.0, 4640....\n",
       "2647197    {9728.0: 4.0, 2731.0: 4.0, 3670.0: 3.0, 8.0: 1...\n",
       "2647396    {9728.0: 4.0, 12292.0: 3.0, 11286.0: 1.0, 4640...\n",
       "2647406    {9728.0: 3.0, 5651.0: 3.0, 1046.0: 3.0, 28.0: ...\n",
       "2647559    {9728.0: 3.0, 12292.0: 4.0, 12293.0: 5.0, 1048...\n",
       "2647648    {9728.0: 4.0, 1046.0: 4.0, 11812.0: 4.0, 3638....\n",
       "2647871    {10774.0: 4.0, 4640.0: 4.0, 7721.0: 3.0, 15409...\n",
       "2647888    {9728.0: 5.0, 12293.0: 5.0, 6666.0: 4.0, 16606...\n",
       "2648085    {9728.0: 4.0, 8107.0: 3.0, 12293.0: 4.0, 5651....\n",
       "2648176    {14209.0: 3.0, 13186.0: 1.0, 14086.0: 5.0, 960...\n",
       "2648181    {9728.0: 4.0, 14209.0: 4.0, 11651.0: 5.0, 1075...\n",
       "2648212    {9728.0: 3.0, 12293.0: 3.0, 14086.0: 5.0, 6408...\n",
       "2648287    {9728.0: 5.0, 13831.0: 4.0, 12298.0: 3.0, 3084...\n",
       "2648351    {9728.0: 3.0, 10255.0: 4.0, 1046.0: 4.0, 4640....\n",
       "2648465    {9728.0: 5.0, 12293.0: 5.0, 4627.0: 5.0, 12824...\n",
       "2648502    {9728.0: 5.0, 12293.0: 3.0, 6666.0: 5.0, 3084....\n",
       "2648572    {8107.0: 2.0, 15816.0: 4.0, 6408.0: 3.0, 9481....\n",
       "2648589    {9728.0: 4.0, 12292.0: 4.0, 12293.0: 3.0, 5640...\n",
       "2648730    {12292.0: 2.0, 12293.0: 5.0, 3590.0: 3.0, 6666...\n",
       "2648734    {9728.0: 3.0, 17423.0: 2.0, 1046.0: 4.0, 5656....\n",
       "2648853    {9728.0: 4.0, 17411.0: 4.0, 12292.0: 3.0, 1229...\n",
       "2648869    {9728.0: 4.0, 12293.0: 4.0, 1367.0: 4.0, 13326...\n",
       "2648885    {9728.0: 4.0, 9131.0: 4.0, 12293.0: 5.0, 3590....\n",
       "2649120    {3200.0: 5.0, 6912.0: 4.0, 7812.0: 4.0, 12293....\n",
       "2649267    {11651.0: 3.0, 12293.0: 4.0, 17324.0: 5.0, 948...\n",
       "2649285    {9728.0: 4.0, 8107.0: 3.0, 17411.0: 4.0, 1046....\n",
       "Length: 28978, dtype: object"
      ]
     },
     "execution_count": 39,
     "metadata": {},
     "output_type": "execute_result"
    }
   ],
   "source": [
    "train = netflix_training_df\n",
    "train.groupby('UserID')['MovieID', 'Rating'].apply(lambda x: dict(x.values.tolist()))"
   ]
  },
  {
   "cell_type": "code",
   "execution_count": 183,
   "metadata": {},
   "outputs": [],
   "source": [
    "import time\n",
    "\n",
    "class Collaborative_Model:\n",
    "    user_ids  = None\n",
    "    movie_ids = None\n",
    "    ratings   = None\n",
    "    ui        = None\n",
    "    all_users_avg  = None\n",
    "    all_users_vote = None\n",
    "    \n",
    "    def __init__(self, train):\n",
    "        self.Prepare_Data(train)\n",
    "    \n",
    "    def Prepare_Data(self, train):\n",
    "        self.user_ids  = train['UserID'].values\n",
    "        self.movie_ids = train['MovieID'].values\n",
    "        self.ratings   = train['Rating'].values\n",
    "        unique_users = np.unique(self.user_ids)\n",
    "        self.ui = {user_id : np.argwhere(user_id == self.user_ids).flatten()\n",
    "                   for user_id in unique_users}\n",
    "        self.all_users_avg = dict(train.groupby('UserID')['Rating'].mean())\n",
    "        self.all_users_vote = dict(train.groupby('UserID')['MovieID', 'Rating'].apply(lambda x: dict(x.values.tolist())))\n",
    "        \n",
    "    def Predict_Data(self, test):\n",
    "        test_ids       = test['UserID'].values\n",
    "        test_movie_ids = test['MovieID'].values\n",
    "        arr = []\n",
    "        for i,uid in enumerate(test_ids):\n",
    "            update_progress(round( (i + 1) / len(test_ids), 3))\n",
    "            arr.append(self.Predict_User_Vote(uid, test_movie_ids[i]))\n",
    "        return arr\n",
    "\n",
    "    def Predict_User_Vote(self, uid, tmi):\n",
    "        user_avg   = self.all_users_avg[uid]\n",
    "        user_votes = self.all_users_vote[uid]\n",
    "        other_users_votes = self.all_users_vote\n",
    "        other_users_avg   = self.all_users_avg\n",
    "        tui = self.ui[uid]\n",
    "        rui = self.ui\n",
    "        users = np.unique(np.array([self.user_ids[i] \n",
    "                                             for i in np.argwhere(self.movie_ids == tmi).flatten()]))\n",
    "        \n",
    "        correlation = np.array([self.Pearson_Coefficient(user_avg, other_users_avg[user_id],\n",
    "                                                               user_votes,other_users_votes[user_id], \n",
    "                                                               self.Get_Common_Movies(tui, rui[user_id])) \n",
    "                                       for user_id in users])\n",
    "        \n",
    "        voting_avg_diff = np.array([other_users_votes[user_id][tmi] - other_users_avg[user_id]\n",
    "                                    for user_id in users])\n",
    "        \n",
    "        absolute_sum = np.sum(np.absolute(correlation))\n",
    "        k = 1\n",
    "        if (absolute_sum != 0):\n",
    "            k = 1 / absolute_sum\n",
    "        weight_sum = np.sum(correlation * voting_avg_diff)\n",
    "        return user_avg + k * weight_sum\n",
    "\n",
    "    def Average_Vote(self, votes):\n",
    "        return np.sum(votes) / len(votes)\n",
    "\n",
    "    def Get_Common_Movies(self, tui, rui):\n",
    "        return set(self.movie_ids[tui]) & set(self.movie_ids[rui])\n",
    "\n",
    "    def Pearson_Coefficient(self, user_avg, other_user_avg, user_votes, other_user_votes, common_movies):\n",
    "        if (len(common_movies) == 0):\n",
    "            return 0\n",
    "        A = np.array([user_votes[common_movie] for common_movie in common_movies]) - user_avg\n",
    "        B = np.array([other_user_votes[common_movie] for common_movie in common_movies]) - other_user_avg\n",
    "        numerator   = np.sum(A * B)\n",
    "        denominator = np.sqrt(np.sum(A**2) * np.sum(B**2))\n",
    "        if (denominator == 0):\n",
    "            return 0\n",
    "        return numerator / denominator"
   ]
  },
  {
   "cell_type": "code",
   "execution_count": 184,
   "metadata": {},
   "outputs": [],
   "source": [
    "def Mean_Absolute_Error(predictions, target):\n",
    "    return np.sum(np.absolute(predictions - target)) / len(predictions)\n",
    "\n",
    "def Root_Mean_Square_Error(predictions, target):\n",
    "    return np.sqrt( np.sum((predictions - target) ** 2) / len(predictions) )"
   ]
  },
  {
   "cell_type": "code",
   "execution_count": 185,
   "metadata": {},
   "outputs": [
    {
     "name": "stdout",
     "output_type": "stream",
     "text": [
      "Preparing data into optimal data structures...\n"
     ]
    }
   ],
   "source": [
    "print \"Preparing data into optimal data structures...\"\n",
    "predictor = Collaborative_Model(netflix_training_df)"
   ]
  },
  {
   "cell_type": "code",
   "execution_count": 186,
   "metadata": {},
   "outputs": [
    {
     "name": "stdout",
     "output_type": "stream",
     "text": [
      "Percent: [##########] 100%  \n",
      "Done...\n",
      "19.9057178497\n"
     ]
    }
   ],
   "source": [
    "start_time = time.time()\n",
    "predictions = predictor.Predict_Data(netflix_testing_df[0:100])\n",
    "print (time.time() - start_time)"
   ]
  },
  {
   "cell_type": "code",
   "execution_count": 172,
   "metadata": {},
   "outputs": [
    {
     "data": {
      "text/plain": [
       "1.2381345214865886"
      ]
     },
     "execution_count": 172,
     "metadata": {},
     "output_type": "execute_result"
    }
   ],
   "source": [
    "Root_Mean_Square_Error(predictions, netflix_testing_df['Rating'])"
   ]
  },
  {
   "cell_type": "code",
   "execution_count": 173,
   "metadata": {},
   "outputs": [
    {
     "data": {
      "text/plain": [
       "0.7705319973258226"
      ]
     },
     "execution_count": 173,
     "metadata": {},
     "output_type": "execute_result"
    }
   ],
   "source": [
    "Mean_Absolute_Error(predictions, netflix_training_df['Rating'])"
   ]
  }
 ],
 "metadata": {
  "kernelspec": {
   "display_name": "Python 2",
   "language": "python",
   "name": "python2"
  },
  "language_info": {
   "codemirror_mode": {
    "name": "ipython",
    "version": 2
   },
   "file_extension": ".py",
   "mimetype": "text/x-python",
   "name": "python",
   "nbconvert_exporter": "python",
   "pygments_lexer": "ipython2",
   "version": "2.7.16"
  }
 },
 "nbformat": 4,
 "nbformat_minor": 2
}
