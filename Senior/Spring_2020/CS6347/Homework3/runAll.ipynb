{
 "cells": [
  {
   "cell_type": "code",
   "execution_count": 1,
   "metadata": {
    "collapsed": true,
    "pycharm": {
     "is_executing": false
    }
   },
   "outputs": [],
   "source": [
    "import varElim\n",
    "import random\n",
    "import time"
   ]
  },
  {
   "cell_type": "code",
   "execution_count": 2,
   "outputs": [],
   "source": [
    "def ComputeInstance(N,i,fileName):\n",
    "    network = varElim.GraphicalModel(fileName)\n",
    "    print(fileName, N)\n",
    "    t = time.time()\n",
    "    return network.sampleSumOut(i+1, N) + (time.time() - t,)"
   ],
   "metadata": {
    "collapsed": false,
    "pycharm": {
     "name": "#%%\n",
     "is_executing": false
    }
   }
  },
  {
   "cell_type": "code",
   "execution_count": 3,
   "outputs": [
    {
     "data": {
      "text/plain": "[(100, 0, 'Grids_14'),\n (100, 1, 'Grids_15'),\n (100, 2, 'Grids_16'),\n (100, 3, 'Grids_17'),\n (100, 4, 'Grids_18'),\n (1000, 0, 'Grids_14'),\n (1000, 1, 'Grids_15'),\n (1000, 2, 'Grids_16'),\n (1000, 3, 'Grids_17'),\n (1000, 4, 'Grids_18'),\n (10000, 0, 'Grids_14'),\n (10000, 1, 'Grids_15'),\n (10000, 2, 'Grids_16'),\n (10000, 3, 'Grids_17'),\n (10000, 4, 'Grids_18'),\n (20000, 0, 'Grids_14'),\n (20000, 1, 'Grids_15'),\n (20000, 2, 'Grids_16'),\n (20000, 3, 'Grids_17'),\n (20000, 4, 'Grids_18')]"
     },
     "metadata": {},
     "output_type": "execute_result",
     "execution_count": 3
    }
   ],
   "source": [
    "args = list(enumerate(['Grids_14', 'Grids_15', 'Grids_16', 'Grids_17', 'Grids_18']))\n",
    "args = [(N,) + arg for N in [100,1000,10000,20000] for arg in args]\n",
    "args"
   ],
   "metadata": {
    "collapsed": false,
    "pycharm": {
     "name": "#%%\n",
     "is_executing": false
    }
   }
  },
  {
   "cell_type": "code",
   "execution_count": 4,
   "outputs": [
    {
     "name": "stdout",
     "text": [
      "Grids_14 100\n",
      "Grids_18 100\n",
      "Grids_16 100\n",
      "Grids_15 1000\n",
      "Grids_15 100\n",
      "Grids_14 1000\n",
      "Grids_17 100\n",
      "Grids_17 1000\n",
      "Grids_14 10000\n",
      "Grids_16 10000\n",
      "Grids_16 1000\n",
      "Grids_18 1000\n",
      "Grids_15 10000\n",
      "Grids_18 10000\n",
      "Grids_15 20000\n",
      "Grids_17 10000\n",
      "Grids_14 20000\n",
      "Grids_17 20000\n",
      "Grids_16 20000\n",
      "Grids_18 20000\n",
      "Grids_14 100\n",
      "Grids_16 100\n",
      "Grids_15 1000\n",
      "Grids_18 100\n",
      "Grids_15 100\n",
      "Grids_14 1000\n",
      "Grids_17 100\n",
      "Grids_17 1000\n",
      "Grids_14 10000\n",
      "Grids_16 10000\n",
      "Grids_16 1000\n",
      "Grids_18 1000\n",
      "Grids_15 10000\n",
      "Grids_18 10000\n",
      "Grids_15 20000\n",
      "Grids_17 10000\n",
      "Grids_14 20000\n",
      "Grids_17 20000\n",
      "Grids_16 20000\n",
      "Grids_18 20000\n"
     ],
     "output_type": "stream"
    }
   ],
   "source": [
    "from multiprocessing.pool import Pool\n",
    "pool = Pool(processes=4)"
   ],
   "metadata": {
    "collapsed": false,
    "pycharm": {
     "name": "#%%\n",
     "is_executing": false
    }
   }
  },
  {
   "cell_type": "code",
   "execution_count": 5,
   "outputs": [],
   "source": [
    "random.seed(15)\n",
    "a1 = pool.starmap(ComputeInstance, args)"
   ],
   "metadata": {
    "collapsed": false,
    "pycharm": {
     "name": "#%%\n",
     "is_executing": false
    }
   }
  },
  {
   "cell_type": "code",
   "execution_count": 6,
   "outputs": [],
   "source": [
    "random.seed(20)\n",
    "a2 = pool.starmap(ComputeInstance, args)"
   ],
   "metadata": {
    "collapsed": false,
    "pycharm": {
     "name": "#%%\n",
     "is_executing": false
    }
   }
  },
  {
   "cell_type": "code",
   "execution_count": 13,
   "outputs": [],
   "source": [
    "import pandas as pd\n",
    "df1,df2,df3 = pd.read_csv('info1.csv',index_col=0),pd.read_csv('info2.csv',index_col=0),pd.read_csv('info3.csv',index_col=0)\n",
    "df1_time,df2_time,df3_time = pd.read_csv('info1_time.csv',index_col=0),pd.read_csv('info2_time.csv',index_col=0),pd.read_csv('info3_time.csv',index_col=0)"
   ],
   "metadata": {
    "collapsed": false,
    "pycharm": {
     "name": "#%%\n",
     "is_executing": false
    }
   }
  },
  {
   "cell_type": "code",
   "execution_count": 14,
   "outputs": [],
   "source": [
    "true = pd.DataFrame([[497.763 for _ in range(8)], [291.733 for _ in range(8)], \n",
    "        [665.116 for _ in range(8)], [1311.98 for _ in range(8)], \n",
    "        [1962.98 for _ in range(8)]], columns=['100','1000','10000','20000','a100','a1000','a10000','a20000'])\n",
    "\n",
    "df1e, df2e, df3e = (df1 - true) / true, (df2 - true) / true, (df3 - true) / true\n",
    "avg = (df1e + df2e + df3e) / 3\n",
    "std = (( (df1e - avg)**2 + (df2e - avg)**2 + (df3e - avg)**2) / 2)**(1/2)\n",
    "avg.insert(0,'name',['Grids_14','Grids_15','Grids_16','Grids_17','Grids_18'])\n",
    "std.insert(0,'name',['Grids_14','Grids_15','Grids_16','Grids_17','Grids_18'])\n",
    "avg_time = (df1_time + df2_time) / 2\n",
    "std_time = (((df1_time - avg_time)**2 + (df2_time - avg_time)**2))**(1/2)\n",
    "avg_time.insert(0,'name',['Grids_14','Grids_15','Grids_16','Grids_17','Grids_18'])\n",
    "std_time.insert(0,'name',['Grids_14','Grids_15','Grids_16','Grids_17','Grids_18'])"
   ],
   "metadata": {
    "collapsed": false,
    "pycharm": {
     "name": "#%%\n",
     "is_executing": false
    }
   }
  },
  {
   "cell_type": "code",
   "execution_count": 15,
   "outputs": [
    {
     "data": {
      "text/plain": "       name       100      1000     10000     20000      a100     a1000  \\\n0  Grids_14 -0.260213 -0.256469 -0.256250 -0.256151 -0.282260 -0.279297   \n1  Grids_15 -0.152081 -0.152799 -0.152516 -0.152605 -0.318137 -0.317835   \n2  Grids_16 -0.203352 -0.201413 -0.201212 -0.201147 -0.263834 -0.264133   \n3  Grids_17 -0.165748 -0.165401 -0.165579 -0.165377 -0.191070 -0.188707   \n4  Grids_18 -0.166556 -0.165757 -0.165656 -0.165667 -0.182691 -0.180488   \n\n     a10000    a20000  \n0 -0.279287 -0.279028  \n1 -0.317643 -0.317728  \n2 -0.264050 -0.264081  \n3 -0.188801 -0.188883  \n4 -0.180501 -0.180517  ",
      "text/html": "<div>\n<style scoped>\n    .dataframe tbody tr th:only-of-type {\n        vertical-align: middle;\n    }\n\n    .dataframe tbody tr th {\n        vertical-align: top;\n    }\n\n    .dataframe thead th {\n        text-align: right;\n    }\n</style>\n<table border=\"1\" class=\"dataframe\">\n  <thead>\n    <tr style=\"text-align: right;\">\n      <th></th>\n      <th>name</th>\n      <th>100</th>\n      <th>1000</th>\n      <th>10000</th>\n      <th>20000</th>\n      <th>a100</th>\n      <th>a1000</th>\n      <th>a10000</th>\n      <th>a20000</th>\n    </tr>\n  </thead>\n  <tbody>\n    <tr>\n      <th>0</th>\n      <td>Grids_14</td>\n      <td>-0.260213</td>\n      <td>-0.256469</td>\n      <td>-0.256250</td>\n      <td>-0.256151</td>\n      <td>-0.282260</td>\n      <td>-0.279297</td>\n      <td>-0.279287</td>\n      <td>-0.279028</td>\n    </tr>\n    <tr>\n      <th>1</th>\n      <td>Grids_15</td>\n      <td>-0.152081</td>\n      <td>-0.152799</td>\n      <td>-0.152516</td>\n      <td>-0.152605</td>\n      <td>-0.318137</td>\n      <td>-0.317835</td>\n      <td>-0.317643</td>\n      <td>-0.317728</td>\n    </tr>\n    <tr>\n      <th>2</th>\n      <td>Grids_16</td>\n      <td>-0.203352</td>\n      <td>-0.201413</td>\n      <td>-0.201212</td>\n      <td>-0.201147</td>\n      <td>-0.263834</td>\n      <td>-0.264133</td>\n      <td>-0.264050</td>\n      <td>-0.264081</td>\n    </tr>\n    <tr>\n      <th>3</th>\n      <td>Grids_17</td>\n      <td>-0.165748</td>\n      <td>-0.165401</td>\n      <td>-0.165579</td>\n      <td>-0.165377</td>\n      <td>-0.191070</td>\n      <td>-0.188707</td>\n      <td>-0.188801</td>\n      <td>-0.188883</td>\n    </tr>\n    <tr>\n      <th>4</th>\n      <td>Grids_18</td>\n      <td>-0.166556</td>\n      <td>-0.165757</td>\n      <td>-0.165656</td>\n      <td>-0.165667</td>\n      <td>-0.182691</td>\n      <td>-0.180488</td>\n      <td>-0.180501</td>\n      <td>-0.180517</td>\n    </tr>\n  </tbody>\n</table>\n</div>"
     },
     "metadata": {},
     "output_type": "execute_result",
     "execution_count": 15
    }
   ],
   "source": [
    "avg"
   ],
   "metadata": {
    "collapsed": false,
    "pycharm": {
     "name": "#%%",
     "is_executing": false
    }
   }
  },
  {
   "cell_type": "code",
   "execution_count": 16,
   "outputs": [
    {
     "data": {
      "text/plain": "       name       100      1000     10000     20000      a100     a1000  \\\n0  Grids_14  0.004630  0.000966  0.000319  0.000315  0.004397  0.001187   \n1  Grids_15  0.002056  0.000362  0.000174  0.000232  0.000844  0.000282   \n2  Grids_16  0.002120  0.000048  0.000110  0.000173  0.004506  0.000286   \n3  Grids_17  0.002750  0.000510  0.000342  0.000183  0.000747  0.000679   \n4  Grids_18  0.001120  0.000533  0.000154  0.000127  0.001355  0.000494   \n\n     a10000    a20000  \n0  0.000303  0.000395  \n1  0.000218  0.000222  \n2  0.000218  0.000153  \n3  0.000228  0.000101  \n4  0.000105  0.000137  ",
      "text/html": "<div>\n<style scoped>\n    .dataframe tbody tr th:only-of-type {\n        vertical-align: middle;\n    }\n\n    .dataframe tbody tr th {\n        vertical-align: top;\n    }\n\n    .dataframe thead th {\n        text-align: right;\n    }\n</style>\n<table border=\"1\" class=\"dataframe\">\n  <thead>\n    <tr style=\"text-align: right;\">\n      <th></th>\n      <th>name</th>\n      <th>100</th>\n      <th>1000</th>\n      <th>10000</th>\n      <th>20000</th>\n      <th>a100</th>\n      <th>a1000</th>\n      <th>a10000</th>\n      <th>a20000</th>\n    </tr>\n  </thead>\n  <tbody>\n    <tr>\n      <th>0</th>\n      <td>Grids_14</td>\n      <td>0.004630</td>\n      <td>0.000966</td>\n      <td>0.000319</td>\n      <td>0.000315</td>\n      <td>0.004397</td>\n      <td>0.001187</td>\n      <td>0.000303</td>\n      <td>0.000395</td>\n    </tr>\n    <tr>\n      <th>1</th>\n      <td>Grids_15</td>\n      <td>0.002056</td>\n      <td>0.000362</td>\n      <td>0.000174</td>\n      <td>0.000232</td>\n      <td>0.000844</td>\n      <td>0.000282</td>\n      <td>0.000218</td>\n      <td>0.000222</td>\n    </tr>\n    <tr>\n      <th>2</th>\n      <td>Grids_16</td>\n      <td>0.002120</td>\n      <td>0.000048</td>\n      <td>0.000110</td>\n      <td>0.000173</td>\n      <td>0.004506</td>\n      <td>0.000286</td>\n      <td>0.000218</td>\n      <td>0.000153</td>\n    </tr>\n    <tr>\n      <th>3</th>\n      <td>Grids_17</td>\n      <td>0.002750</td>\n      <td>0.000510</td>\n      <td>0.000342</td>\n      <td>0.000183</td>\n      <td>0.000747</td>\n      <td>0.000679</td>\n      <td>0.000228</td>\n      <td>0.000101</td>\n    </tr>\n    <tr>\n      <th>4</th>\n      <td>Grids_18</td>\n      <td>0.001120</td>\n      <td>0.000533</td>\n      <td>0.000154</td>\n      <td>0.000127</td>\n      <td>0.001355</td>\n      <td>0.000494</td>\n      <td>0.000105</td>\n      <td>0.000137</td>\n    </tr>\n  </tbody>\n</table>\n</div>"
     },
     "metadata": {},
     "output_type": "execute_result",
     "execution_count": 16
    }
   ],
   "source": [
    "std"
   ],
   "metadata": {
    "collapsed": false,
    "pycharm": {
     "name": "#%%\n",
     "is_executing": false
    }
   }
  },
  {
   "cell_type": "code",
   "execution_count": 17,
   "outputs": [
    {
     "data": {
      "text/plain": "       name         100         1000         10000         20000\n0  Grids_14   19.907518   195.569250   3976.919811  21473.241583\n1  Grids_15  266.235258  2640.266839  28743.708351  70746.161467\n2  Grids_16  254.430284  2530.681101  27554.966810  65443.922687\n3  Grids_17  236.854985  2396.503109  26164.519272  63901.282595\n4  Grids_18  239.826573  2393.757432  26072.386227  61666.681251",
      "text/html": "<div>\n<style scoped>\n    .dataframe tbody tr th:only-of-type {\n        vertical-align: middle;\n    }\n\n    .dataframe tbody tr th {\n        vertical-align: top;\n    }\n\n    .dataframe thead th {\n        text-align: right;\n    }\n</style>\n<table border=\"1\" class=\"dataframe\">\n  <thead>\n    <tr style=\"text-align: right;\">\n      <th></th>\n      <th>name</th>\n      <th>100</th>\n      <th>1000</th>\n      <th>10000</th>\n      <th>20000</th>\n    </tr>\n  </thead>\n  <tbody>\n    <tr>\n      <th>0</th>\n      <td>Grids_14</td>\n      <td>19.907518</td>\n      <td>195.569250</td>\n      <td>3976.919811</td>\n      <td>21473.241583</td>\n    </tr>\n    <tr>\n      <th>1</th>\n      <td>Grids_15</td>\n      <td>266.235258</td>\n      <td>2640.266839</td>\n      <td>28743.708351</td>\n      <td>70746.161467</td>\n    </tr>\n    <tr>\n      <th>2</th>\n      <td>Grids_16</td>\n      <td>254.430284</td>\n      <td>2530.681101</td>\n      <td>27554.966810</td>\n      <td>65443.922687</td>\n    </tr>\n    <tr>\n      <th>3</th>\n      <td>Grids_17</td>\n      <td>236.854985</td>\n      <td>2396.503109</td>\n      <td>26164.519272</td>\n      <td>63901.282595</td>\n    </tr>\n    <tr>\n      <th>4</th>\n      <td>Grids_18</td>\n      <td>239.826573</td>\n      <td>2393.757432</td>\n      <td>26072.386227</td>\n      <td>61666.681251</td>\n    </tr>\n  </tbody>\n</table>\n</div>"
     },
     "metadata": {},
     "output_type": "execute_result",
     "execution_count": 17
    }
   ],
   "source": [
    "avg_time"
   ],
   "metadata": {
    "collapsed": false,
    "pycharm": {
     "name": "#%%\n",
     "is_executing": false
    }
   }
  },
  {
   "cell_type": "code",
   "execution_count": 18,
   "outputs": [
    {
     "data": {
      "text/plain": "       name       100       1000      10000       20000\n0  Grids_14  0.093758   0.236995   6.834217   94.606370\n1  Grids_15  3.521363   3.892399  25.597664  323.341791\n2  Grids_16  0.188323  13.485652  67.131144  238.239292\n3  Grids_17  0.133810   7.495164  30.289066   75.104563\n4  Grids_18  1.734855   6.038096  97.905749  278.427981",
      "text/html": "<div>\n<style scoped>\n    .dataframe tbody tr th:only-of-type {\n        vertical-align: middle;\n    }\n\n    .dataframe tbody tr th {\n        vertical-align: top;\n    }\n\n    .dataframe thead th {\n        text-align: right;\n    }\n</style>\n<table border=\"1\" class=\"dataframe\">\n  <thead>\n    <tr style=\"text-align: right;\">\n      <th></th>\n      <th>name</th>\n      <th>100</th>\n      <th>1000</th>\n      <th>10000</th>\n      <th>20000</th>\n    </tr>\n  </thead>\n  <tbody>\n    <tr>\n      <th>0</th>\n      <td>Grids_14</td>\n      <td>0.093758</td>\n      <td>0.236995</td>\n      <td>6.834217</td>\n      <td>94.606370</td>\n    </tr>\n    <tr>\n      <th>1</th>\n      <td>Grids_15</td>\n      <td>3.521363</td>\n      <td>3.892399</td>\n      <td>25.597664</td>\n      <td>323.341791</td>\n    </tr>\n    <tr>\n      <th>2</th>\n      <td>Grids_16</td>\n      <td>0.188323</td>\n      <td>13.485652</td>\n      <td>67.131144</td>\n      <td>238.239292</td>\n    </tr>\n    <tr>\n      <th>3</th>\n      <td>Grids_17</td>\n      <td>0.133810</td>\n      <td>7.495164</td>\n      <td>30.289066</td>\n      <td>75.104563</td>\n    </tr>\n    <tr>\n      <th>4</th>\n      <td>Grids_18</td>\n      <td>1.734855</td>\n      <td>6.038096</td>\n      <td>97.905749</td>\n      <td>278.427981</td>\n    </tr>\n  </tbody>\n</table>\n</div>"
     },
     "metadata": {},
     "output_type": "execute_result",
     "execution_count": 18
    }
   ],
   "source": [
    "std_time\n"
   ],
   "metadata": {
    "collapsed": false,
    "pycharm": {
     "name": "#%%\n",
     "is_executing": false
    }
   }
  }
 ],
 "metadata": {
  "kernelspec": {
   "display_name": "Python 3",
   "language": "python",
   "name": "python3"
  },
  "language_info": {
   "codemirror_mode": {
    "name": "ipython",
    "version": 2
   },
   "file_extension": ".py",
   "mimetype": "text/x-python",
   "name": "python",
   "nbconvert_exporter": "python",
   "pygments_lexer": "ipython2",
   "version": "2.7.6"
  },
  "pycharm": {
   "stem_cell": {
    "cell_type": "raw",
    "source": [],
    "metadata": {
     "collapsed": false
    }
   }
  }
 },
 "nbformat": 4,
 "nbformat_minor": 0
}