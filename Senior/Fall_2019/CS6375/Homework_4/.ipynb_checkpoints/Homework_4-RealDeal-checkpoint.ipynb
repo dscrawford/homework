{
 "cells": [
  {
   "cell_type": "code",
   "execution_count": 1,
   "metadata": {},
   "outputs": [],
   "source": [
    "from __future__ import division\n",
    "from __future__ import print_function\n",
    "from scipy.sparse import csr_matrix\n",
    "from scipy.sparse.csgraph import minimum_spanning_tree\n",
    "import networkx as nx\n",
    "from collections import defaultdict\n",
    "import pandas as pd\n",
    "import numpy  as np\n",
    "import random"
   ]
  },
  {
   "cell_type": "code",
   "execution_count": 64,
   "metadata": {},
   "outputs": [],
   "source": [
    "def CLT(T, P, r):\n",
    "    n   = len(T[0])\n",
    "    Tt  = np.transpose(T)\n",
    "    if (type(P) != list):\n",
    "        P = 1\n",
    "    Iuv = np.array([[MI(Tt, u, v, P) for u in range(n)] for v in range(n)])\n",
    "    \n",
    "    # Option to remove arguments from \n",
    "    l = list(range(n*n))\n",
    "    np.random.shuffle(l)\n",
    "    new = np.ndarray.flatten(Iuv)\n",
    "    new[l[0:r]] = 0\n",
    "    Iuv = np.reshape(new, (n,n))\n",
    "    return np.array(nx.adjacency_matrix(nx.maximum_spanning_tree(nx.from_numpy_array(Iuv))).todense())\n",
    "\n",
    "def MI(T, u, v, P):\n",
    "    if (u == v):\n",
    "        return 0\n",
    "    Iu = [T[u] == 0, T[u] == 1]\n",
    "    Iv = [T[v] == 0, T[v] == 1]\n",
    "    Pu = [(np.sum(Iu[u] * P) + 1) / (len(Iu[u] * P) + 2) for u in [0,1]]\n",
    "    Pv = [(np.sum(Iv[v] * P) + 1) / (len(Iv[v] * P) + 2) for v in [0,1]]\n",
    "    Puv = [[(np.sum(np.logical_and(Iu[u],Iv[v]) * P) + 1) / (np.sum(np.logical_or(Iu[u],Iv[v])) + 2) for v in [0,1]] for u in [0,1]]\n",
    "    return np.sum([np.sum([Puv[u][v] * (np.log2(Puv[u][v]) - np.log2(Pu[u]) - np.log2(Pv[v])) for u in [0,1]]) for v in [0,1]])"
   ]
  },
  {
   "cell_type": "code",
   "execution_count": 6,
   "metadata": {},
   "outputs": [],
   "source": [
    "data_dir = \"./small-10-datasets/\"\n",
    "data_titles = ['accidents', 'baudio', 'bnetflix', 'dna', 'jester', 'kdd', 'msnbc',\n",
    "              'nltcs', 'plants', 'r52']\n",
    "test  = dict()\n",
    "train = dict()\n",
    "valid = dict()\n",
    "\n",
    "for title in data_titles:\n",
    "    test[title]  = np.loadtxt(data_dir + title + '.test.data', delimiter=',')\n",
    "    train[title] = np.loadtxt(data_dir + title + '.ts.data', delimiter=',')\n",
    "    valid[title] = np.loadtxt(data_dir + title + '.valid.data', delimiter=',')"
   ]
  },
  {
   "cell_type": "code",
   "execution_count": 7,
   "metadata": {},
   "outputs": [],
   "source": [
    "# Log Likelihood\n",
    "def LL(p):\n",
    "    return np.sum(np.log2(p))\n",
    "\n",
    "def AVG_LL(P):\n",
    "    return sum([LL(p) for p in P]) / len(P)\n",
    "\n",
    "# Log Sum Exponent\n",
    "def lse(a):\n",
    "    m = max(a)\n",
    "    return np.log2(np.sum(np.power(2., a - m))) + m\n",
    "\n",
    "def Split_Tree(T, k):\n",
    "    split = [i for i in range(0, len(T), int(len(T) / k))]\n",
    "    return [T[range(split[i],len(T) if i == k -1 else split[i+1])] for i in range(k)]\n",
    "\n",
    "# Transforms MST into a DAG, and then finds associated probabilities as well.\n",
    "def Create_Network(MST, T):\n",
    "    n = len(MST)\n",
    "    T = np.transpose(T)\n",
    "    network = [{} for i in range(n)]\n",
    "    root = 0\n",
    "\n",
    "    p = (sum(T[root] == 1) + 1) / (len(T[root]) + 2)\n",
    "    network[root] = {root : [1 - p, p]}\n",
    "    children = np.ndarray.flatten(np.argwhere(np.transpose(MST[root]) != 0))\n",
    "    parents = {root : children}\n",
    "    for c in children:\n",
    "        MST[c][root] = 0.\n",
    "\n",
    "    while (len(parents) != 0):\n",
    "        newParents   = {}\n",
    "        for parent in parents:\n",
    "            children = parents[parent]\n",
    "            for c in children:\n",
    "                # Remove edge, make directed\n",
    "                p = [(sum(T[c][T[parent] == 0] == 1) + 1) / (sum(T[parent] == 0) + 2),\n",
    "                     (sum(T[c][T[parent] == 1] == 1) + 1) / (sum(T[parent] == 1) + 2)]\n",
    "                network[c].update({parent : [1 - p[0], p[0], 1 - p[1], p[1]]})\n",
    "                cc = np.ndarray.flatten(np.argwhere(np.transpose(MST[c]) != 0))\n",
    "                for child in cc:\n",
    "                    MST[child][c] = 0\n",
    "                if (len(children) != 0):\n",
    "                    newParents.update({c : cc})\n",
    "        parents = newParents    \n",
    "    return network;\n",
    "\n",
    "# Predicts a network generated from above.\n",
    "def Predict_Network(N, test):\n",
    "    all_predictions = []\n",
    "    for t in test:\n",
    "        predictions = []\n",
    "        for i in range(len(N)):\n",
    "            probs = []\n",
    "            for k in N[i].keys():\n",
    "                if(k == i):\n",
    "                    probs.append(N[i][k][0] if t[i] == 0 else N[i][k][1])\n",
    "                else:\n",
    "                    if (t[k] == 0):\n",
    "                        probs.append(N[i][k][0] if t[i] == 0 else N[i][k][1])\n",
    "                    else:\n",
    "                        probs.append(N[i][k][2] if t[i] == 0 else N[i][k][3])\n",
    "            predictions.append(np.product(probs))\n",
    "        all_predictions.append(predictions)\n",
    "    return np.array(all_predictions)\n",
    "\n",
    "def Predict_Mixture(M, test):\n",
    "    N  = M[1]\n",
    "    pi = M[0]\n",
    "    n = len(pi)\n",
    "    predictions = []\n",
    "    for i in range(n):\n",
    "        predictions.append(pi[i] * Predict_Network(N[i], test))\n",
    "    return np.sum(predictions, axis=0)"
   ]
  },
  {
   "cell_type": "code",
   "execution_count": 70,
   "metadata": {},
   "outputs": [],
   "source": [
    "# Bayesian Network, No edges Algorithm\n",
    "# Takes in a dataset of binary variables and takes a test set of binary variables.\n",
    "def BN_NE(T, test):\n",
    "    cols = np.transpose(T)\n",
    "    n    = len(cols)\n",
    "    p_1 = np.array([(sum(cols[i] == 1) + 1) / (len(cols[i]) + 2) for i in range(n)])\n",
    "    return np.array([[p_1[+i] if ti == 0 else 1 - p_1[i] for i, ti in enumerate(t)] for t in test])\n",
    "\n",
    "# Bayesian Network, Chow-Liu Algorithm\n",
    "# Returns a data structure in the form of a Bayesian Network with probabilities pre-computed inside.\n",
    "def BN_CL(T, P, r):\n",
    "    n = len(T[0])\n",
    "    tree = Create_Network(CLT(T, P, r), T)\n",
    "    return tree\n",
    "\n",
    "# Mixtures of Tree Bayesian networks using EM\n",
    "def MT_BN(T, V, M):\n",
    "    # Validation\n",
    "    MTs = [EM(T, m, 100) for m in M]\n",
    "    P   = [AVG_LL(Predict_Mixture(MT, V)) for MT in MTs]\n",
    "    \n",
    "    return MTs[np.argmax(P)]\n",
    "\n",
    "# Mixtures of Tree Bayesian Networks using Random Forests\n",
    "def MT_BN_RF(T, V, K, R):\n",
    "    # Validation\n",
    "    combs = [(k,r) for r in R for k in K]\n",
    "    RFs   = [RF(T, k, r) for k,r in combs]\n",
    "    P     = [AVG_LL(Predict_Mixture(rf, V)) for rf in RFs]\n",
    "    \n",
    "    return RFs[np.argmax(P)]\n",
    "    \n",
    "def RF(T, k, r):\n",
    "    n = len(T)\n",
    "    Ns = [BN_CL(T[np.random.uniform(0,n,n).astype(int)], 1, r) for k in range(k)]\n",
    "    pi = [random.random() for i in range(k)]\n",
    "    pi = [pi[i] / sum(pi) for i in range(k)]\n",
    "    return [pi, Ns]\n",
    "    \n",
    "\n",
    "# Expectation Maximization\n",
    "def EM(T, m, max_iter):\n",
    "    split = Split_Tree(T, m)\n",
    "    r = np.array([random.random() for i in range(m)]).astype(np.float64)\n",
    "    pi = [i / sum(r) for i in r]\n",
    "    yk = [[random.random() for j in range(m)] for i in range(len(T))]\n",
    "    yk = np.array([[yk[i][j] / sum(yk[i]) for j in range(m)] for i in range(len(T))])\n",
    "    N  = [BN_CL(T, y, 0) for y in np.transpose(yk)] \n",
    "\n",
    "    prevPi = []\n",
    "    it = 0\n",
    "    ll = AVG_LL(Predict_Mixture([pi,N], T))\n",
    "    prev_ll = ll - 1\n",
    "    while (prev_ll < ll and it != max_iter):\n",
    "        prev_ll = ll\n",
    "        it += 1\n",
    "        \n",
    "        # E-step\n",
    "        W = []\n",
    "        p = [[pi[k] * np.product(Predict_Network(N[k],[t])) for k in range(m)] for t in T]\n",
    "        yk = np.array([[p[i][k] / sum(p[i]) for k in range(m)] for i in range(len(T))])\n",
    "        rk = [sum(k) for k in np.transpose(yk)]\n",
    "        pk = [[yk[i][k] / rk[k] for k in range(m)] for i in range(len(T))]\n",
    "        \n",
    "        # M-step\n",
    "        pi = [rk[k] / sum(rk) for k in range(m)]\n",
    "        N  = [BN_CL(T, y, 0) for y in np.transpose(yk)] \n",
    "        \n",
    "        ll = AVG_LL(Predict_Mixture([pi,N], T))\n",
    "    return [pi, N]"
   ]
  },
  {
   "cell_type": "code",
   "execution_count": 9,
   "metadata": {},
   "outputs": [
    {
     "data": {
      "text/plain": [
       "-303.09757458863464"
      ]
     },
     "execution_count": 9,
     "metadata": {},
     "output_type": "execute_result"
    }
   ],
   "source": [
    "AVG_LL(BN_NE(train['accidents'], test['accidents']))"
   ]
  },
  {
   "cell_type": "code",
   "execution_count": 65,
   "metadata": {},
   "outputs": [
    {
     "data": {
      "text/plain": [
       "-49.16820941710078"
      ]
     },
     "execution_count": 65,
     "metadata": {},
     "output_type": "execute_result"
    }
   ],
   "source": [
    "AVG_LL(Predict_Network(BN_CL(train['accidents'], 1, 0), test['accidents']))"
   ]
  },
  {
   "cell_type": "code",
   "execution_count": 71,
   "metadata": {},
   "outputs": [
    {
     "data": {
      "text/plain": [
       "-53.92065567776336"
      ]
     },
     "execution_count": 71,
     "metadata": {},
     "output_type": "execute_result"
    }
   ],
   "source": [
    "AVG_LL(Predict_Mixture(MT_BN(train['accidents'][0:100], valid['accidents'], [3,5,10]), \n",
    "                       test['accidents']))"
   ]
  },
  {
   "cell_type": "code",
   "execution_count": 72,
   "metadata": {},
   "outputs": [
    {
     "data": {
      "text/plain": [
       "-51.37245598624335"
      ]
     },
     "execution_count": 72,
     "metadata": {},
     "output_type": "execute_result"
    }
   ],
   "source": [
    "AVG_LL(Predict_Mixture(MT_BN_RF(train['accidents'][0:100], valid['accidents'],\n",
    "                                [3,5,10], [n // 3, n // 5, n // 10])\n",
    "                       ,test['accidents']))"
   ]
  },
  {
   "cell_type": "code",
   "execution_count": null,
   "metadata": {},
   "outputs": [],
   "source": [
    "NE_LL = {k : 0 for k in data_titles}\n",
    "BN_CL_LL = {k : 0 for k in data_titles}\n",
    "MT_BN_LL = {k : 0 for k in data_titles}\n",
    "MT_BN_RF_LL = {k : 0 for k in data_titles}\n",
    "\n",
    "for title in data_titles:\n",
    "    NE_LL[title] = AVG_LL(BN_NE(train[title], test[title]))\n",
    "    BN_CL_LL[title] = AVG_LL(Predict_Network(BN_CL(train[title], 1, 0), \n",
    "                                             test[title]))\n",
    "    MT_BN_LL[title] = AVG_LL(Predict_Mixture(MT_BN(train[title], valid[title], \n",
    "                                                   [3,5,10]), \n",
    "                                             test[title]))\n",
    "    n = len(train[title])\n",
    "    MT_BN_RF_LL[title] = AVG_LL(Predict_Mixture(MT_BN_RF(train[title], valid[title],\n",
    "                                [3,5,10], [n // 3, n // 5, n // 10]), test[title]))"
   ]
  },
  {
   "cell_type": "code",
   "execution_count": null,
   "metadata": {},
   "outputs": [],
   "source": [
    "print_str = \"\"\n",
    "for title in data_titles:\n",
    "    print_str += \"No edge LL of set \\'\" + title + \"\\':\" NE_LL[title] + \"\\n\"\n",
    "for title in data_titles:\n",
    "    print_str += \"Bayesian Network LL of set \\'\" + title + \"\\':\" BN_CL_LL[title] + \"\\n\"\n",
    "for title in data_titles:\n",
    "    print_str += \"Mixture Tree EM LL of set \\'\" + title + \"\\':\" MT_BN_LL[title] + \"\\n\"\n",
    "for title in data_titles:\n",
    "    print_str += \"Mixture Tree RF LL of set \\'\" + title + \"\\':\" MT_BN_RF_LL[title] + \"\\n\"\n",
    "    \n",
    "print(print_str)"
   ]
  }
 ],
 "metadata": {
  "kernelspec": {
   "display_name": "Python 2",
   "language": "python",
   "name": "python2"
  },
  "language_info": {
   "codemirror_mode": {
    "name": "ipython",
    "version": 2
   },
   "file_extension": ".py",
   "mimetype": "text/x-python",
   "name": "python",
   "nbconvert_exporter": "python",
   "pygments_lexer": "ipython2",
   "version": "2.7.16"
  }
 },
 "nbformat": 4,
 "nbformat_minor": 2
}
