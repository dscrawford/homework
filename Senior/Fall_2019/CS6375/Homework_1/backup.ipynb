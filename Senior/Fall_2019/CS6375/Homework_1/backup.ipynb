{
 "cells": [
  {
   "cell_type": "code",
   "execution_count": 1,
   "metadata": {},
   "outputs": [],
   "source": [
    "import pandas as pd\n",
    "import numpy as np\n",
    "from itertools import chain"
   ]
  },
  {
   "cell_type": "code",
   "execution_count": 14,
   "metadata": {},
   "outputs": [],
   "source": [
    "train_c1000_d1000 = pd.read_csv(\"./all_data/train_c1000_d1000.csv\")\n",
    "valid_c1000_d1000 = pd.read_csv(\"./all_data/valid_c1000_d1000.csv\")\n",
    "test_c1000_d1000  = pd.read_csv(\"./all_data/test_c1000_d1000.csv\")"
   ]
  },
  {
   "cell_type": "code",
   "execution_count": null,
   "metadata": {},
   "outputs": [],
   "source": [
    "def Var_Impurity(K, K_0, K_1):\n",
    "    return (K_0 * K_1) / K**2\n",
    "\n",
    "def Inf_Gain(H, X_col, S, tA):\n",
    "    sum = 0\n",
    "    K = len(S)\n",
    "    for x in np.unique(S[X_col]):\n",
    "        S_n = S[S[X_col] == x]\n",
    "        K_v = len(S_n)\n",
    "        K_0 = len(S_n[S_n[tA] == 0])\n",
    "        K_1 = K_v - K_0\n",
    "        sum = 0.0001#sum + (K_v / K) * Var_Impurity(K_v, K_0, K_1)\n",
    "    return H - sum;\n",
    "\n",
    "def Get_Best_Attribute(S, H, tA):\n",
    "    H = Var_Impurity(len(S), len(S[S[tA] == 0]), len(S[S[tA] == 1]))\n",
    "    max_gain = (0, 0)\n",
    "    features = S.columns[S.columns != tA]\n",
    "    for col in features:\n",
    "        new_gain = Inf_Gain(H, col, S, tA)\n",
    "        max_gain = (col, new_gain) if (new_gain > max_gain[1])  else max_gain\n",
    "    return x_j\n",
    "\n",
    "#Take in data S and target attribute tA\n",
    "def Grow_Tree(S, tA):\n",
    "    s_uniq = S[tA].unique();\n",
    "    if (len(s_uniq) == 1 and s_uniq[0] == 0):\n",
    "        return (0)\n",
    "    elif (len(s_uniq) == 1 and s_uniq[0] == 1):\n",
    "        return (1)\n",
    "    else:\n",
    "        Get_Best_Attribute(S,\n",
    "                           Var_Impurity(len(S), len(S[S[tA] == 0]), len(S[S[tA] == 1])),\n",
    "                           tA)\n",
    "        S_0 = S[S[x_j] == 0]\n",
    "        S_1 = S[S[x_j] == 1]\n",
    "        return (x_j, Grow_Tree(S_0, tA), Grow_Tree(S_1, tA))\n",
    "    \n",
    "def ID3_Grow_Tree(S, tA):\n",
    "    node = ();\n",
    "    s_uniq = S[tA].unique();\n",
    "    if (len(s_uniq) == 1 and s_uniq[0] == 0):\n",
    "        return 0\n",
    "    elif (len(s_uniq) == 1 and s_uniq[0] == 1):\n",
    "        return 1\n",
    "    if (len(S.columns[S.columns != tA]) == 0):\n",
    "        return 1 if len(S[S[tA] == 1]) > len(S[S[tA] == 0]) else 0\n",
    "    \n",
    "    x_j = Get_Best_Attribute(S,\n",
    "                             Var_Impurity(len(S), len(S[S[tA] == 0]), len(S[S[tA] == 1])),\n",
    "                             tA)\n",
    "    for np.unique(S[x_j]):\n",
    "        \n",
    "    \n",
    "        "
   ]
  },
  {
   "cell_type": "code",
   "execution_count": 4,
   "metadata": {},
   "outputs": [],
   "source": [
    "import copy\n",
    "\n",
    "#Predict_Tree()\n",
    "# While not at leaf:\n",
    "#  If value has no nodes on left or right, break\n",
    "#  Find attribute at current node x_j\n",
    "#  Go left if value at x_j == 0, otherwise go right\n",
    "# pred = leaf.val\n",
    "\n",
    "def pred_tree(tree, data):\n",
    "    trav_tree = copy.copy(tree)\n",
    "    atLeaf = False\n",
    "    while True:\n",
    "        if trav_tree == 0 or trav_tree == 1:\n",
    "            break;\n",
    "        if data[str(trav_tree[0])] == 0:\n",
    "            trav_tree = trav_tree[1]\n",
    "        else:\n",
    "            trav_tree = trav_tree[2]\n",
    "    return trav_tree\n",
    "        \n",
    "def compare_result(tree, data):\n",
    "    pred = pred_tree(tree, data)\n",
    "    return pred == data['1']"
   ]
  },
  {
   "cell_type": "code",
   "execution_count": null,
   "metadata": {},
   "outputs": [
    {
     "name": "stdout",
     "output_type": "stream",
     "text": [
      ".............................................................................................................................................................................................................................................................................................................................................................................................................................................................................................................................................................................................................................................."
     ]
    }
   ],
   "source": [
    "tree = GrowTree(train_c1000_d1000, '1')"
   ]
  },
  {
   "cell_type": "code",
   "execution_count": 10,
   "metadata": {},
   "outputs": [],
   "source": [
    "accuracy = test_c1000_d1000.apply(lambda x: compare_result(tree, x)\n",
    "                                  , axis=1)\n",
    "len(accuracy[accuracy == True]) / len(accuracy)"
   ]
  }
 ],
 "metadata": {
  "kernelspec": {
   "display_name": "Python 3",
   "language": "python",
   "name": "python3"
  },
  "language_info": {
   "codemirror_mode": {
    "name": "ipython",
    "version": 3
   },
   "file_extension": ".py",
   "mimetype": "text/x-python",
   "name": "python",
   "nbconvert_exporter": "python",
   "pygments_lexer": "ipython3",
   "version": "3.7.3"
  }
 },
 "nbformat": 4,
 "nbformat_minor": 2
}
