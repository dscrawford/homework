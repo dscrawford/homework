{
 "cells": [
  {
   "cell_type": "code",
   "execution_count": 1,
   "metadata": {},
   "outputs": [],
   "source": [
    "from __future__ import division\n",
    "import pandas as pd\n",
    "import numpy  as np\n",
    "import os\n",
    "import re\n",
    "from collections import Counter\n",
    "import time, sys\n",
    "import math\n",
    "\n",
    "# Code made by Brain Khuu: https://stackoverflow.com/questions/3160699/python-progress-bar\n",
    "# update_progress() : Displays or updates a console progress bar\n",
    "## Accepts a float between 0 and 1. Any int will be converted to a float.\n",
    "## A value under 0 represents a 'halt'.\n",
    "## A value at 1 or bigger represents 100%\n",
    "def update_progress(progress):\n",
    "    \n",
    "    barLength = 10 # Modify this to change the length of the progress bar\n",
    "    status = \"\"\n",
    "    if isinstance(progress, int):\n",
    "        progress = float(progress)\n",
    "    if not isinstance(progress, float):\n",
    "        progress = 0\n",
    "        status = \"error: progress var must be float\\r\\n\"\n",
    "    if progress < 0:\n",
    "        progress = 0\n",
    "        status = \"\\nHalt...\\r\\n\"\n",
    "    if progress >= 1:\n",
    "        progress = 1\n",
    "        status = \"\\nDone...\\r\\n\"\n",
    "    block = int(round(barLength*progress))\n",
    "    text = \"\\rPercent: [{0}] {1}% {2}\".format( \"#\"*block + \"-\"*(barLength-block), progress*100, status)\n",
    "    sys.stdout.write(text)\n",
    "    sys.stdout.flush()"
   ]
  },
  {
   "cell_type": "code",
   "execution_count": 2,
   "metadata": {},
   "outputs": [],
   "source": [
    "directory = \"/home/daniel/Documents/homework/Senior/Fall_2019/CS6375/Homework_2/Code/\""
   ]
  },
  {
   "cell_type": "code",
   "execution_count": 130,
   "metadata": {},
   "outputs": [],
   "source": [
    "# Condense multiple whitespaces into one, grab only alphabetic words, convert to lowercase\n",
    "# and return array of words.\n",
    "def getAllWordsFromString(words):\n",
    "    return re.sub('\\s+', ' ',re.sub('[^a-zA-Z1-9]+', ' ', words)).strip().lower().split(\" \")\n",
    "\n",
    "# getCountOfWords\n",
    "# Create a dictionary with the count of each word in a string.\n",
    "def getCountOfWords(words, allUniqueWords):\n",
    "    allUniqueWordsDict = { i : 0 for i in allUniqueWords }\n",
    "    counts = Counter(getAllWordsFromString(words))\n",
    "    counts = {k : v for k, v in dict(counts).items() if k in allUniqueWordsDict}\n",
    "    return mergeTwoDicts(allUniqueWordsDict, counts)\n",
    "\n",
    "#getBernoulliWords\n",
    "# Create a dictionary that shows the existence of words as 1 or 0.\n",
    "def getBernoulliWords(words, allUniqueWords):\n",
    "    counts = getCountOfWords(words, allUniqueWords)\n",
    "    #Transform counts into existense\n",
    "    return { k : (0 if v == 0 else 1) for k , v in counts.items()}\n",
    "        \n",
    "def getCountOfWordsWithProgressBar(words, allUniqueWords, progress):\n",
    "    progress = round(progress,3)\n",
    "    update_progress(progress)\n",
    "    return getCountOfWords(words, allUniqueWords)\n",
    "\n",
    "def getBernoulliWithProgressBar(words, allUniqueWords, progress):\n",
    "    progress = round(progress,3)\n",
    "    update_progress(progress)\n",
    "    return getBernoulliWords(words, allUniqueWords)\n",
    "\n",
    "#getProduct of Probabilities\n",
    "# returns the log probability sum of all of the elements based on bayes\n",
    "# works with both bernoulli and bag of words model\n",
    "def getProductOfProbabities(text, T):\n",
    "    featureSums = T.sum().loc[[w for w in getAllWordsFromString(text) if w in T.columns]]\n",
    "    totalWords  = T.sum().sum()\n",
    "    return np.log( (featureSums + 1) / (totalWords + len(T.columns))).sum()\n",
    "\n",
    "def mergeTwoDicts(x, y):\n",
    "    z = x.copy()\n",
    "    z.update(y)\n",
    "    return z"
   ]
  },
  {
   "cell_type": "code",
   "execution_count": 4,
   "metadata": {},
   "outputs": [],
   "source": [
    "def naiveBayesOnModel(text, T):\n",
    "    p_0 = np.log(len(T[T['isSpam'] == 0]) / len(T)) + getProductOfProbabities(text, (T[T['isSpam'] == 0]).drop('isSpam', axis=1))\n",
    "    p_1 = np.log(len(T[T['isSpam'] == 1]) / len(T)) + getProductOfProbabities(text, (T[T['isSpam'] == 1]).drop('isSpam', axis=1))\n",
    "    return 0 if p_0 > p_1 else 1\n",
    "\n",
    "def MCAPUpdateWeights(T, learnRate, W):\n",
    "    changeW = learnRate * np.array([sum([T[x][i] * (y - (T[T['isSpam'] == 1][x].sum()) / T[x].sum())\n",
    "                    for i,y in enumerate(T['isSpam'])])\n",
    "               for x in ['a']])\n",
    "    \n",
    "    return W + changeW\n",
    "    \n",
    "def getDirectoryContents(dataDirectory):\n",
    "    contents = np.array([])\n",
    "    for fileName in os.listdir(dataDirectory):\n",
    "        contents = np.append(contents, [open(dataDirectory + fileName).read()])\n",
    "    return contents\n",
    "\n",
    "def getBagOfWordsDataFrame(data, allUniqueWords):\n",
    "    print \"Creating DataFrame with Bag Of Words as the feature...\"\n",
    "    attributes = set(allUniqueWords)\n",
    "    df = pd.DataFrame([getCountOfWordsWithProgressBar(d[1], attributes, i / (len(data) - 1))\n",
    "                       for i,d in enumerate(data)])\n",
    "    df.insert(0, 'isSpam', [d[0] for d in data])\n",
    "    return df\n",
    "\n",
    "def getBernoulliDataFrame(data, allUniqueWords):\n",
    "    print \"Creating DataFrame with Bernoulli model as the feature...\"\n",
    "    attributes = set(allUniqueWords)\n",
    "    df = pd.DataFrame([getBernoulliWithProgressBar(d[1], attributes, i / (len(data) - 1))\n",
    "                       for i,d in enumerate(data)])\n",
    "    df.insert(0, 'isSpam', [d[0] for d in data])\n",
    "    return df\n",
    "\n",
    "def getAccuracyOnNaiveBayes(Test, Train):\n",
    "    return sum(Test.apply(lambda x: naiveBayesOnModel(x['text'], Train) == x['isSpam'], axis=1)) / len(Test)    \n",
    "\n",
    "def PredictWithLR(T, W):\n",
    "    bias = W[0]\n",
    "    PY_1 = 1 / (1 + math.exp(bias + \n",
    "                             T.apply(lambda x: (T[x].sum() / T.sum().sum()) * W[x]).sum()))\n",
    "    PY_0 = 1 - PY_1\n",
    "    \n",
    "    return 1"
   ]
  },
  {
   "cell_type": "code",
   "execution_count": 5,
   "metadata": {},
   "outputs": [],
   "source": [
    "trainHamData  = [[0,f] for f in getDirectoryContents(directory + \"train/ham/\")]\n",
    "trainSpamData = [[1,f] for f in getDirectoryContents(directory + \"train/spam/\")]\n",
    "allTrainData  = trainHamData + trainSpamData\n",
    "testHamData   = [[0,f] for f in getDirectoryContents(directory + \"test/ham/\")]\n",
    "testSpamData  = [[1,f] for f in getDirectoryContents(directory + \"test/spam/\")]\n",
    "allTestData   = pd.DataFrame(testHamData + testSpamData).rename(columns={0: 'isSpam', 1: 'text'})"
   ]
  },
  {
   "cell_type": "code",
   "execution_count": 131,
   "metadata": {},
   "outputs": [],
   "source": [
    "#Transform all files into a single string.\n",
    "allTrainWords = ''.join([f[1] for f in allTrainData])\n",
    "#Retrieve all unique WORDS - Remove all words with numbers/punctuation and replace with space.\n",
    "allUniqueWords = np.unique(getAllWordsFromString(allTrainWords))"
   ]
  },
  {
   "cell_type": "code",
   "execution_count": 358,
   "metadata": {},
   "outputs": [
    {
     "name": "stdout",
     "output_type": "stream",
     "text": [
      "Creating DataFrame with Bernoulli model as the feature...\n",
      "Percent: [##########] 100%  \n",
      "Done...\n",
      "Creating DataFrame with Bernoulli model as the feature...\n",
      "Percent: [##########] 100%  \n",
      "Done...\n",
      "Creating DataFrame with Bag Of Words as the feature...\n",
      "Percent: [##########] 100%  \n",
      "Done...\n",
      "Creating DataFrame with Bag Of Words as the feature...\n",
      "Percent: [##########] 100%  \n",
      "Done...\n"
     ]
    }
   ],
   "source": [
    "#Get a dataframe with bernoulli as the feature\n",
    "trainB = getBernoulliDataFrame(allTrainData, allUniqueWords)\n",
    "testB  = getBernoulliDataFrame(testHamData + testSpamData, allUniqueWords)\n",
    "#Get a dataframe with bag of words as a feature for training\n",
    "trainBOW = getBagOfWordsDataFrame(allTrainData, allUniqueWords)\n",
    "testBOW  = getBagOfWordsDataFrame(testHamData + testSpamData, allUniqueWords)\n"
   ]
  },
  {
   "cell_type": "code",
   "execution_count": 193,
   "metadata": {},
   "outputs": [
    {
     "data": {
      "text/plain": [
       "0.9476987447698745"
      ]
     },
     "execution_count": 193,
     "metadata": {},
     "output_type": "execute_result"
    }
   ],
   "source": [
    "#Multinomial Bayes\n",
    "getAccuracyOnNaiveBayes(allTestData, trainBOW)"
   ]
  },
  {
   "cell_type": "code",
   "execution_count": 194,
   "metadata": {},
   "outputs": [
    {
     "data": {
      "text/plain": [
       "0.8828451882845189"
      ]
     },
     "execution_count": 194,
     "metadata": {},
     "output_type": "execute_result"
    }
   ],
   "source": [
    "#Discrete bayes\n",
    "getAccuracyOnNaiveBayes(allTestData, trainB)"
   ]
  },
  {
   "cell_type": "code",
   "execution_count": 349,
   "metadata": {
    "scrolled": true
   },
   "outputs": [],
   "source": [
    "import random\n",
    "def getProbYIsZero(scores):\n",
    "    return 1 / (1 + np.exp(-scores))\n",
    "\n",
    "def getProbYIsOne(scores):\n",
    "    return 1 - getProbYIsZero(scores)\n",
    "\n",
    "def getWeight(W, T):\n",
    "    predictions = getPredictions(W, T)\n",
    "    target      = T['isSpam']\n",
    "    attributes  = T.drop('isSpam', axis=1)\n",
    "    attributes.insert(0, 'x_0', 1)\n",
    "    gradient    = np.dot(attributes.T, target - predictions)\n",
    "    return gradient.astype(np.float64)\n",
    "\n",
    "def getLogLikelihood(W, T):\n",
    "    target = T['isSpam']\n",
    "    attributes = T.drop('isSpam', axis=1)\n",
    "    attributes.insert(0, 'isSpam', 1)\n",
    "    scores = np.dot(attributes, W)\n",
    "    return np.sum(target * scores - np.log(1 + np.exp(-scores)))\n",
    "\n",
    "def getPredictions(W, T):\n",
    "    return getProbYIsZero(np.dot(T,W)).astype(np.float64)\n",
    "    \n",
    "def getAccuracy(W, T):\n",
    "    return np.sum([T['isSpam'][i] == prediction.round() for i, prediction in enumerate(getPredictions(W,T))]) / len(T)\n",
    "\n",
    "def splitDataFrame(D, frac):\n",
    "    return (D[0: int(math.floor(len(D) * frac))], D[int(math.floor(len(D) * frac)): len(D)])\n",
    "\n",
    "def L2Regularization(D):\n",
    "    \n",
    "    \n",
    "def logisticRegression(D, numSteps, learningRate):\n",
    "    W = np.zeros(len(D.columns))\n",
    "    ham1, ham2   = splitDataFrame(D[D['isSpam'] == 0], 0.7)\n",
    "    spam1, spam2 = splitDataFrame(D[D['isSpam'] == 1], 0.7)\n",
    "    T = ham1.append(spam1).reset_index(drop=True)\n",
    "    V = ham2.append(spam2).reset_index(drop=True)\n",
    "    for i in range(1, numSteps):\n",
    "        W += learningRate * getWeight(W,T)\n",
    "        update_progress( round(i / (numSteps - 1), 3))\n",
    "    \n",
    "    return W\n"
   ]
  },
  {
   "cell_type": "code",
   "execution_count": 350,
   "metadata": {},
   "outputs": [
    {
     "name": "stdout",
     "output_type": "stream",
     "text": [
      "Percent: [##########] 100%  \n",
      "Done...\n"
     ]
    }
   ],
   "source": [
    "W = logisticRegression(trainBOW, 1000, 0.001)"
   ]
  },
  {
   "cell_type": "code",
   "execution_count": 361,
   "metadata": {},
   "outputs": [
    {
     "data": {
      "text/plain": [
       "array([0., 0., 0., 0., 0., 0., 0., 0., 0., 0., 0., 0., 0., 0., 0., 0., 0.,\n",
       "       0., 0., 1., 0., 0., 0., 0., 0., 0., 0., 0., 0., 0., 0., 0., 0., 0.,\n",
       "       0., 0., 0., 0., 0., 0., 0., 0., 0., 0., 0., 0., 0., 0., 0., 0., 0.,\n",
       "       0., 0., 0., 0., 0., 0., 0., 0., 0., 0., 0., 0., 0., 0., 0., 0., 1.,\n",
       "       0., 0., 0., 0., 1., 0., 0., 0., 0., 0., 0., 0., 0., 0., 0., 0., 0.,\n",
       "       0., 0., 0., 0., 0., 0., 0., 0., 0., 0., 0., 0., 0., 0., 0., 0., 0.,\n",
       "       0., 0., 0., 0., 0., 0., 0., 0., 0., 0., 0., 0., 0., 0., 0., 0., 0.,\n",
       "       0., 0., 0., 0., 0., 0., 0., 0., 0., 0., 0., 0., 0., 0., 0., 0., 1.,\n",
       "       0., 0., 0., 0., 0., 0., 0., 0., 0., 1., 0., 1., 0., 0., 1., 0., 0.,\n",
       "       0., 0., 0., 0., 0., 0., 0., 0., 0., 0., 0., 0., 0., 0., 0., 0., 1.,\n",
       "       0., 0., 0., 0., 0., 0., 0., 1., 0., 0., 0., 0., 0., 1., 0., 0., 0.,\n",
       "       0., 0., 1., 0., 0., 0., 0., 0., 0., 0., 0., 0., 0., 0., 0., 0., 0.,\n",
       "       0., 0., 0., 0., 0., 0., 0., 0., 0., 0., 0., 0., 0., 0., 0., 0., 0.,\n",
       "       0., 0., 0., 0., 0., 0., 0., 0., 1., 0., 0., 0., 0., 0., 1., 0., 0.,\n",
       "       0., 0., 1., 0., 0., 0., 0., 0., 0., 0., 0., 0., 0., 0., 0., 0., 0.,\n",
       "       0., 0., 0., 0., 0., 0., 0., 0., 0., 0., 0., 0., 0., 0., 0., 0., 0.,\n",
       "       0., 0., 0., 0., 0., 0., 0., 0., 0., 0., 0., 0., 0., 0., 0., 0., 1.,\n",
       "       0., 0., 0., 0., 0., 0., 1., 0., 0., 0., 0., 0., 0., 0., 0., 0., 0.,\n",
       "       0., 0., 0., 0., 0., 0., 0., 0., 0., 0., 0., 0., 0., 0., 0., 0., 0.,\n",
       "       0., 0., 0., 0., 0., 0., 0., 0., 0., 0., 0., 0., 0., 0., 0., 0., 0.,\n",
       "       0., 0., 0., 0., 0., 0., 0., 1., 1., 1., 1., 1., 1., 1., 1., 1., 1.,\n",
       "       0., 1., 1., 1., 1., 1., 1., 0., 0., 1., 1., 1., 1., 1., 1., 0., 1.,\n",
       "       1., 0., 1., 1., 1., 0., 1., 1., 1., 1., 1., 0., 1., 1., 1., 1., 1.,\n",
       "       1., 1., 1., 1., 1., 0., 1., 1., 1., 1., 1., 1., 1., 0., 1., 1., 1.,\n",
       "       1., 1., 1., 1., 1., 1., 1., 1., 1., 0., 1., 1., 1., 1., 1., 1., 1.,\n",
       "       1., 1., 1., 0., 0., 1., 1., 0., 1., 1., 1., 0., 1., 1., 1., 1., 1.,\n",
       "       1., 1., 1., 1., 1., 1., 0., 1., 0., 1., 1., 1., 0., 1., 1., 1., 0.,\n",
       "       1., 0., 1., 1., 0., 0., 1., 1., 0., 1., 1., 1., 1., 0., 1., 1., 1.,\n",
       "       1., 1.])"
      ]
     },
     "execution_count": 361,
     "metadata": {},
     "output_type": "execute_result"
    }
   ],
   "source": [
    "getPredictions(W, testBOW).round()"
   ]
  },
  {
   "cell_type": "code",
   "execution_count": 363,
   "metadata": {},
   "outputs": [
    {
     "data": {
      "text/plain": [
       "30.674050288388695"
      ]
     },
     "execution_count": 363,
     "metadata": {},
     "output_type": "execute_result"
    }
   ],
   "source": [
    "sum(W)"
   ]
  },
  {
   "cell_type": "code",
   "execution_count": 330,
   "metadata": {},
   "outputs": [
    {
     "data": {
      "text/plain": [
       "-5511.0747460628145"
      ]
     },
     "execution_count": 330,
     "metadata": {},
     "output_type": "execute_result"
    }
   ],
   "source": [
    "T = trainBOW\n",
    "target = T['isSpam']\n",
    "attributes = trainBOW.drop('isSpam',axis=1)\n",
    "attributes = T.drop('isSpam', axis=1)\n",
    "attributes.insert(0, 'isSpam', 1)\n",
    "scores = np.dot(attributes, W)\n",
    "np.sum( (target * scores) - np.log(1 + np.exp(-scores)))"
   ]
  },
  {
   "cell_type": "code",
   "execution_count": 318,
   "metadata": {},
   "outputs": [
    {
     "data": {
      "text/plain": [
       "(463,)"
      ]
     },
     "execution_count": 318,
     "metadata": {},
     "output_type": "execute_result"
    }
   ],
   "source": [
    "target.shape"
   ]
  },
  {
   "cell_type": "code",
   "execution_count": 319,
   "metadata": {},
   "outputs": [
    {
     "data": {
      "text/plain": [
       "(464,)"
      ]
     },
     "execution_count": 319,
     "metadata": {},
     "output_type": "execute_result"
    }
   ],
   "source": [
    "scores.shape"
   ]
  },
  {
   "cell_type": "code",
   "execution_count": 321,
   "metadata": {},
   "outputs": [
    {
     "data": {
      "text/plain": [
       "(463,)"
      ]
     },
     "execution_count": 321,
     "metadata": {},
     "output_type": "execute_result"
    }
   ],
   "source": [
    "target.shape"
   ]
  },
  {
   "cell_type": "code",
   "execution_count": 328,
   "metadata": {},
   "outputs": [
    {
     "data": {
      "text/plain": [
       "array([ -22.43338145,  -13.11139517,  -31.30021004, -119.1550345 ,\n",
       "         -7.65096237,   -6.18366824,   -6.28645799,   -5.49369181,\n",
       "        -12.38707574,   -6.39262841,   -7.10288871,   -2.30738332,\n",
       "        -22.04743293,  -32.10563948,   -6.58554926,  -13.13136033,\n",
       "         -2.039782  , -106.31893081,   -4.91578923,  -15.59978861,\n",
       "        -26.19464116,   -6.42310172,   -6.4168706 ,  -31.52646781,\n",
       "         -8.5187136 ,   -6.15530987,  -10.26144115,   -6.65015591,\n",
       "        -25.55137228,   -9.86858177,  -74.44060837,   -6.88419247,\n",
       "         -6.84538524,  -21.73550874,   -6.88542163,   -3.62275985,\n",
       "        -66.04646064,  -15.28944505,  -14.28734202,   -7.1288302 ,\n",
       "        -22.47388154,  -13.87418358,   -8.94964863,   -6.95960253,\n",
       "         -5.24700091,   -9.51328878,  -13.44599337,   -6.48870624,\n",
       "         -3.81524737,  -20.37050368,   -1.5732571 ,   -4.55096863,\n",
       "        -24.21328783,   -8.81309411,   -6.98482107,   -7.89401157,\n",
       "         -3.30992488,  -28.6334721 ,   -2.24468805,   -2.58778791,\n",
       "         -8.27669081,  -14.64310046,  -55.90108638,   -7.48771357,\n",
       "        -12.6713681 ,  -15.40878946,   -3.76015366,   -5.11340068,\n",
       "        -14.69209661,  -10.19859167,   -3.22770634,  -42.54480659,\n",
       "         -4.27193484,   -3.12225688,   -1.60875512,   -7.31686983,\n",
       "        -21.38154729,   -6.00091344,  -14.22518857,  -28.04915612,\n",
       "        -10.67584498,  -14.19507943,  -34.68961974, -145.15915327,\n",
       "         -5.25480966,  -18.36883468,  -24.438172  ,   -3.22878611,\n",
       "        -12.17883396,   -3.69031415,   -6.76824179,   -1.36656368,\n",
       "        -31.76808045,   -9.76982332,  -45.20056994,  -14.77676604,\n",
       "         -5.40427179,  -10.65805421,  -11.87998515,  -27.7826917 ,\n",
       "        -11.54392129,   -5.75899167,   -6.8851615 ,   -7.99516563,\n",
       "         -9.53160162,   -9.35805071,   -4.48673764,   -5.24622408,\n",
       "         -6.82919809,  -12.87359651,   -3.97602318,   -4.84447187,\n",
       "        -31.73652301,  -16.72671921,   -5.54432685,  -20.93263946,\n",
       "         -3.20869443,   -3.88144426,  -47.06335126,  -13.87418358,\n",
       "         -4.28293978,   -7.26985021,   -4.60629003,   -9.77304347,\n",
       "       -114.98519456,  -11.50519934,  -17.7985182 ,  -14.33288076,\n",
       "         -5.36902747,  -42.13238766,   -6.62031569,   -4.90548389,\n",
       "         -3.27911198,   -6.28201943,   -8.27080151,  -12.55096817,\n",
       "        -99.71329744,  -25.85543293,   -6.45881165,  -20.37050368,\n",
       "        -19.88694458, -186.3385788 ,   -6.52697823,   -4.65363064,\n",
       "        -14.34860706,  -51.56478041,   -4.46981484,   -6.95965537,\n",
       "         -5.27900444,  -49.95186025,  -20.72163156,  -11.3713703 ,\n",
       "        -71.97721786,   -6.52818409,  -13.08903167,   -5.10555539,\n",
       "         -3.42513391,   -9.6386235 ,   -4.8469091 ,   -8.457929  ,\n",
       "         -6.29659583,   -5.09292981,  -51.63730828,  -11.7102116 ,\n",
       "        -18.71828126,   -5.32375986,   -4.02870269,   -3.91754805,\n",
       "         -4.02347454,  -35.06101469,  -14.49032161,  -12.47858452,\n",
       "        -12.22465491,  -11.39786269,   -4.40658825,   -3.76099543,\n",
       "        -10.78403441,   -5.44868716,  -56.91125628,   -6.41101447,\n",
       "       -117.24863541,  -24.08213593,  -13.65820756,  -10.11354136,\n",
       "         -8.29134187,  -14.77862507,   -5.76462236,  -98.3853794 ,\n",
       "        -12.09854415,   -7.93052976,  -23.31356215,  -25.05857247,\n",
       "         -5.98472458,   -3.13677233,  -26.78380844,   -8.2864725 ,\n",
       "         -8.5131394 ,  -12.92176015,  -16.18791176,  -28.49701218,\n",
       "         -7.22593314,   -7.55692241,  -14.35952461,   -6.19112315,\n",
       "        -12.63777057,   -7.15298228,   -6.3528251 ,   -7.77611241,\n",
       "        -20.9468886 ,   -4.00965426,  -32.88118864,  -11.07152233,\n",
       "         -9.29536873,  -26.94869718,  -99.39490703, -173.44240878,\n",
       "         -7.53331063,  -19.59714198,   -7.4722048 ,  -94.61376222,\n",
       "         -4.22005697, -256.36830081,  -18.86624315,  -57.69026772,\n",
       "        -23.16873813,  -10.23612454,   -4.35148295,   -7.88067695,\n",
       "        -52.17357001,  -27.95691484,   -7.60252877,   -5.34888488,\n",
       "        -24.85675405,  -12.76555242,   -4.987557  ,  -62.3171414 ,\n",
       "        -31.93664845,  -17.83284544,   -7.32543023,  -25.20611931,\n",
       "         -5.48572667,   -3.24291221,   -5.56241942,  -11.72565104,\n",
       "         -3.81089623,   -5.02023667,  -15.91436355,  -20.30275342,\n",
       "         -7.4540369 ,   -8.02195871,   -4.97371952,   -6.99513325,\n",
       "        -12.7082126 ,   -6.04263382,  -18.57063089,  -36.19655633,\n",
       "         -6.48522692,  -29.91433741,  -88.70418365,   -4.38120308,\n",
       "       -108.44740878,  -20.69288391,  -11.20704055,   -4.0123659 ,\n",
       "        -12.44666163,   -6.13547214,   -7.41808955,  -11.13110923,\n",
       "        -16.87263513,   -6.4473112 ,   -9.50956193,  -77.80849359,\n",
       "        -55.25984578,  -14.44491804,   -2.39199182,  -23.3204771 ,\n",
       "        -21.79776715,   -5.05887412,  -11.47333234,   -2.79015013,\n",
       "        -25.13694427,  -13.18927776,  -23.65975923,  -26.16678502,\n",
       "        -27.39470443,   -8.44315886,  -11.74763707,   -4.10025444,\n",
       "         -7.19333172,  -70.20190832,   -5.62571243,  -19.07999343,\n",
       "        -11.56686732,  -27.96320585,   -8.89535159,   -6.74387307,\n",
       "         -5.3977829 ,   -8.5670064 ,  -24.54429411,  -11.73626693,\n",
       "         -6.20269894,   -6.57804233,   -7.57566229,  -19.82477518,\n",
       "         -9.8474053 ,  -27.23100789,   -9.25561522,  -12.07092412,\n",
       "        -15.3223079 ,  -12.3499441 ,   -3.44827826,   -8.93277762,\n",
       "         -8.63208505,   -9.13823161,   -7.75336617,   -6.40091749,\n",
       "         -6.53490621,   -5.38031548,  -11.77483104,   -5.64947411,\n",
       "        -12.11113743,   -4.03367287,   -8.85019073,   -5.89452141,\n",
       "        -11.60346092,   -3.51590189,   -2.62236855,  -16.19362659,\n",
       "        -42.41388627,  -19.26228377,  -11.41702356,  -27.17547052,\n",
       "         -5.44380682,   -8.79602941,   -8.04571943,   -8.77173034,\n",
       "         -5.04990995,  -18.92037393,  -45.34405387,   -8.44887351,\n",
       "          7.28949325,    3.44293658,    5.38148951,    3.83355197,\n",
       "          5.61227768,    1.5431217 ,    4.01660093,   24.85617802,\n",
       "          5.17301134,    7.10783012,    2.41746012,    2.61393033,\n",
       "          4.61973138,    3.99534684,    5.18870132,    5.47960219,\n",
       "          6.40996094,    5.24135832,    4.75221911,    4.5054882 ,\n",
       "          8.726199  ,    4.40113487,    6.53053993,    3.12494211,\n",
       "         16.17146532,    5.08223336,    4.25129133,    4.3807827 ,\n",
       "          6.16397812,    7.9303056 ,    5.44357578,    4.55544832,\n",
       "          4.14096924,    3.65609547,    2.36641501,    4.20698675,\n",
       "         12.91387499,    3.91911258,    5.29036977,    5.83775783,\n",
       "         29.97676262,    7.59976505,   12.22320921,    8.48799586,\n",
       "          6.11862112,    3.55413652,    8.88752348,   38.90033914,\n",
       "          1.62052417,    3.40671457,    4.28781434,    5.858458  ,\n",
       "          9.3594745 ,   20.10400113,    4.7868053 ,    8.15956638,\n",
       "          6.14698897,    3.42729878,    3.84543905,    1.92708205,\n",
       "         10.44689278,    3.3989227 ,    7.45456277,    4.42340798,\n",
       "         11.85695365,    3.47055057,    5.81205939,    5.50988232,\n",
       "          7.04713245,    5.46734748,   10.91646954,    7.38110019,\n",
       "          4.66925297,    7.39152299,    3.50739914,    3.91063306,\n",
       "          8.74757379,    6.42936505,    0.92823889,   14.52285836,\n",
       "          6.89117086,    6.35968347,    4.0448345 ,   13.3392567 ,\n",
       "          1.61534356,    7.28095696,    5.55173827,   13.14346729,\n",
       "          3.98477759,    0.25716229,    5.38657621,    9.14167837,\n",
       "          9.40474211,    6.53464749,    4.68846215,    7.32264085,\n",
       "          5.34370118,    4.65569177,    5.35170837,    2.38653749,\n",
       "          6.08614329,    7.52090022,    1.78475243,    3.57921322,\n",
       "          5.03525309,    1.6847346 ,    2.30662575,    4.66038765,\n",
       "          2.15866939,    6.73155524,    7.22929781,    6.89999333,\n",
       "          4.27508665,    3.9213658 ,    3.7367922 ,    6.67481117,\n",
       "          6.12512197,    3.76912365,    8.78256278,    6.4083794 ,\n",
       "          5.86510896,    8.95947119,    5.21860313])"
      ]
     },
     "execution_count": 328,
     "metadata": {},
     "output_type": "execute_result"
    }
   ],
   "source": [
    "scores +"
   ]
  },
  {
   "cell_type": "code",
   "execution_count": 329,
   "metadata": {},
   "outputs": [
    {
     "data": {
      "text/plain": [
       "array([ -22.15240083,  -12.83041456,  -31.01922942, -118.87405388,\n",
       "         -7.36998176,   -5.90268762,   -6.00547737,   -5.21271119,\n",
       "        -12.10609513,   -6.1116478 ,   -6.82190809,   -2.02640271,\n",
       "        -21.76645232,  -31.82465886,   -6.30456864,  -12.85037971,\n",
       "         -1.75880138, -106.03795019,   -4.63480861,  -15.318808  ,\n",
       "        -25.91366054,   -6.1421211 ,   -6.13588998,  -31.2454872 ,\n",
       "         -8.23773299,   -5.87432925,   -9.98046053,   -6.3691753 ,\n",
       "        -25.27039166,   -9.58760115,  -74.15962775,   -6.60321186,\n",
       "         -6.56440462,  -21.45452812,   -6.60444101,   -3.34177923,\n",
       "        -65.76548003,  -15.00846444,  -14.0063614 ,   -6.84784959,\n",
       "        -22.19290093,  -13.59320296,   -8.66866802,   -6.67862191,\n",
       "         -4.96602029,   -9.23230816,  -13.16501275,   -6.20772562,\n",
       "         -3.53426675,  -20.08952307,   -1.29227649,   -4.26998802,\n",
       "        -23.93230721,   -8.53211349,   -6.70384046,   -7.61303095,\n",
       "         -3.02894426,  -28.35249148,   -1.96370744,   -2.30680729,\n",
       "         -7.99571019,  -14.36211984,  -55.62010576,   -7.20673295,\n",
       "        -12.39038748,  -15.12780884,   -3.47917304,   -4.83242006,\n",
       "        -14.41111599,   -9.91761105,   -2.94672572,  -42.26382597,\n",
       "         -3.99095422,   -2.84127627,   -1.32777451,   -7.03588921,\n",
       "        -21.10056668,   -5.71993283,  -13.94420795,  -27.7681755 ,\n",
       "        -10.39486436,  -13.91409881,  -34.40863912, -144.87817265,\n",
       "         -4.97382904,  -18.08785406,  -24.15719138,   -2.94780549,\n",
       "        -11.89785334,   -3.40933353,   -6.48726117,   -1.08558307,\n",
       "        -31.48709983,   -9.48884271,  -44.91958933,  -14.49578543,\n",
       "         -5.12329117,  -10.37707359,  -11.59900453,  -27.50171108,\n",
       "        -11.26294068,   -5.47801105,   -6.60418089,   -7.71418501,\n",
       "         -9.250621  ,   -9.0770701 ,   -4.20575702,   -4.96524346,\n",
       "         -6.54821748,  -12.59261589,   -3.69504256,   -4.56349126,\n",
       "        -31.45554239,  -16.44573859,   -5.26334623,  -20.65165884,\n",
       "         -2.92771381,   -3.60046364,  -46.78237064,  -13.59320296,\n",
       "         -4.00195916,   -6.98886959,   -4.32530941,   -9.49206285,\n",
       "       -114.70421394,  -11.22421872,  -17.51753758,  -14.05190015,\n",
       "         -5.08804685,  -41.85140704,   -6.33933507,   -4.62450328,\n",
       "         -2.99813136,   -6.00103882,   -7.9898209 ,  -12.26998756,\n",
       "        -99.43231682,  -25.57445231,   -6.17783103,  -20.08952307,\n",
       "        -19.60596397, -186.05759819,   -6.24599761,   -4.37265003,\n",
       "        -14.06762645,  -51.28379979,   -4.18883422,   -6.67867476,\n",
       "         -4.99802382,  -49.67087963,  -20.44065094,  -11.09038968,\n",
       "        -71.69623724,   -6.24720347,  -12.80805105,   -4.82457477,\n",
       "         -3.1441533 ,   -9.35764288,   -4.56592848,   -8.17694838,\n",
       "         -6.01561521,   -4.81194919,  -51.35632766,  -11.42923098,\n",
       "        -18.43730064,   -5.04277924,   -3.74772207,   -3.63656743,\n",
       "         -3.74249392,  -34.78003408,  -14.209341  ,  -12.1976039 ,\n",
       "        -11.94367429,  -11.11688207,   -4.12560764,   -3.48001481,\n",
       "        -10.50305379,   -5.16770654,  -56.63027566,   -6.13003385,\n",
       "       -116.96765479,  -23.80115531,  -13.37722694,   -9.83256075,\n",
       "         -8.01036125,  -14.49764445,   -5.48364175,  -98.10439879,\n",
       "        -11.81756353,   -7.64954915,  -23.03258153,  -24.77759185,\n",
       "         -5.70374396,   -2.85579171,  -26.50282782,   -8.00549188,\n",
       "         -8.23215879,  -12.64077953,  -15.90693115,  -28.21603156,\n",
       "         -6.94495252,   -7.27594179,  -14.07854399,   -5.91014253,\n",
       "        -12.35678995,   -6.87200166,   -6.07184448,   -7.4951318 ,\n",
       "        -20.66590798,   -3.72867364,  -32.60020802,  -10.79054171,\n",
       "         -9.01438811,  -26.66771656,  -99.11392641, -173.16142816,\n",
       "         -7.25233001,  -19.31616136,   -7.19122418,  -94.3327816 ,\n",
       "         -3.93907635, -256.08732019,  -18.58526254,  -57.40928711,\n",
       "        -22.88775751,   -9.95514393,   -4.07050233,   -7.59969634,\n",
       "        -51.89258939,  -27.67593422,   -7.32154816,   -5.06790426,\n",
       "        -24.57577343,  -12.4845718 ,   -4.70657638,  -62.03616079,\n",
       "        -31.65566784,  -17.55186482,   -7.04444961,  -24.92513869,\n",
       "         -5.20474605,   -2.96193159,   -5.2814388 ,  -11.44467043,\n",
       "         -3.52991561,   -4.73925605,  -15.63338293,  -20.0217728 ,\n",
       "         -7.17305629,   -7.74097809,   -4.6927389 ,   -6.71415263,\n",
       "        -12.42723198,   -5.7616532 ,  -18.28965027,  -35.91557572,\n",
       "         -6.20424631,  -29.63335679,  -88.42320303,   -4.10022246,\n",
       "       -108.16642816,  -20.41190329,  -10.92605993,   -3.73138529,\n",
       "        -12.16568101,   -5.85449152,   -7.13710893,  -10.85012862,\n",
       "        -16.59165451,   -6.16633058,   -9.22858131,  -77.52751297,\n",
       "        -54.97886516,  -14.16393742,   -2.1110112 ,  -23.03949649,\n",
       "        -21.51678654,   -4.77789351,  -11.19235172,   -2.50916952,\n",
       "        -24.85596366,  -12.90829715,  -23.37877862,  -25.8858044 ,\n",
       "        -27.11372381,   -8.16217825,  -11.46665646,   -3.81927382,\n",
       "         -6.9123511 ,  -69.92092771,   -5.34473181,  -18.79901282,\n",
       "        -11.2858867 ,  -27.68222523,   -8.61437098,   -6.46289246,\n",
       "         -5.11680228,   -8.28602579,  -24.26331349,  -11.45528632,\n",
       "         -5.92171833,   -6.29706171,   -7.29468167,  -19.54379456,\n",
       "         -9.56642469,  -26.95002727,   -8.97463461,  -11.7899435 ,\n",
       "        -15.04132728,  -12.06896349,   -3.16729765,   -8.651797  ,\n",
       "         -8.35110443,   -8.85725099,   -7.47238555,   -6.11993688,\n",
       "         -6.25392559,   -5.09933486,  -11.49385042,   -5.3684935 ,\n",
       "        -11.83015681,   -3.75269225,   -8.56921012,   -5.61354079,\n",
       "        -11.3224803 ,   -3.23492127,   -2.34138793,  -15.91264597,\n",
       "        -42.13290565,  -18.98130315,  -11.13604295,  -26.8944899 ,\n",
       "         -5.16282621,   -8.51504879,   -7.76473881,   -8.49074973,\n",
       "         -4.76892933,  -18.63939332,  -45.06307325,   -8.1678929 ,\n",
       "          7.57047386,    3.7239172 ,    5.66247012,    4.11453259,\n",
       "          5.89325829,    1.82410232,    4.29758154,   25.13715864,\n",
       "          5.45399196,    7.38881074,    2.69844074,    2.89491095,\n",
       "          4.900712  ,    4.27632746,    5.46968194,    5.7605828 ,\n",
       "          6.69094155,    5.52233894,    5.03319972,    4.78646882,\n",
       "          9.00717962,    4.68211549,    6.81152055,    3.40592273,\n",
       "         16.45244594,    5.36321398,    4.53227195,    4.66176332,\n",
       "          6.44495874,    8.21128622,    5.7245564 ,    4.83642894,\n",
       "          4.42194986,    3.93707609,    2.64739563,    4.48796737,\n",
       "         13.1948556 ,    4.20009319,    5.57135039,    6.11873845,\n",
       "         30.25774324,    7.88074567,   12.50418982,    8.76897648,\n",
       "          6.39960174,    3.83511713,    9.1685041 ,   39.18131976,\n",
       "          1.90150479,    3.68769519,    4.56879496,    6.13943862,\n",
       "          9.64045512,   20.38498175,    5.06778592,    8.440547  ,\n",
       "          6.42796958,    3.7082794 ,    4.12641967,    2.20806267,\n",
       "         10.7278734 ,    3.67990332,    7.73554339,    4.7043886 ,\n",
       "         12.13793427,    3.75153118,    6.09304001,    5.79086293,\n",
       "          7.32811307,    5.74832809,   11.19745016,    7.66208081,\n",
       "          4.95023358,    7.67250361,    3.78837976,    4.19161368,\n",
       "          9.02855441,    6.71034567,    1.2092195 ,   14.80383897,\n",
       "          7.17215148,    6.64066408,    4.32581512,   13.62023732,\n",
       "          1.89632417,    7.56193758,    5.83271889,   13.42444791,\n",
       "          4.26575821,    0.53814291,    5.66755682,    9.42265899,\n",
       "          9.68572273,    6.81562811,    4.96944276,    7.60362147,\n",
       "          5.6246818 ,    4.93667239,    5.63268899,    2.66751811,\n",
       "          6.36712391,    7.80188084,    2.06573305,    3.86019384,\n",
       "          5.31623371,    1.96571522,    2.58760637,    4.94136827,\n",
       "          2.43965   ,    7.01253585,    7.51027843,    7.18097395,\n",
       "          4.55606726,    4.20234642,    4.01777281,    6.95579179,\n",
       "          6.40610258,    4.05010426,    9.0635434 ,    6.68936002,\n",
       "          6.14608958,    9.24045181,    5.49958374])"
      ]
     },
     "execution_count": 329,
     "metadata": {},
     "output_type": "execute_result"
    }
   ],
   "source": []
  },
  {
   "cell_type": "code",
   "execution_count": null,
   "metadata": {},
   "outputs": [],
   "source": []
  }
 ],
 "metadata": {
  "kernelspec": {
   "display_name": "Python 2",
   "language": "python",
   "name": "python2"
  },
  "language_info": {
   "codemirror_mode": {
    "name": "ipython",
    "version": 2
   },
   "file_extension": ".py",
   "mimetype": "text/x-python",
   "name": "python",
   "nbconvert_exporter": "python",
   "pygments_lexer": "ipython2",
   "version": "2.7.16"
  }
 },
 "nbformat": 4,
 "nbformat_minor": 2
}
