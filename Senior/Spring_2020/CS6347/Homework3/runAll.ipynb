{
 "cells": [
  {
   "cell_type": "code",
   "execution_count": 1,
   "metadata": {
    "collapsed": true,
    "pycharm": {
     "is_executing": false
    }
   },
   "outputs": [],
   "source": [
    "import varElim\n",
    "import random\n",
    "import time"
   ]
  },
  {
   "cell_type": "code",
   "execution_count": 2,
   "outputs": [],
   "source": [
    "random.seed(10)\n",
    "files = list(enumerate(['Grids_14', 'Grids_15', 'Grids_16', 'Grids_17', 'Grids_18']))\n",
    "def ComputeMatrix(i,fileName):\n",
    "    N = [100, 1000, 10000, 20000]\n",
    "    M = [0 for _ in range(len(N) * 2)]\n",
    "    T = [0 for _ in range(len(N) * 2)]\n",
    "    print('FILE:', fileName, ':')\n",
    "    network = varElim.GraphicalModel(fileName)\n",
    "    for a in [0, 1]:\n",
    "        for j, n in enumerate(N):\n",
    "            print(fileName, n, a)\n",
    "            t = time.time()\n",
    "            M[j + a * len(N)] = network.sampleSumOut(i+1, n, a)\n",
    "            T[j + a * len(N)] = time.time() - t\n",
    "    return M,T"
   ],
   "metadata": {
    "collapsed": false,
    "pycharm": {
     "name": "#%%\n",
     "is_executing": false
    }
   }
  },
  {
   "cell_type": "code",
   "execution_count": null,
   "outputs": [
    {
     "name": "stdout",
     "text": [
      "FILE: Grids_17 :\n",
      "FILE: Grids_15 :\n",
      "FILE: Grids_14 :\n",
      "FILE: Grids_18 :\n",
      "FILE: Grids_16 :\n",
      "Grids_14 100 0\n",
      "Grids_16 100 0\n",
      "Grids_17 100 0\n",
      "Grids_15 100 0\n",
      "Grids_18 100 0\n",
      "Grids_14 1000 0\n",
      "Grids_14 10000 0\n",
      "Grids_17 1000 0\n",
      "Grids_18 1000 0\n",
      "Grids_16 1000 0\n",
      "Grids_15 1000 0\n",
      "Grids_14 20000 0\n",
      "Grids_18 10000 0\n",
      "Grids_17 10000 0\n",
      "Grids_16 10000 0\n",
      "Grids_15 10000 0\n"
     ],
     "output_type": "stream"
    }
   ],
   "source": [
    "from multiprocessing.pool import Pool\n",
    "pool = Pool(processes=5)\n",
    "\n",
    "a = pool.starmap(ComputeMatrix, files)"
   ],
   "metadata": {
    "collapsed": false,
    "pycharm": {
     "name": "#%%\n",
     "is_executing": true
    }
   }
  },
  {
   "cell_type": "code",
   "execution_count": 17,
   "outputs": [
    {
     "data": {
      "text/plain": "[([0, 0, 0, 0, 0, 0, 0, 0],\n  [2.384185791015625e-06,\n   3.0994415283203125e-06,\n   1.6689300537109375e-06,\n   2.1457672119140625e-06,\n   1.6689300537109375e-06,\n   3.5762786865234375e-06,\n   2.6226043701171875e-06,\n   2.384185791015625e-06]),\n ([0, 0, 0, 0, 0, 0, 0, 0],\n  [1.6689300537109375e-06,\n   1.6689300537109375e-06,\n   1.9073486328125e-06,\n   1.6689300537109375e-06,\n   1.9073486328125e-06,\n   0.00012540817260742188,\n   1.430511474609375e-06,\n   1.6689300537109375e-06]),\n ([0, 0, 0, 0, 0, 0, 0, 0],\n  [2.384185791015625e-06,\n   3.0994415283203125e-06,\n   2.86102294921875e-06,\n   4.5299530029296875e-06,\n   1.430511474609375e-06,\n   2.384185791015625e-06,\n   3.5762786865234375e-06,\n   3.0994415283203125e-06]),\n ([0, 0, 0, 0, 0, 0, 0, 0],\n  [4.5299530029296875e-06,\n   3.337860107421875e-06,\n   1.9073486328125e-06,\n   2.1457672119140625e-06,\n   2.384185791015625e-06,\n   2.384185791015625e-06,\n   2.384185791015625e-06,\n   2.384185791015625e-06]),\n ([0, 0, 0, 0, 0, 0, 0, 0],\n  [1.6689300537109375e-06,\n   2.1457672119140625e-06,\n   3.5762786865234375e-06,\n   2.384185791015625e-06,\n   2.384185791015625e-06,\n   2.384185791015625e-06,\n   2.86102294921875e-06,\n   1.430511474609375e-06])]"
     },
     "metadata": {},
     "output_type": "execute_result",
     "execution_count": 17
    }
   ],
   "source": [],
   "metadata": {
    "collapsed": false,
    "pycharm": {
     "name": "#%%",
     "is_executing": false
    }
   }
  }
 ],
 "metadata": {
  "kernelspec": {
   "display_name": "Python 3",
   "language": "python",
   "name": "python3"
  },
  "language_info": {
   "codemirror_mode": {
    "name": "ipython",
    "version": 2
   },
   "file_extension": ".py",
   "mimetype": "text/x-python",
   "name": "python",
   "nbconvert_exporter": "python",
   "pygments_lexer": "ipython2",
   "version": "2.7.6"
  },
  "pycharm": {
   "stem_cell": {
    "cell_type": "raw",
    "source": [],
    "metadata": {
     "collapsed": false
    }
   }
  }
 },
 "nbformat": 4,
 "nbformat_minor": 0
}